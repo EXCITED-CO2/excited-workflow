{
 "cells": [
  {
   "cell_type": "markdown",
   "metadata": {},
   "source": [
    "# Creating a monthly NEE dataset, using CarbonTracker model\n",
    "\n",
    "This notebook outlines the workflow for creating a monthly NEE dataset. You first need to have run the CarbonTracker workflow to train and create the model. \n",
    "\n",
    "To create the dataset you need:\n",
    "\n",
    "- CarbonTracker model\n",
    "- ERA5 (monthly)\n",
    "- ERA5-land (monthly)\n",
    "- SPEI (monthly)\n",
    "- MODIS (monthly)\n",
    "- Biomass (yearly)\n",
    "- Copernicus Landcover (yearly)\n"
   ]
  },
  {
   "cell_type": "code",
   "execution_count": 1,
   "metadata": {},
   "outputs": [],
   "source": [
    "from pathlib import Path\n",
    "\n",
    "import xarray as xr\n",
    "from dask.distributed import Client\n",
    "\n",
    "import excited_workflow\n",
    "from excited_workflow import monthly_nee\n",
    "from excited_workflow.source_datasets import datasets\n",
    "\n",
    "\n",
    "client = Client()"
   ]
  },
  {
   "cell_type": "code",
   "execution_count": null,
   "metadata": {},
   "outputs": [],
   "source": [
    "cb_file= Path(\"/data/volume_2/EXCITED_prepped_data/CT2022.flux1x1-monthly.nc\")\n",
    "regions_file = Path(\"/data/volume_2/EXCITED_prepped_data/regions.nc\")\n",
    "home_path = Path.home()\n",
    "model_dir = sorted(list(home_path.rglob(\"carbon_tracker-*\")))[-1]\n",
    "data_dir = home_path / \"data/volume_2\"\n",
    "\n",
    "desired_data = [\n",
    "    \"biomass\",\n",
    "    \"spei\",\n",
    "    \"modis\",\n",
    "    \"era5_monthly\",\n",
    "    \"era5_land_monthly\",\n",
    "    \"copernicus_landcover\"\n",
    "]\n",
    "\n",
    "x_keys = [\"d2m\", \"mslhf\", \"msshf\", \"ssr\", \"str\", \"t2m\", \"spei\", \"NIRv\", \"skt\",\n",
    "            \"stl1\", \"swvl1\", \"lccs_class\"]\n",
    "y_key = \"bio_flux_opt\""
   ]
  },
  {
   "cell_type": "code",
   "execution_count": null,
   "metadata": {},
   "outputs": [],
   "source": [
    "ds_cb = xr.open_dataset(cb_file)\n",
    "ds_cb = excited_workflow.utils.convert_timestamps(ds_cb)\n",
    "ds_regions = xr.open_dataset(regions_file)\n",
    "ds_input = xr.merge(\n",
    "    [\n",
    "        datasets[name].load(freq=\"monthly\", target_grid=ds_cb)\n",
    "        for name in desired_data\n",
    "    ]\n",
    ")"
   ]
  },
  {
   "cell_type": "code",
   "execution_count": null,
   "metadata": {},
   "outputs": [],
   "source": [
    "ds_regions = xr.open_dataset(regions_file)\n",
    "ds_cb = excited_workflow.utils.convert_timestamps(ds_cb)"
   ]
  },
  {
   "cell_type": "code",
   "execution_count": null,
   "metadata": {},
   "outputs": [],
   "source": [
    "dfs, times = monthly_nee.get_predictions(ds_input, x_keys, ds_regions, \n",
    "                                                         model_dir)"
   ]
  },
  {
   "cell_type": "code",
   "execution_count": null,
   "metadata": {},
   "outputs": [],
   "source": [
    "monthly_nee.create_dataset(dfs, times, data_dir)"
   ]
  }
 ],
 "metadata": {
  "kernelspec": {
   "display_name": "venv2",
   "language": "python",
   "name": "python3"
  },
  "language_info": {
   "codemirror_mode": {
    "name": "ipython",
    "version": 3
   },
   "file_extension": ".py",
   "mimetype": "text/x-python",
   "name": "python",
   "nbconvert_exporter": "python",
   "pygments_lexer": "ipython3",
   "version": "3.11.4"
  }
 },
 "nbformat": 4,
 "nbformat_minor": 2
}
