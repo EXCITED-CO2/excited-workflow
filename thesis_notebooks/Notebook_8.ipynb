{
 "cells": [
  {
   "cell_type": "code",
   "execution_count": null,
   "id": "cec261b9",
   "metadata": {},
   "outputs": [],
   "source": [
    "import numpy as np\n",
    "import pandas as pd\n",
    "import matplotlib.pyplot as plt\n",
    "import datetime\n",
    "from sklearn.ensemble import RandomForestRegressor\n",
    "from ipywidgets import interact\n",
    "import cartopy.crs as ccrs\n",
    "import netCDF4 as nc"
   ]
  },
  {
   "cell_type": "code",
   "execution_count": null,
   "id": "6d52e206",
   "metadata": {},
   "outputs": [],
   "source": [
    "yearmonth_full_df = pd.read_csv('C:\\\\Users\\\\conor\\\\General_College\\\\UTRECHT ADS\\\\Thesis\\\\Data\\\\rescale_dfs\\\\full_yrmon.csv', index_col = 0)"
   ]
  },
  {
   "cell_type": "code",
   "execution_count": null,
   "id": "4e6de065",
   "metadata": {},
   "outputs": [],
   "source": [
    "yearmonth_full_df1 = yearmonth_full_df.copy()\n",
    "pr_df_dict = {}\n",
    "importances = np.zeros(8,)\n",
    "\n",
    "for yr in range(2000,2019):\n",
    "\n",
    "    #fullfull######\n",
    "    unfold_full = yearmonth_full_df[yearmonth_full_df['year'] != yr] #this is the data not in the fold\n",
    "    fold_full = yearmonth_full_df[yearmonth_full_df['year'] == yr] #this is the fold of one year\n",
    "\n",
    "    fold_full_y = fold_full.pop('bio_flux') #this is getting the x and y of the fold\n",
    "    fold_full_yr = fold_full.pop('year')\n",
    "    fold_full_month = fold_full.pop('month')\n",
    "\n",
    "    unfold_full_y = unfold_full.pop('bio_flux') #this is getting the x and y of the unfold\n",
    "    unfold_full_yr = unfold_full.pop('year')\n",
    "    unfold_full_month = unfold_full.pop('month')\n",
    "\n",
    "    #training the full model:\n",
    "    regr_full_cv = RandomForestRegressor(n_estimators = 100, random_state = 1)\n",
    "    regr_full_cv.fit(unfold_full, unfold_full_y) #fitting model on the unfold\n",
    "    #########################\n",
    "    \n",
    "    #getting feature importance\n",
    "    importances += regr_full_cv.feature_importances_ \n",
    "    \n",
    "    #testing the full model on full data:\n",
    "    preds_full_cv = regr_full_cv.predict(fold_full) #predicting on the fold \n",
    "    \n",
    "    pr_df_dict[yr] = pd.DataFrame({'bio_preds': preds_full_cv , 'month': fold_full_month})\n",
    "    #####################################\n",
    "\n",
    "pred_df = pd.concat(pr_df_dict)\n",
    "importances = importances/19"
   ]
  },
  {
   "cell_type": "code",
   "execution_count": null,
   "id": "10b1c767",
   "metadata": {},
   "outputs": [],
   "source": [
    "bio_my_preds = pred_df.merge(yearmonth_full_df, left_on = ['Unnamed: 0', 'month'], right_on = ['year', 'month'])[['year', 'month', 'bio_flux', 'bio_preds']]\n"
   ]
  },
  {
   "cell_type": "code",
   "execution_count": null,
   "id": "2c47965a",
   "metadata": {},
   "outputs": [],
   "source": [
    "#predicting w/ proper \n",
    "yr_addendum_list = ['00','01','02','03','04','05','06','07','08','09','10','11','12','13','14','15','16','17','18']\n",
    "jung_preds_l = []\n",
    "\n",
    "for yr in yr_addendum_list:\n",
    "    jung_s_ = pd.read_csv('non0_jun_s_' + yr + '.csv')\n",
    "    jung_preds_l.append(jung_s_)\n",
    "\n",
    "jung_s_ = pd.concat(jung_preds_l).reset_index(drop = True)"
   ]
  },
  {
   "cell_type": "code",
   "execution_count": null,
   "id": "d58612a5",
   "metadata": {},
   "outputs": [],
   "source": [
    "combo_predictions =  bio_my_preds.merge(jung_s_, \n",
    "                               left_on = ['year', 'month'], right_on = ['year', 'month'])[['year', 'month', 'bio_flux', 'bio_preds', 'flux_predictions']]"
   ]
  },
  {
   "cell_type": "code",
   "execution_count": null,
   "id": "f9bf314e",
   "metadata": {},
   "outputs": [],
   "source": []
  },
  {
   "cell_type": "code",
   "execution_count": null,
   "id": "d982a8b5",
   "metadata": {},
   "outputs": [],
   "source": [
    "#plotting\n",
    "\n",
    "fig, ax = plt.subplots()\n",
    "\n",
    "combo_predictions_copy.plot(x = 'yearmon', y = ['bio_flux', 'bio_preds', 'flux_predictions'], \n",
    "                            figsize = (12,6), xlabel = 'Year', ylabel = r'Net Ecosystem Exchange [$molm^{-2}s^{-1}$]',\n",
    "                            ax = ax)\n",
    "ax.legend([\"NEE\", \"Combo model predictions\", 'Jung style predictions'],loc='upper center', \n",
    "                 bbox_to_anchor=(0.5, -0.1),fancybox=False, shadow=False, ncol=3) \n",
    "\n",
    "# fig.savefig('C:\\\\Users\\\\conor\\\\General_College\\\\UTRECHT ADS\\\\Thesis\\\\Figures\\\\two_models_predictions_non0.jpg',\n",
    "#             dpi=300, bbox_inches='tight')"
   ]
  },
  {
   "cell_type": "code",
   "execution_count": null,
   "id": "a6f95c36",
   "metadata": {},
   "outputs": [],
   "source": [
    "year_labels = list(combo_predictions['year'].unique())\n",
    "act_NEE = []\n",
    "combo_NEE = []\n",
    "jung_NEE = []\n",
    "\n",
    "\n",
    "for yr in combo_predictions['year'].unique():\n",
    "    yr_df = combo_predictions[combo_predictions['year'] == yr]\n",
    "    \n",
    "    act_NEE.append(np.sum(yr_df['bio_flux']))\n",
    "    combo_NEE.append(np.sum(yr_df['bio_preds']))\n",
    "    jung_NEE.append(np.sum(yr_df['flux_predictions']))\n",
    "\n",
    "\n",
    "act_NEE.append(np.mean(act_NEE))\n",
    "combo_NEE.append(np.mean(combo_NEE))\n",
    "jung_NEE.append(np.mean(jung_NEE))\n",
    "year_labels.append('Average')"
   ]
  },
  {
   "cell_type": "code",
   "execution_count": null,
   "id": "e28e50b9",
   "metadata": {},
   "outputs": [],
   "source": [
    "x = np.arange(len(year_labels))  # the label locations\n",
    "width = 0.2  # the width of the bars\n",
    "\n",
    "fig, ax = plt.subplots()\n",
    "fig.set_size_inches(12, 6)\n",
    "\n",
    "rects1 = ax.bar(x - width, act_NEE, width, label='Actual')\n",
    "rects2 = ax.bar(x , combo_NEE, width, label='Combo Model')\n",
    "rects3 = ax.bar(x + width, jung_NEE, width, label='Jung style Model')\n",
    "\n",
    "# Add some text for labels, title and custom x-axis tick labels, etc.\n",
    "ax.set_ylabel(r'NEE $molm^{-2}s^{-1}$')\n",
    "# ax.set_title('Carbon Uptake predicted for both models vs. actual results')\n",
    "ax.set_xticks(x, year_labels)\n",
    "ax.legend(loc='upper center',bbox_to_anchor=(0.5, -0.05),fancybox=False, shadow=False, ncol = 3)\n",
    "\n",
    "# ax.bar_label(rects1, padding=3)\n",
    "# ax.bar_label(rects2, padding=3)\n",
    "# ax.bar_label(rects3, padding=3)\n",
    "\n",
    "fig.tight_layout()\n",
    "plt.gca().invert_yaxis()\n",
    "\n",
    "# fig.savefig('C:\\\\Users\\\\conor\\\\General_College\\\\UTRECHT ADS\\\\Thesis\\\\Figures\\\\two_models_uptake per year.jpg',\n",
    "#             dpi=300, bbox_inches='tight')\n",
    "\n",
    "plt.show()"
   ]
  },
  {
   "cell_type": "code",
   "execution_count": null,
   "id": "1f941ddd",
   "metadata": {},
   "outputs": [],
   "source": []
  },
  {
   "cell_type": "code",
   "execution_count": null,
   "id": "d76925f0",
   "metadata": {},
   "outputs": [],
   "source": []
  },
  {
   "cell_type": "code",
   "execution_count": null,
   "id": "00cdcb2b",
   "metadata": {},
   "outputs": [],
   "source": []
  },
  {
   "cell_type": "code",
   "execution_count": null,
   "id": "7fac8723",
   "metadata": {},
   "outputs": [],
   "source": []
  }
 ],
 "metadata": {
  "kernelspec": {
   "display_name": "Python [conda env:conda-ADS_Thesis] *",
   "language": "python",
   "name": "conda-env-conda-ADS_Thesis-py"
  },
  "language_info": {
   "codemirror_mode": {
    "name": "ipython",
    "version": 3
   },
   "file_extension": ".py",
   "mimetype": "text/x-python",
   "name": "python",
   "nbconvert_exporter": "python",
   "pygments_lexer": "ipython3",
   "version": "3.8.13"
  }
 },
 "nbformat": 4,
 "nbformat_minor": 5
}
