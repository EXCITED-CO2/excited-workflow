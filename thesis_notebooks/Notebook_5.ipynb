{
 "cells": [
  {
   "cell_type": "code",
   "execution_count": null,
   "id": "f14129c0",
   "metadata": {},
   "outputs": [],
   "source": [
    "import numpy as np\n",
    "import pandas as pd\n",
    "import matplotlib.pyplot as plt\n",
    "import datetime\n",
    "from sklearn.ensemble import RandomForestRegressor"
   ]
  },
  {
   "cell_type": "code",
   "execution_count": null,
   "id": "d506e699",
   "metadata": {},
   "outputs": [],
   "source": [
    "jun18_sites =  ['CA-Cbo','CA-ER1','US-ARM', \n",
    "                'US-CF1','US-EDN', 'US-KLS', \n",
    "                'US-Me2','US-MMS', 'US-MOz','US-Mpj',\n",
    "                'US-ONA','US-Ro5', 'US-Snf','US-Tw1'] #list of sites that have data for June 2018\n",
    "\n",
    "jun18_list = [rf_pred_0_df.loc[(rf_pred_0_df['site'] == situ) & (rf_pred_0_df['year.month'] == '2018-06')] for situ in jun18_sites ]"
   ]
  },
  {
   "cell_type": "code",
   "execution_count": null,
   "id": "56eb650b",
   "metadata": {},
   "outputs": [],
   "source": [
    "nrow = 3\n",
    "ncol = 5\n",
    "\n",
    "fig, axes = plt.subplots(nrow, ncol,figsize=(15,12))\n",
    "plt.subplots_adjust(bottom=0.1, right= 2, top=1.2)\n",
    "fig.delaxes(axes[2,4])\n",
    "\n",
    "\n",
    "r=0\n",
    "c=0\n",
    "\n",
    "for df in jun18_list:\n",
    "    if r == c == 0:\n",
    "        df.plot(x='hour',y=['NEE_VUT_REF_subt', 'prediction'], \n",
    "                                   xlabel = '',ylabel = r'Flux $[\\mu mol m^{-2} s^{-1}]$', legend = False,\n",
    "                                   title = df['site'].iloc[0], ax=axes[r,c])\n",
    "        \n",
    "    elif (r == 1) and (c == 0):\n",
    "        df.plot(x='hour',y=['NEE_VUT_REF_subt', 'prediction'], \n",
    "                                   xlabel = '',ylabel = r'Flux $[\\mu mol m^{-2} s^{-1}]$', legend = False,\n",
    "                                   title = df['site'].iloc[0], ax=axes[r,c])\n",
    "        \n",
    "    elif (r ==  2) and (c == 0):\n",
    "        df.plot(x='hour',y=['NEE_VUT_REF_subt', 'prediction'], \n",
    "                                   xlabel = 'Hour of day',ylabel = r'Flux $[\\mu mol m^{-2} s^{-1}]$', legend = False,\n",
    "                                   title = df['site'].iloc[0], ax=axes[r,c])\n",
    "        \n",
    "    elif (r ==  2) and (c in [1,2,3]):\n",
    "        df.plot(x='hour',y=['NEE_VUT_REF_subt', 'prediction'], \n",
    "                                   xlabel = 'Hour of day',ylabel = '', legend = False,\n",
    "                                   title = df['site'].iloc[0], ax=axes[r,c])\n",
    "    elif (r ==  1) and (c == 4):\n",
    "        df.plot(x='hour',y=['NEE_VUT_REF_subt', 'prediction'], \n",
    "                                   xlabel = 'Hour of day',ylabel = '', legend = False,\n",
    "                                   title = df['site'].iloc[0], ax=axes[r,c])\n",
    "    \n",
    "    else:\n",
    "        df.plot(x='hour',y=['NEE_VUT_REF_subt', 'prediction'], \n",
    "                                   xlabel = '',ylabel = '', legend = False,\n",
    "                                   title = df['site'].iloc[0], ax=axes[r,c])\n",
    "\n",
    "    c += 1\n",
    "    if c == 5:\n",
    "        c = 0\n",
    "        r += 1\n",
    "    \n",
    "axes[2,2].legend( labels=[\"NEE\", \"RF Predictions\"],loc='upper center', \n",
    "                 bbox_to_anchor=(0.5, -0.2),fancybox=False, shadow=False, ncol=3)\n",
    "\n",
    "fig.savefig('C:\\\\Users\\\\conor\\\\General_College\\\\UTRECHT ADS\\\\Thesis\\\\Figures\\\\sites_subplots_14.jpg',\n",
    "            dpi=300, bbox_inches='tight')"
   ]
  },
  {
   "cell_type": "code",
   "execution_count": null,
   "id": "e1583d39",
   "metadata": {},
   "outputs": [],
   "source": []
  },
  {
   "cell_type": "code",
   "execution_count": null,
   "id": "af3c801d",
   "metadata": {},
   "outputs": [],
   "source": []
  },
  {
   "cell_type": "code",
   "execution_count": null,
   "id": "b536ed63",
   "metadata": {},
   "outputs": [],
   "source": []
  },
  {
   "cell_type": "code",
   "execution_count": null,
   "id": "86a9c7ca",
   "metadata": {},
   "outputs": [],
   "source": []
  }
 ],
 "metadata": {
  "kernelspec": {
   "display_name": "Python [conda env:conda-ADS_Thesis] *",
   "language": "python",
   "name": "conda-env-conda-ADS_Thesis-py"
  },
  "language_info": {
   "codemirror_mode": {
    "name": "ipython",
    "version": 3
   },
   "file_extension": ".py",
   "mimetype": "text/x-python",
   "name": "python",
   "nbconvert_exporter": "python",
   "pygments_lexer": "ipython3",
   "version": "3.8.13"
  }
 },
 "nbformat": 4,
 "nbformat_minor": 5
}
