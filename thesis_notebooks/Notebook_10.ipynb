{
 "cells": [
  {
   "cell_type": "code",
   "execution_count": null,
   "id": "25025d02",
   "metadata": {},
   "outputs": [],
   "source": [
    "import numpy as np\n",
    "import pandas as pd\n",
    "import matplotlib.pyplot as plt\n",
    "import datetime\n",
    "from sklearn.ensemble import RandomForestRegressor\n",
    "from ipywidgets import interact\n",
    "import cartopy.crs as ccrs\n",
    "import netCDF4 as nc"
   ]
  },
  {
   "cell_type": "code",
   "execution_count": null,
   "id": "2e924cad",
   "metadata": {},
   "outputs": [],
   "source": [
    "time_list = ['00','01','02','03','04','05','06','07','08','09','10','11','12',\n",
    "             '13','14','15','16','17','18','19','20','21','22','23']\n",
    "\n",
    "region_sum = 0"
   ]
  },
  {
   "cell_type": "code",
   "execution_count": null,
   "id": "3f982c3b",
   "metadata": {},
   "outputs": [],
   "source": [
    "#getting mean for the diurnal cycle\n",
    "region_sum = 0\n",
    "\n",
    "for i in range(24):\n",
    "    selected_hr = 3\n",
    "\n",
    "    day_preds = pd.read_csv('C:\\\\Users\\\\conor\\\\General_College\\\\UTRECHT ADS\\\\Thesis\\\\Data\\\\rescale_dfs\\\\june_2018\\\\june_2018_' + time_list[selected_hr] + 'am_ERA_preds.csv')\n",
    "    day_preds = day_preds['flux_preds']\n",
    "    jun18_preds = np.array(day_preds).reshape((44,74))\n",
    "    jun18_preds = np.ma.array(jun18_preds, mask = NA_mask_1deg_cyc[1])\n",
    "    jun18_preds = jun18_preds*10**(-6)\n",
    "    \n",
    "    region_sum += np.sum(jun18_preds)"
   ]
  },
  {
   "cell_type": "code",
   "execution_count": null,
   "id": "7aef1896",
   "metadata": {},
   "outputs": [],
   "source": [
    "@interact(selected_hr = (0,23))\n",
    "def f(selected_hr = 11):\n",
    "\n",
    "    day_preds = pd.read_csv('june_2018_' + time_list[selected_hr] + 'am_ERA_preds.csv')\n",
    "    day_preds = day_preds['flux_preds']\n",
    "    jun18_preds = np.array(day_preds).reshape((44,74))\n",
    "    jun18_preds = np.ma.array(jun18_preds, mask = NA_mask_1deg_cyc[1])\n",
    "    jun18_preds = jun18_preds*10**(-6) #converting to mol.. from micro mol\n",
    "    jun18_preds -= region_sum/(24*1192) #subtracting FLUXNET mean\n",
    "    jun18_preds += -1.1998529233037303e-06 # adding in the biological prediction for that month\n",
    "\n",
    "    nlats = np.shape(jun18_preds)[0]\n",
    "    nlons = np.shape(jun18_preds)[1]\n",
    "    lats = np.linspace((16*np.pi)/180,(60*np.pi)/180,nlats) # conversion of degree range to radians\n",
    "    lons = np.linspace(-0.75*np.pi,(-61*np.pi)/180,nlons)\n",
    "    lons,lats = np.meshgrid(lons,lats)\n",
    "    lats = np.rad2deg(lats)\n",
    "    lons = np.rad2deg(lons) \n",
    "\n",
    "    plt.figure(figsize=(15, 10))\n",
    "    ax = plt.axes(projection=ccrs.PlateCarree())\n",
    "\n",
    "    im = ax.contourf(lons,lats,jun18_preds,transform=ccrs.PlateCarree(),cmap='nipy_spectral',\n",
    "                     levels = np.linspace(-2.5e-6, 0,   16),\n",
    "                     interpolation = True, corner_mask = True, extend = 'both')\n",
    "    gl = ax.gridlines(crs=ccrs.PlateCarree(), draw_labels=True,\n",
    "                      linewidth=2,color='gray',alpha=0.5,linestyle='--')\n",
    "    gl.xlabels_top = False\n",
    "    gl.ylabels_right = False\n",
    "    plt.colorbar(im,label=r'$mol m^{-2} s^{-1}$')\n",
    "    ax.coastlines()\n",
    "    plt.xlim((-140,-60))\n",
    "    plt.ylim((15,60))\n",
    "    plt.title('Biological Flux Predictions for ' + time_list[selected_hr] +  ':00 June 2018' )\n",
    "    # plt.savefig('bioflux' + time_list[selected_hr] + 'map_wbar.jpg',\n",
    "    #                dpi=300, bbox_inches='tight')\n",
    "\n",
    "\n",
    "\n",
    "    plt.show()"
   ]
  },
  {
   "cell_type": "code",
   "execution_count": null,
   "id": "baf7b760",
   "metadata": {},
   "outputs": [],
   "source": []
  },
  {
   "cell_type": "code",
   "execution_count": null,
   "id": "7db168ef",
   "metadata": {},
   "outputs": [],
   "source": []
  }
 ],
 "metadata": {
  "kernelspec": {
   "display_name": "Python [conda env:conda-ADS_Thesis] *",
   "language": "python",
   "name": "conda-env-conda-ADS_Thesis-py"
  },
  "language_info": {
   "codemirror_mode": {
    "name": "ipython",
    "version": 3
   },
   "file_extension": ".py",
   "mimetype": "text/x-python",
   "name": "python",
   "nbconvert_exporter": "python",
   "pygments_lexer": "ipython3",
   "version": "3.8.13"
  }
 },
 "nbformat": 4,
 "nbformat_minor": 5
}
