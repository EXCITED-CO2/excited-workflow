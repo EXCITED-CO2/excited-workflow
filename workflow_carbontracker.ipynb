{
 "cells": [
  {
   "cell_type": "markdown",
   "metadata": {},
   "source": [
    "# Training a model on CarbonTracker's carbon flux\n",
    "This notebook outlines the entire workflow to load and preprocess the following data sets, to be able to train a ML model:\n",
    "\n",
    "- CarbonTracker\n",
    "- ERA5 (monthly)\n",
    "- ERA5-land (monthly)\n",
    "- SPEI (monthly)\n",
    "- MODIS (monthly)\n",
    "- Biomass (yearly)\n",
    "- Copernicus Landcover (yearly)\n",
    "\n",
    "First follow the data downloading and config setup instuctions.\n",
    "\n",
    "If you run this notebook on Surf Research Cloud, you shouldn't need to do this anymore."
   ]
  },
  {
   "cell_type": "code",
   "execution_count": 1,
   "metadata": {},
   "outputs": [],
   "source": [
    "import datetime\n",
    "from pathlib import Path\n",
    "\n",
    "import xarray as xr\n",
    "from dask.distributed import Client\n",
    "\n",
    "import excited_workflow\n",
    "from excited_workflow import carbon_tracker\n",
    "from excited_workflow.source_datasets import datasets\n",
    "\n",
    "\n",
    "client = Client()"
   ]
  },
  {
   "cell_type": "markdown",
   "metadata": {},
   "source": [
    "Define the paths for the carbon tracker dataset, the regions dataset and create output directory, as well as define the datasets that need to be included, the input variables (x_keys) for the model and the target variable (y_key)."
   ]
  },
  {
   "cell_type": "code",
   "execution_count": null,
   "metadata": {},
   "outputs": [],
   "source": [
    "cb_file= Path(\"/data/volume_2/EXCITED_prepped_data/CT2022.flux1x1-monthly.nc\")\n",
    "regions_file = Path(\"/data/volume_2/EXCITED_prepped_data/regions.nc\")\n",
    "output_path = Path.home()\n",
    "\n",
    "time = datetime.datetime.now().strftime(\"%Y-%m-%d_%H_%M\")\n",
    "output_dir = output_path / f\"carbon_tracker-{time}\"\n",
    "output_dir.mkdir(parents=True, exist_ok=True)\n",
    "\n",
    "desired_data = [\n",
    "    \"biomass\",\n",
    "    \"spei\",\n",
    "    \"modis\",\n",
    "    \"era5_monthly\",\n",
    "    \"era5_land_monthly\",\n",
    "    \"copernicus_landcover\"\n",
    "]\n",
    "\n",
    "x_keys = [\"d2m\", \"mslhf\", \"msshf\", \"ssr\", \"str\", \"t2m\", \"spei\", \"NIRv\", \"skt\",\n",
    "            \"stl1\", \"swvl1\", \"lccs_class\"]\n",
    "y_key = \"bio_flux_opt\""
   ]
  },
  {
   "cell_type": "markdown",
   "metadata": {},
   "source": [
    "Merge the desired datasets into a single xr.Dataset with the same dimensions as the carbon tracker dataset. "
   ]
  },
  {
   "cell_type": "code",
   "execution_count": null,
   "metadata": {},
   "outputs": [],
   "source": [
    "ds_cb = xr.open_dataset(cb_file)\n",
    "ds_cb = excited_workflow.utils.convert_timestamps(ds_cb)\n",
    "ds_input = xr.merge(\n",
    "    [\n",
    "        datasets[name].load(freq=\"monthly\", target_grid=ds_cb)\n",
    "        for name in desired_data\n",
    "    ]\n",
    ")"
   ]
  },
  {
   "cell_type": "markdown",
   "metadata": {},
   "source": [
    "To limit the analyis to Transcom region 2 (North America) we require the `regions.nc` file:"
   ]
  },
  {
   "cell_type": "code",
   "execution_count": null,
   "metadata": {},
   "outputs": [
    {
     "data": {
      "text/html": [
       "<div>\n",
       "<style scoped>\n",
       "    .dataframe tbody tr th:only-of-type {\n",
       "        vertical-align: middle;\n",
       "    }\n",
       "\n",
       "    .dataframe tbody tr th {\n",
       "        vertical-align: top;\n",
       "    }\n",
       "\n",
       "    .dataframe thead th {\n",
       "        text-align: right;\n",
       "    }\n",
       "</style>\n",
       "<table border=\"1\" class=\"dataframe\">\n",
       "  <thead>\n",
       "    <tr style=\"text-align: right;\">\n",
       "      <th></th>\n",
       "      <th></th>\n",
       "      <th></th>\n",
       "      <th>bio_flux_opt</th>\n",
       "      <th>transcom_regions</th>\n",
       "      <th>biomass</th>\n",
       "      <th>spei</th>\n",
       "      <th>NDVI</th>\n",
       "      <th>NIRv</th>\n",
       "      <th>d2m</th>\n",
       "      <th>mslhf</th>\n",
       "      <th>msshf</th>\n",
       "      <th>sp</th>\n",
       "      <th>...</th>\n",
       "      <th>skt</th>\n",
       "      <th>stl1</th>\n",
       "      <th>stl2</th>\n",
       "      <th>stl3</th>\n",
       "      <th>stl4</th>\n",
       "      <th>swvl1</th>\n",
       "      <th>swvl2</th>\n",
       "      <th>swvl3</th>\n",
       "      <th>swvl4</th>\n",
       "      <th>lccs_class</th>\n",
       "    </tr>\n",
       "    <tr>\n",
       "      <th>time</th>\n",
       "      <th>latitude</th>\n",
       "      <th>longitude</th>\n",
       "      <th></th>\n",
       "      <th></th>\n",
       "      <th></th>\n",
       "      <th></th>\n",
       "      <th></th>\n",
       "      <th></th>\n",
       "      <th></th>\n",
       "      <th></th>\n",
       "      <th></th>\n",
       "      <th></th>\n",
       "      <th></th>\n",
       "      <th></th>\n",
       "      <th></th>\n",
       "      <th></th>\n",
       "      <th></th>\n",
       "      <th></th>\n",
       "      <th></th>\n",
       "      <th></th>\n",
       "      <th></th>\n",
       "      <th></th>\n",
       "      <th></th>\n",
       "    </tr>\n",
       "  </thead>\n",
       "  <tbody>\n",
       "    <tr>\n",
       "      <th rowspan=\"5\" valign=\"top\">2000-08-01</th>\n",
       "      <th rowspan=\"3\" valign=\"top\">16.5</th>\n",
       "      <th>-97.5</th>\n",
       "      <td>-6.010017e-07</td>\n",
       "      <td>2.0</td>\n",
       "      <td>45.289826</td>\n",
       "      <td>0.402637</td>\n",
       "      <td>0.756299</td>\n",
       "      <td>0.264352</td>\n",
       "      <td>291.160736</td>\n",
       "      <td>-123.552444</td>\n",
       "      <td>-29.256828</td>\n",
       "      <td>89704.265625</td>\n",
       "      <td>...</td>\n",
       "      <td>293.800140</td>\n",
       "      <td>294.488708</td>\n",
       "      <td>294.490234</td>\n",
       "      <td>294.558624</td>\n",
       "      <td>294.885742</td>\n",
       "      <td>0.405656</td>\n",
       "      <td>0.409333</td>\n",
       "      <td>0.420406</td>\n",
       "      <td>0.421968</td>\n",
       "      <td>90.0</td>\n",
       "    </tr>\n",
       "    <tr>\n",
       "      <th>-96.5</th>\n",
       "      <td>-5.498427e-07</td>\n",
       "      <td>2.0</td>\n",
       "      <td>42.524410</td>\n",
       "      <td>0.859432</td>\n",
       "      <td>0.635423</td>\n",
       "      <td>0.186314</td>\n",
       "      <td>287.451385</td>\n",
       "      <td>-98.636139</td>\n",
       "      <td>-44.350342</td>\n",
       "      <td>83853.054688</td>\n",
       "      <td>...</td>\n",
       "      <td>291.346344</td>\n",
       "      <td>292.329987</td>\n",
       "      <td>292.415466</td>\n",
       "      <td>292.695587</td>\n",
       "      <td>293.209106</td>\n",
       "      <td>0.441099</td>\n",
       "      <td>0.443025</td>\n",
       "      <td>0.432267</td>\n",
       "      <td>0.446795</td>\n",
       "      <td>120.0</td>\n",
       "    </tr>\n",
       "    <tr>\n",
       "      <th>-95.5</th>\n",
       "      <td>-3.203208e-07</td>\n",
       "      <td>2.0</td>\n",
       "      <td>40.658878</td>\n",
       "      <td>-0.002091</td>\n",
       "      <td>0.714530</td>\n",
       "      <td>0.245570</td>\n",
       "      <td>292.602661</td>\n",
       "      <td>-88.933502</td>\n",
       "      <td>-76.770813</td>\n",
       "      <td>94853.679688</td>\n",
       "      <td>...</td>\n",
       "      <td>298.976379</td>\n",
       "      <td>299.503906</td>\n",
       "      <td>299.532959</td>\n",
       "      <td>299.621643</td>\n",
       "      <td>299.661987</td>\n",
       "      <td>0.340303</td>\n",
       "      <td>0.338384</td>\n",
       "      <td>0.337199</td>\n",
       "      <td>0.330479</td>\n",
       "      <td>60.0</td>\n",
       "    </tr>\n",
       "    <tr>\n",
       "      <th rowspan=\"2\" valign=\"top\">17.5</th>\n",
       "      <th>-100.5</th>\n",
       "      <td>-7.650994e-07</td>\n",
       "      <td>2.0</td>\n",
       "      <td>46.187639</td>\n",
       "      <td>0.364373</td>\n",
       "      <td>0.768887</td>\n",
       "      <td>0.270905</td>\n",
       "      <td>290.568329</td>\n",
       "      <td>-118.364532</td>\n",
       "      <td>-51.205177</td>\n",
       "      <td>85797.492188</td>\n",
       "      <td>...</td>\n",
       "      <td>293.096253</td>\n",
       "      <td>293.790924</td>\n",
       "      <td>293.769348</td>\n",
       "      <td>293.723419</td>\n",
       "      <td>293.783417</td>\n",
       "      <td>0.412808</td>\n",
       "      <td>0.414333</td>\n",
       "      <td>0.415583</td>\n",
       "      <td>0.423979</td>\n",
       "      <td>90.0</td>\n",
       "    </tr>\n",
       "    <tr>\n",
       "      <th>-99.5</th>\n",
       "      <td>-2.389529e-06</td>\n",
       "      <td>2.0</td>\n",
       "      <td>41.231996</td>\n",
       "      <td>0.007593</td>\n",
       "      <td>0.748444</td>\n",
       "      <td>0.249498</td>\n",
       "      <td>290.078156</td>\n",
       "      <td>-119.800644</td>\n",
       "      <td>-42.374344</td>\n",
       "      <td>85094.835938</td>\n",
       "      <td>...</td>\n",
       "      <td>291.973236</td>\n",
       "      <td>292.737579</td>\n",
       "      <td>292.763458</td>\n",
       "      <td>292.868774</td>\n",
       "      <td>293.306427</td>\n",
       "      <td>0.406332</td>\n",
       "      <td>0.408797</td>\n",
       "      <td>0.411133</td>\n",
       "      <td>0.398836</td>\n",
       "      <td>120.0</td>\n",
       "    </tr>\n",
       "    <tr>\n",
       "      <th>...</th>\n",
       "      <th>...</th>\n",
       "      <th>...</th>\n",
       "      <td>...</td>\n",
       "      <td>...</td>\n",
       "      <td>...</td>\n",
       "      <td>...</td>\n",
       "      <td>...</td>\n",
       "      <td>...</td>\n",
       "      <td>...</td>\n",
       "      <td>...</td>\n",
       "      <td>...</td>\n",
       "      <td>...</td>\n",
       "      <td>...</td>\n",
       "      <td>...</td>\n",
       "      <td>...</td>\n",
       "      <td>...</td>\n",
       "      <td>...</td>\n",
       "      <td>...</td>\n",
       "      <td>...</td>\n",
       "      <td>...</td>\n",
       "      <td>...</td>\n",
       "      <td>...</td>\n",
       "      <td>...</td>\n",
       "    </tr>\n",
       "    <tr>\n",
       "      <th rowspan=\"5\" valign=\"top\">2019-12-01</th>\n",
       "      <th rowspan=\"3\" valign=\"top\">55.5</th>\n",
       "      <th>-114.5</th>\n",
       "      <td>5.078427e-07</td>\n",
       "      <td>2.0</td>\n",
       "      <td>23.803023</td>\n",
       "      <td>0.650443</td>\n",
       "      <td>0.168989</td>\n",
       "      <td>0.014420</td>\n",
       "      <td>259.794739</td>\n",
       "      <td>-2.107529</td>\n",
       "      <td>16.971649</td>\n",
       "      <td>92106.984375</td>\n",
       "      <td>...</td>\n",
       "      <td>261.254547</td>\n",
       "      <td>272.136719</td>\n",
       "      <td>272.757507</td>\n",
       "      <td>274.221741</td>\n",
       "      <td>277.282837</td>\n",
       "      <td>0.360522</td>\n",
       "      <td>0.363317</td>\n",
       "      <td>0.371951</td>\n",
       "      <td>0.383640</td>\n",
       "      <td>71.0</td>\n",
       "    </tr>\n",
       "    <tr>\n",
       "      <th>-113.5</th>\n",
       "      <td>7.799189e-07</td>\n",
       "      <td>2.0</td>\n",
       "      <td>29.709211</td>\n",
       "      <td>0.582704</td>\n",
       "      <td>0.181974</td>\n",
       "      <td>0.015521</td>\n",
       "      <td>259.467133</td>\n",
       "      <td>-1.547745</td>\n",
       "      <td>15.787460</td>\n",
       "      <td>92649.859375</td>\n",
       "      <td>...</td>\n",
       "      <td>261.202423</td>\n",
       "      <td>268.530670</td>\n",
       "      <td>269.509583</td>\n",
       "      <td>273.085327</td>\n",
       "      <td>277.388824</td>\n",
       "      <td>0.373655</td>\n",
       "      <td>0.367109</td>\n",
       "      <td>0.377971</td>\n",
       "      <td>0.379900</td>\n",
       "      <td>71.0</td>\n",
       "    </tr>\n",
       "    <tr>\n",
       "      <th>-112.5</th>\n",
       "      <td>8.044822e-07</td>\n",
       "      <td>2.0</td>\n",
       "      <td>15.008749</td>\n",
       "      <td>0.328202</td>\n",
       "      <td>0.176154</td>\n",
       "      <td>0.017731</td>\n",
       "      <td>258.919037</td>\n",
       "      <td>-0.648941</td>\n",
       "      <td>16.144135</td>\n",
       "      <td>93281.093750</td>\n",
       "      <td>...</td>\n",
       "      <td>260.399170</td>\n",
       "      <td>268.575684</td>\n",
       "      <td>270.025513</td>\n",
       "      <td>273.835937</td>\n",
       "      <td>278.872986</td>\n",
       "      <td>0.641833</td>\n",
       "      <td>0.636263</td>\n",
       "      <td>0.648265</td>\n",
       "      <td>0.633022</td>\n",
       "      <td>71.0</td>\n",
       "    </tr>\n",
       "    <tr>\n",
       "      <th>56.5</th>\n",
       "      <th>-131.5</th>\n",
       "      <td>5.528356e-07</td>\n",
       "      <td>2.0</td>\n",
       "      <td>64.364447</td>\n",
       "      <td>-0.181532</td>\n",
       "      <td>-0.066072</td>\n",
       "      <td>-0.038799</td>\n",
       "      <td>269.274261</td>\n",
       "      <td>-3.085175</td>\n",
       "      <td>0.307220</td>\n",
       "      <td>91528.421875</td>\n",
       "      <td>...</td>\n",
       "      <td>265.012054</td>\n",
       "      <td>270.157807</td>\n",
       "      <td>270.336700</td>\n",
       "      <td>270.928772</td>\n",
       "      <td>271.985443</td>\n",
       "      <td>0.281438</td>\n",
       "      <td>0.286921</td>\n",
       "      <td>0.199295</td>\n",
       "      <td>0.362787</td>\n",
       "      <td>71.0</td>\n",
       "    </tr>\n",
       "    <tr>\n",
       "      <th>57.5</th>\n",
       "      <th>-132.5</th>\n",
       "      <td>1.015704e-07</td>\n",
       "      <td>2.0</td>\n",
       "      <td>13.424713</td>\n",
       "      <td>0.123489</td>\n",
       "      <td>-0.117813</td>\n",
       "      <td>-0.061499</td>\n",
       "      <td>266.016449</td>\n",
       "      <td>-1.342758</td>\n",
       "      <td>-2.474945</td>\n",
       "      <td>84002.898438</td>\n",
       "      <td>...</td>\n",
       "      <td>263.732574</td>\n",
       "      <td>267.186951</td>\n",
       "      <td>267.285309</td>\n",
       "      <td>267.666473</td>\n",
       "      <td>268.452301</td>\n",
       "      <td>0.314030</td>\n",
       "      <td>0.321625</td>\n",
       "      <td>0.142487</td>\n",
       "      <td>0.341023</td>\n",
       "      <td>220.0</td>\n",
       "    </tr>\n",
       "  </tbody>\n",
       "</table>\n",
       "<p>266552 rows × 26 columns</p>\n",
       "</div>"
      ],
      "text/plain": [
       "                               bio_flux_opt  transcom_regions    biomass  \\\n",
       "time       latitude longitude                                              \n",
       "2000-08-01 16.5     -97.5     -6.010017e-07               2.0  45.289826   \n",
       "                    -96.5     -5.498427e-07               2.0  42.524410   \n",
       "                    -95.5     -3.203208e-07               2.0  40.658878   \n",
       "           17.5     -100.5    -7.650994e-07               2.0  46.187639   \n",
       "                    -99.5     -2.389529e-06               2.0  41.231996   \n",
       "...                                     ...               ...        ...   \n",
       "2019-12-01 55.5     -114.5     5.078427e-07               2.0  23.803023   \n",
       "                    -113.5     7.799189e-07               2.0  29.709211   \n",
       "                    -112.5     8.044822e-07               2.0  15.008749   \n",
       "           56.5     -131.5     5.528356e-07               2.0  64.364447   \n",
       "           57.5     -132.5     1.015704e-07               2.0  13.424713   \n",
       "\n",
       "                                   spei      NDVI      NIRv         d2m  \\\n",
       "time       latitude longitude                                             \n",
       "2000-08-01 16.5     -97.5      0.402637  0.756299  0.264352  291.160736   \n",
       "                    -96.5      0.859432  0.635423  0.186314  287.451385   \n",
       "                    -95.5     -0.002091  0.714530  0.245570  292.602661   \n",
       "           17.5     -100.5     0.364373  0.768887  0.270905  290.568329   \n",
       "                    -99.5      0.007593  0.748444  0.249498  290.078156   \n",
       "...                                 ...       ...       ...         ...   \n",
       "2019-12-01 55.5     -114.5     0.650443  0.168989  0.014420  259.794739   \n",
       "                    -113.5     0.582704  0.181974  0.015521  259.467133   \n",
       "                    -112.5     0.328202  0.176154  0.017731  258.919037   \n",
       "           56.5     -131.5    -0.181532 -0.066072 -0.038799  269.274261   \n",
       "           57.5     -132.5     0.123489 -0.117813 -0.061499  266.016449   \n",
       "\n",
       "                                    mslhf      msshf            sp  ...  \\\n",
       "time       latitude longitude                                       ...   \n",
       "2000-08-01 16.5     -97.5     -123.552444 -29.256828  89704.265625  ...   \n",
       "                    -96.5      -98.636139 -44.350342  83853.054688  ...   \n",
       "                    -95.5      -88.933502 -76.770813  94853.679688  ...   \n",
       "           17.5     -100.5    -118.364532 -51.205177  85797.492188  ...   \n",
       "                    -99.5     -119.800644 -42.374344  85094.835938  ...   \n",
       "...                                   ...        ...           ...  ...   \n",
       "2019-12-01 55.5     -114.5      -2.107529  16.971649  92106.984375  ...   \n",
       "                    -113.5      -1.547745  15.787460  92649.859375  ...   \n",
       "                    -112.5      -0.648941  16.144135  93281.093750  ...   \n",
       "           56.5     -131.5      -3.085175   0.307220  91528.421875  ...   \n",
       "           57.5     -132.5      -1.342758  -2.474945  84002.898438  ...   \n",
       "\n",
       "                                      skt        stl1        stl2        stl3  \\\n",
       "time       latitude longitude                                                   \n",
       "2000-08-01 16.5     -97.5      293.800140  294.488708  294.490234  294.558624   \n",
       "                    -96.5      291.346344  292.329987  292.415466  292.695587   \n",
       "                    -95.5      298.976379  299.503906  299.532959  299.621643   \n",
       "           17.5     -100.5     293.096253  293.790924  293.769348  293.723419   \n",
       "                    -99.5      291.973236  292.737579  292.763458  292.868774   \n",
       "...                                   ...         ...         ...         ...   \n",
       "2019-12-01 55.5     -114.5     261.254547  272.136719  272.757507  274.221741   \n",
       "                    -113.5     261.202423  268.530670  269.509583  273.085327   \n",
       "                    -112.5     260.399170  268.575684  270.025513  273.835937   \n",
       "           56.5     -131.5     265.012054  270.157807  270.336700  270.928772   \n",
       "           57.5     -132.5     263.732574  267.186951  267.285309  267.666473   \n",
       "\n",
       "                                     stl4     swvl1     swvl2     swvl3  \\\n",
       "time       latitude longitude                                             \n",
       "2000-08-01 16.5     -97.5      294.885742  0.405656  0.409333  0.420406   \n",
       "                    -96.5      293.209106  0.441099  0.443025  0.432267   \n",
       "                    -95.5      299.661987  0.340303  0.338384  0.337199   \n",
       "           17.5     -100.5     293.783417  0.412808  0.414333  0.415583   \n",
       "                    -99.5      293.306427  0.406332  0.408797  0.411133   \n",
       "...                                   ...       ...       ...       ...   \n",
       "2019-12-01 55.5     -114.5     277.282837  0.360522  0.363317  0.371951   \n",
       "                    -113.5     277.388824  0.373655  0.367109  0.377971   \n",
       "                    -112.5     278.872986  0.641833  0.636263  0.648265   \n",
       "           56.5     -131.5     271.985443  0.281438  0.286921  0.199295   \n",
       "           57.5     -132.5     268.452301  0.314030  0.321625  0.142487   \n",
       "\n",
       "                                  swvl4  lccs_class  \n",
       "time       latitude longitude                        \n",
       "2000-08-01 16.5     -97.5      0.421968        90.0  \n",
       "                    -96.5      0.446795       120.0  \n",
       "                    -95.5      0.330479        60.0  \n",
       "           17.5     -100.5     0.423979        90.0  \n",
       "                    -99.5      0.398836       120.0  \n",
       "...                                 ...         ...  \n",
       "2019-12-01 55.5     -114.5     0.383640        71.0  \n",
       "                    -113.5     0.379900        71.0  \n",
       "                    -112.5     0.633022        71.0  \n",
       "           56.5     -131.5     0.362787        71.0  \n",
       "           57.5     -132.5     0.341023       220.0  \n",
       "\n",
       "[266552 rows x 26 columns]"
      ]
     },
     "execution_count": 4,
     "metadata": {},
     "output_type": "execute_result"
    }
   ],
   "source": [
    "df_na = carbon_tracker.mask_region(regions_file, cb_file, ds_input, 2)\n",
    "df_na\n"
   ]
  },
  {
   "cell_type": "markdown",
   "metadata": {},
   "source": [
    "Validate the model by splitting the dataset into 5 groups. Train the model over 4 groups and predict over the remaining group iteratively. Output rmse netcdfs and scatterplots are stored in the output directory."
   ]
  },
  {
   "cell_type": "code",
   "execution_count": null,
   "metadata": {},
   "outputs": [
    {
     "data": {
      "text/html": [],
      "text/plain": [
       "<IPython.core.display.HTML object>"
      ]
     },
     "metadata": {},
     "output_type": "display_data"
    },
    {
     "data": {
      "text/html": [
       "<style type=\"text/css\">\n",
       "#T_30375 th {\n",
       "  text-align: left;\n",
       "}\n",
       "#T_30375_row0_col0 {\n",
       "  text-align: left;\n",
       "}\n",
       "#T_30375_row0_col1, #T_30375_row0_col2, #T_30375_row0_col3, #T_30375_row0_col4, #T_30375_row0_col5, #T_30375_row0_col6 {\n",
       "  text-align: left;\n",
       "  background-color: yellow;\n",
       "}\n",
       "#T_30375_row0_col7 {\n",
       "  text-align: left;\n",
       "  background-color: yellow;\n",
       "  background-color: lightgrey;\n",
       "}\n",
       "</style>\n",
       "<table id=\"T_30375\">\n",
       "  <thead>\n",
       "    <tr>\n",
       "      <th class=\"blank level0\" >&nbsp;</th>\n",
       "      <th id=\"T_30375_level0_col0\" class=\"col_heading level0 col0\" >Model</th>\n",
       "      <th id=\"T_30375_level0_col1\" class=\"col_heading level0 col1\" >MAE</th>\n",
       "      <th id=\"T_30375_level0_col2\" class=\"col_heading level0 col2\" >MSE</th>\n",
       "      <th id=\"T_30375_level0_col3\" class=\"col_heading level0 col3\" >RMSE</th>\n",
       "      <th id=\"T_30375_level0_col4\" class=\"col_heading level0 col4\" >R2</th>\n",
       "      <th id=\"T_30375_level0_col5\" class=\"col_heading level0 col5\" >RMSLE</th>\n",
       "      <th id=\"T_30375_level0_col6\" class=\"col_heading level0 col6\" >MAPE</th>\n",
       "      <th id=\"T_30375_level0_col7\" class=\"col_heading level0 col7\" >TT (Sec)</th>\n",
       "    </tr>\n",
       "  </thead>\n",
       "  <tbody>\n",
       "    <tr>\n",
       "      <th id=\"T_30375_level0_row0\" class=\"row_heading level0 row0\" >lightgbm</th>\n",
       "      <td id=\"T_30375_row0_col0\" class=\"data row0 col0\" >Light Gradient Boosting Machine</td>\n",
       "      <td id=\"T_30375_row0_col1\" class=\"data row0 col1\" >0.00000</td>\n",
       "      <td id=\"T_30375_row0_col2\" class=\"data row0 col2\" >0.00000</td>\n",
       "      <td id=\"T_30375_row0_col3\" class=\"data row0 col3\" >0.00000</td>\n",
       "      <td id=\"T_30375_row0_col4\" class=\"data row0 col4\" >0.77380</td>\n",
       "      <td id=\"T_30375_row0_col5\" class=\"data row0 col5\" >0.00000</td>\n",
       "      <td id=\"T_30375_row0_col6\" class=\"data row0 col6\" >4.97460</td>\n",
       "      <td id=\"T_30375_row0_col7\" class=\"data row0 col7\" >1.29000</td>\n",
       "    </tr>\n",
       "  </tbody>\n",
       "</table>\n"
      ],
      "text/plain": [
       "<pandas.io.formats.style.Styler at 0x7f294163ad50>"
      ]
     },
     "metadata": {},
     "output_type": "display_data"
    },
    {
     "data": {
      "text/html": [],
      "text/plain": [
       "<IPython.core.display.HTML object>"
      ]
     },
     "metadata": {},
     "output_type": "display_data"
    },
    {
     "data": {
      "text/html": [],
      "text/plain": [
       "<IPython.core.display.HTML object>"
      ]
     },
     "metadata": {},
     "output_type": "display_data"
    },
    {
     "data": {
      "text/html": [],
      "text/plain": [
       "<IPython.core.display.HTML object>"
      ]
     },
     "metadata": {},
     "output_type": "display_data"
    },
    {
     "data": {
      "text/html": [
       "<style type=\"text/css\">\n",
       "#T_87b61 th {\n",
       "  text-align: left;\n",
       "}\n",
       "#T_87b61_row0_col0 {\n",
       "  text-align: left;\n",
       "}\n",
       "#T_87b61_row0_col1, #T_87b61_row0_col2, #T_87b61_row0_col3, #T_87b61_row0_col4, #T_87b61_row0_col5, #T_87b61_row0_col6 {\n",
       "  text-align: left;\n",
       "  background-color: yellow;\n",
       "}\n",
       "#T_87b61_row0_col7 {\n",
       "  text-align: left;\n",
       "  background-color: yellow;\n",
       "  background-color: lightgrey;\n",
       "}\n",
       "</style>\n",
       "<table id=\"T_87b61\">\n",
       "  <thead>\n",
       "    <tr>\n",
       "      <th class=\"blank level0\" >&nbsp;</th>\n",
       "      <th id=\"T_87b61_level0_col0\" class=\"col_heading level0 col0\" >Model</th>\n",
       "      <th id=\"T_87b61_level0_col1\" class=\"col_heading level0 col1\" >MAE</th>\n",
       "      <th id=\"T_87b61_level0_col2\" class=\"col_heading level0 col2\" >MSE</th>\n",
       "      <th id=\"T_87b61_level0_col3\" class=\"col_heading level0 col3\" >RMSE</th>\n",
       "      <th id=\"T_87b61_level0_col4\" class=\"col_heading level0 col4\" >R2</th>\n",
       "      <th id=\"T_87b61_level0_col5\" class=\"col_heading level0 col5\" >RMSLE</th>\n",
       "      <th id=\"T_87b61_level0_col6\" class=\"col_heading level0 col6\" >MAPE</th>\n",
       "      <th id=\"T_87b61_level0_col7\" class=\"col_heading level0 col7\" >TT (Sec)</th>\n",
       "    </tr>\n",
       "  </thead>\n",
       "  <tbody>\n",
       "    <tr>\n",
       "      <th id=\"T_87b61_level0_row0\" class=\"row_heading level0 row0\" >lightgbm</th>\n",
       "      <td id=\"T_87b61_row0_col0\" class=\"data row0 col0\" >Light Gradient Boosting Machine</td>\n",
       "      <td id=\"T_87b61_row0_col1\" class=\"data row0 col1\" >0.00000</td>\n",
       "      <td id=\"T_87b61_row0_col2\" class=\"data row0 col2\" >0.00000</td>\n",
       "      <td id=\"T_87b61_row0_col3\" class=\"data row0 col3\" >0.00000</td>\n",
       "      <td id=\"T_87b61_row0_col4\" class=\"data row0 col4\" >0.76720</td>\n",
       "      <td id=\"T_87b61_row0_col5\" class=\"data row0 col5\" >0.00000</td>\n",
       "      <td id=\"T_87b61_row0_col6\" class=\"data row0 col6\" >4.68210</td>\n",
       "      <td id=\"T_87b61_row0_col7\" class=\"data row0 col7\" >1.23000</td>\n",
       "    </tr>\n",
       "  </tbody>\n",
       "</table>\n"
      ],
      "text/plain": [
       "<pandas.io.formats.style.Styler at 0x7f2940d2f550>"
      ]
     },
     "metadata": {},
     "output_type": "display_data"
    },
    {
     "data": {
      "text/html": [],
      "text/plain": [
       "<IPython.core.display.HTML object>"
      ]
     },
     "metadata": {},
     "output_type": "display_data"
    },
    {
     "data": {
      "text/html": [],
      "text/plain": [
       "<IPython.core.display.HTML object>"
      ]
     },
     "metadata": {},
     "output_type": "display_data"
    },
    {
     "data": {
      "text/html": [],
      "text/plain": [
       "<IPython.core.display.HTML object>"
      ]
     },
     "metadata": {},
     "output_type": "display_data"
    },
    {
     "data": {
      "text/html": [
       "<style type=\"text/css\">\n",
       "#T_5fc9c th {\n",
       "  text-align: left;\n",
       "}\n",
       "#T_5fc9c_row0_col0 {\n",
       "  text-align: left;\n",
       "}\n",
       "#T_5fc9c_row0_col1, #T_5fc9c_row0_col2, #T_5fc9c_row0_col3, #T_5fc9c_row0_col4, #T_5fc9c_row0_col5, #T_5fc9c_row0_col6 {\n",
       "  text-align: left;\n",
       "  background-color: yellow;\n",
       "}\n",
       "#T_5fc9c_row0_col7 {\n",
       "  text-align: left;\n",
       "  background-color: yellow;\n",
       "  background-color: lightgrey;\n",
       "}\n",
       "</style>\n",
       "<table id=\"T_5fc9c\">\n",
       "  <thead>\n",
       "    <tr>\n",
       "      <th class=\"blank level0\" >&nbsp;</th>\n",
       "      <th id=\"T_5fc9c_level0_col0\" class=\"col_heading level0 col0\" >Model</th>\n",
       "      <th id=\"T_5fc9c_level0_col1\" class=\"col_heading level0 col1\" >MAE</th>\n",
       "      <th id=\"T_5fc9c_level0_col2\" class=\"col_heading level0 col2\" >MSE</th>\n",
       "      <th id=\"T_5fc9c_level0_col3\" class=\"col_heading level0 col3\" >RMSE</th>\n",
       "      <th id=\"T_5fc9c_level0_col4\" class=\"col_heading level0 col4\" >R2</th>\n",
       "      <th id=\"T_5fc9c_level0_col5\" class=\"col_heading level0 col5\" >RMSLE</th>\n",
       "      <th id=\"T_5fc9c_level0_col6\" class=\"col_heading level0 col6\" >MAPE</th>\n",
       "      <th id=\"T_5fc9c_level0_col7\" class=\"col_heading level0 col7\" >TT (Sec)</th>\n",
       "    </tr>\n",
       "  </thead>\n",
       "  <tbody>\n",
       "    <tr>\n",
       "      <th id=\"T_5fc9c_level0_row0\" class=\"row_heading level0 row0\" >lightgbm</th>\n",
       "      <td id=\"T_5fc9c_row0_col0\" class=\"data row0 col0\" >Light Gradient Boosting Machine</td>\n",
       "      <td id=\"T_5fc9c_row0_col1\" class=\"data row0 col1\" >0.00000</td>\n",
       "      <td id=\"T_5fc9c_row0_col2\" class=\"data row0 col2\" >0.00000</td>\n",
       "      <td id=\"T_5fc9c_row0_col3\" class=\"data row0 col3\" >0.00000</td>\n",
       "      <td id=\"T_5fc9c_row0_col4\" class=\"data row0 col4\" >0.76630</td>\n",
       "      <td id=\"T_5fc9c_row0_col5\" class=\"data row0 col5\" >0.00000</td>\n",
       "      <td id=\"T_5fc9c_row0_col6\" class=\"data row0 col6\" >4.55350</td>\n",
       "      <td id=\"T_5fc9c_row0_col7\" class=\"data row0 col7\" >1.24000</td>\n",
       "    </tr>\n",
       "  </tbody>\n",
       "</table>\n"
      ],
      "text/plain": [
       "<pandas.io.formats.style.Styler at 0x7f2941728650>"
      ]
     },
     "metadata": {},
     "output_type": "display_data"
    },
    {
     "data": {
      "text/html": [],
      "text/plain": [
       "<IPython.core.display.HTML object>"
      ]
     },
     "metadata": {},
     "output_type": "display_data"
    },
    {
     "data": {
      "text/html": [],
      "text/plain": [
       "<IPython.core.display.HTML object>"
      ]
     },
     "metadata": {},
     "output_type": "display_data"
    },
    {
     "name": "stderr",
     "output_type": "stream",
     "text": [
      "2023-12-12 15:28:46,348 - distributed.utils_perf - WARNING - full garbage collections took 19% CPU time recently (threshold: 10%)\n",
      "2023-12-12 15:28:47,313 - distributed.utils_perf - WARNING - full garbage collections took 22% CPU time recently (threshold: 10%)\n"
     ]
    },
    {
     "data": {
      "text/html": [],
      "text/plain": [
       "<IPython.core.display.HTML object>"
      ]
     },
     "metadata": {},
     "output_type": "display_data"
    },
    {
     "data": {
      "text/html": [
       "<style type=\"text/css\">\n",
       "#T_1d96d th {\n",
       "  text-align: left;\n",
       "}\n",
       "#T_1d96d_row0_col0 {\n",
       "  text-align: left;\n",
       "}\n",
       "#T_1d96d_row0_col1, #T_1d96d_row0_col2, #T_1d96d_row0_col3, #T_1d96d_row0_col4, #T_1d96d_row0_col5, #T_1d96d_row0_col6 {\n",
       "  text-align: left;\n",
       "  background-color: yellow;\n",
       "}\n",
       "#T_1d96d_row0_col7 {\n",
       "  text-align: left;\n",
       "  background-color: yellow;\n",
       "  background-color: lightgrey;\n",
       "}\n",
       "</style>\n",
       "<table id=\"T_1d96d\">\n",
       "  <thead>\n",
       "    <tr>\n",
       "      <th class=\"blank level0\" >&nbsp;</th>\n",
       "      <th id=\"T_1d96d_level0_col0\" class=\"col_heading level0 col0\" >Model</th>\n",
       "      <th id=\"T_1d96d_level0_col1\" class=\"col_heading level0 col1\" >MAE</th>\n",
       "      <th id=\"T_1d96d_level0_col2\" class=\"col_heading level0 col2\" >MSE</th>\n",
       "      <th id=\"T_1d96d_level0_col3\" class=\"col_heading level0 col3\" >RMSE</th>\n",
       "      <th id=\"T_1d96d_level0_col4\" class=\"col_heading level0 col4\" >R2</th>\n",
       "      <th id=\"T_1d96d_level0_col5\" class=\"col_heading level0 col5\" >RMSLE</th>\n",
       "      <th id=\"T_1d96d_level0_col6\" class=\"col_heading level0 col6\" >MAPE</th>\n",
       "      <th id=\"T_1d96d_level0_col7\" class=\"col_heading level0 col7\" >TT (Sec)</th>\n",
       "    </tr>\n",
       "  </thead>\n",
       "  <tbody>\n",
       "    <tr>\n",
       "      <th id=\"T_1d96d_level0_row0\" class=\"row_heading level0 row0\" >lightgbm</th>\n",
       "      <td id=\"T_1d96d_row0_col0\" class=\"data row0 col0\" >Light Gradient Boosting Machine</td>\n",
       "      <td id=\"T_1d96d_row0_col1\" class=\"data row0 col1\" >0.00000</td>\n",
       "      <td id=\"T_1d96d_row0_col2\" class=\"data row0 col2\" >0.00000</td>\n",
       "      <td id=\"T_1d96d_row0_col3\" class=\"data row0 col3\" >0.00000</td>\n",
       "      <td id=\"T_1d96d_row0_col4\" class=\"data row0 col4\" >0.76210</td>\n",
       "      <td id=\"T_1d96d_row0_col5\" class=\"data row0 col5\" >0.00000</td>\n",
       "      <td id=\"T_1d96d_row0_col6\" class=\"data row0 col6\" >3.94170</td>\n",
       "      <td id=\"T_1d96d_row0_col7\" class=\"data row0 col7\" >1.15000</td>\n",
       "    </tr>\n",
       "  </tbody>\n",
       "</table>\n"
      ],
      "text/plain": [
       "<pandas.io.formats.style.Styler at 0x7f29424ca090>"
      ]
     },
     "metadata": {},
     "output_type": "display_data"
    },
    {
     "data": {
      "text/html": [],
      "text/plain": [
       "<IPython.core.display.HTML object>"
      ]
     },
     "metadata": {},
     "output_type": "display_data"
    },
    {
     "name": "stderr",
     "output_type": "stream",
     "text": [
      "2023-12-12 15:28:52,361 - distributed.utils_perf - WARNING - full garbage collections took 20% CPU time recently (threshold: 10%)\n",
      "2023-12-12 15:28:52,736 - distributed.utils_perf - WARNING - full garbage collections took 23% CPU time recently (threshold: 10%)\n",
      "2023-12-12 15:28:53,320 - distributed.utils_perf - WARNING - full garbage collections took 23% CPU time recently (threshold: 10%)\n",
      "2023-12-12 15:28:54,113 - distributed.utils_perf - WARNING - full garbage collections took 26% CPU time recently (threshold: 10%)\n",
      "2023-12-12 15:28:54,394 - distributed.utils_perf - WARNING - full garbage collections took 26% CPU time recently (threshold: 10%)\n",
      "2023-12-12 15:28:56,090 - distributed.utils_perf - WARNING - full garbage collections took 25% CPU time recently (threshold: 10%)\n"
     ]
    },
    {
     "data": {
      "text/html": [],
      "text/plain": [
       "<IPython.core.display.HTML object>"
      ]
     },
     "metadata": {},
     "output_type": "display_data"
    },
    {
     "name": "stderr",
     "output_type": "stream",
     "text": [
      "2023-12-12 15:28:56,572 - distributed.utils_perf - WARNING - full garbage collections took 25% CPU time recently (threshold: 10%)\n",
      "2023-12-12 15:28:57,135 - distributed.utils_perf - WARNING - full garbage collections took 25% CPU time recently (threshold: 10%)\n",
      "2023-12-12 15:28:58,132 - distributed.utils_perf - WARNING - full garbage collections took 25% CPU time recently (threshold: 10%)\n"
     ]
    },
    {
     "data": {
      "text/html": [],
      "text/plain": [
       "<IPython.core.display.HTML object>"
      ]
     },
     "metadata": {},
     "output_type": "display_data"
    },
    {
     "data": {
      "text/html": [
       "<style type=\"text/css\">\n",
       "#T_1a4a0 th {\n",
       "  text-align: left;\n",
       "}\n",
       "#T_1a4a0_row0_col0 {\n",
       "  text-align: left;\n",
       "}\n",
       "#T_1a4a0_row0_col1, #T_1a4a0_row0_col2, #T_1a4a0_row0_col3, #T_1a4a0_row0_col4, #T_1a4a0_row0_col5, #T_1a4a0_row0_col6 {\n",
       "  text-align: left;\n",
       "  background-color: yellow;\n",
       "}\n",
       "#T_1a4a0_row0_col7 {\n",
       "  text-align: left;\n",
       "  background-color: yellow;\n",
       "  background-color: lightgrey;\n",
       "}\n",
       "</style>\n",
       "<table id=\"T_1a4a0\">\n",
       "  <thead>\n",
       "    <tr>\n",
       "      <th class=\"blank level0\" >&nbsp;</th>\n",
       "      <th id=\"T_1a4a0_level0_col0\" class=\"col_heading level0 col0\" >Model</th>\n",
       "      <th id=\"T_1a4a0_level0_col1\" class=\"col_heading level0 col1\" >MAE</th>\n",
       "      <th id=\"T_1a4a0_level0_col2\" class=\"col_heading level0 col2\" >MSE</th>\n",
       "      <th id=\"T_1a4a0_level0_col3\" class=\"col_heading level0 col3\" >RMSE</th>\n",
       "      <th id=\"T_1a4a0_level0_col4\" class=\"col_heading level0 col4\" >R2</th>\n",
       "      <th id=\"T_1a4a0_level0_col5\" class=\"col_heading level0 col5\" >RMSLE</th>\n",
       "      <th id=\"T_1a4a0_level0_col6\" class=\"col_heading level0 col6\" >MAPE</th>\n",
       "      <th id=\"T_1a4a0_level0_col7\" class=\"col_heading level0 col7\" >TT (Sec)</th>\n",
       "    </tr>\n",
       "  </thead>\n",
       "  <tbody>\n",
       "    <tr>\n",
       "      <th id=\"T_1a4a0_level0_row0\" class=\"row_heading level0 row0\" >lightgbm</th>\n",
       "      <td id=\"T_1a4a0_row0_col0\" class=\"data row0 col0\" >Light Gradient Boosting Machine</td>\n",
       "      <td id=\"T_1a4a0_row0_col1\" class=\"data row0 col1\" >0.00000</td>\n",
       "      <td id=\"T_1a4a0_row0_col2\" class=\"data row0 col2\" >0.00000</td>\n",
       "      <td id=\"T_1a4a0_row0_col3\" class=\"data row0 col3\" >0.00000</td>\n",
       "      <td id=\"T_1a4a0_row0_col4\" class=\"data row0 col4\" >0.75800</td>\n",
       "      <td id=\"T_1a4a0_row0_col5\" class=\"data row0 col5\" >0.00000</td>\n",
       "      <td id=\"T_1a4a0_row0_col6\" class=\"data row0 col6\" >8.37230</td>\n",
       "      <td id=\"T_1a4a0_row0_col7\" class=\"data row0 col7\" >1.18000</td>\n",
       "    </tr>\n",
       "  </tbody>\n",
       "</table>\n"
      ],
      "text/plain": [
       "<pandas.io.formats.style.Styler at 0x7f2940560a50>"
      ]
     },
     "metadata": {},
     "output_type": "display_data"
    },
    {
     "data": {
      "text/html": [],
      "text/plain": [
       "<IPython.core.display.HTML object>"
      ]
     },
     "metadata": {},
     "output_type": "display_data"
    },
    {
     "name": "stderr",
     "output_type": "stream",
     "text": [
      "2023-12-12 15:29:03,119 - distributed.utils_perf - WARNING - full garbage collections took 23% CPU time recently (threshold: 10%)\n",
      "2023-12-12 15:29:03,542 - distributed.utils_perf - WARNING - full garbage collections took 23% CPU time recently (threshold: 10%)\n",
      "2023-12-12 15:29:04,091 - distributed.utils_perf - WARNING - full garbage collections took 23% CPU time recently (threshold: 10%)\n",
      "2023-12-12 15:29:04,852 - distributed.utils_perf - WARNING - full garbage collections took 26% CPU time recently (threshold: 10%)\n",
      "2023-12-12 15:29:05,162 - distributed.utils_perf - WARNING - full garbage collections took 26% CPU time recently (threshold: 10%)\n",
      "2023-12-12 15:29:06,751 - distributed.utils_perf - WARNING - full garbage collections took 25% CPU time recently (threshold: 10%)\n"
     ]
    },
    {
     "data": {
      "text/html": [],
      "text/plain": [
       "<IPython.core.display.HTML object>"
      ]
     },
     "metadata": {},
     "output_type": "display_data"
    },
    {
     "name": "stderr",
     "output_type": "stream",
     "text": [
      "2023-12-12 15:29:07,223 - distributed.utils_perf - WARNING - full garbage collections took 25% CPU time recently (threshold: 10%)\n",
      "2023-12-12 15:29:07,812 - distributed.utils_perf - WARNING - full garbage collections took 25% CPU time recently (threshold: 10%)\n"
     ]
    }
   ],
   "source": [
    "carbon_tracker.validate_model(df_na, 5, x_keys, y_key, output_dir)"
   ]
  },
  {
   "cell_type": "markdown",
   "metadata": {},
   "source": [
    "Train the model over the entire dataset."
   ]
  },
  {
   "cell_type": "code",
   "execution_count": null,
   "metadata": {},
   "outputs": [],
   "source": [
    "pycs, model = carbon_tracker.train_model(df_na, x_keys, y_key)"
   ]
  },
  {
   "cell_type": "markdown",
   "metadata": {},
   "source": [
    "Save the model to ONNX in the output directory. "
   ]
  },
  {
   "cell_type": "code",
   "execution_count": null,
   "metadata": {},
   "outputs": [
    {
     "name": "stderr",
     "output_type": "stream",
     "text": [
      "2023-12-12 15:29:08,971 - distributed.utils_perf - WARNING - full garbage collections took 26% CPU time recently (threshold: 10%)\n",
      "2023-12-12 15:29:12,288 - distributed.utils_perf - WARNING - full garbage collections took 24% CPU time recently (threshold: 10%)\n"
     ]
    },
    {
     "data": {
      "text/html": [],
      "text/plain": [
       "<IPython.core.display.HTML object>"
      ]
     },
     "metadata": {},
     "output_type": "display_data"
    },
    {
     "data": {
      "text/html": [
       "<style type=\"text/css\">\n",
       "#T_ea4e1 th {\n",
       "  text-align: left;\n",
       "}\n",
       "#T_ea4e1_row0_col0 {\n",
       "  text-align: left;\n",
       "}\n",
       "#T_ea4e1_row0_col1, #T_ea4e1_row0_col2, #T_ea4e1_row0_col3, #T_ea4e1_row0_col4, #T_ea4e1_row0_col5, #T_ea4e1_row0_col6 {\n",
       "  text-align: left;\n",
       "  background-color: yellow;\n",
       "}\n",
       "#T_ea4e1_row0_col7 {\n",
       "  text-align: left;\n",
       "  background-color: yellow;\n",
       "  background-color: lightgrey;\n",
       "}\n",
       "</style>\n",
       "<table id=\"T_ea4e1\">\n",
       "  <thead>\n",
       "    <tr>\n",
       "      <th class=\"blank level0\" >&nbsp;</th>\n",
       "      <th id=\"T_ea4e1_level0_col0\" class=\"col_heading level0 col0\" >Model</th>\n",
       "      <th id=\"T_ea4e1_level0_col1\" class=\"col_heading level0 col1\" >MAE</th>\n",
       "      <th id=\"T_ea4e1_level0_col2\" class=\"col_heading level0 col2\" >MSE</th>\n",
       "      <th id=\"T_ea4e1_level0_col3\" class=\"col_heading level0 col3\" >RMSE</th>\n",
       "      <th id=\"T_ea4e1_level0_col4\" class=\"col_heading level0 col4\" >R2</th>\n",
       "      <th id=\"T_ea4e1_level0_col5\" class=\"col_heading level0 col5\" >RMSLE</th>\n",
       "      <th id=\"T_ea4e1_level0_col6\" class=\"col_heading level0 col6\" >MAPE</th>\n",
       "      <th id=\"T_ea4e1_level0_col7\" class=\"col_heading level0 col7\" >TT (Sec)</th>\n",
       "    </tr>\n",
       "  </thead>\n",
       "  <tbody>\n",
       "    <tr>\n",
       "      <th id=\"T_ea4e1_level0_row0\" class=\"row_heading level0 row0\" >lightgbm</th>\n",
       "      <td id=\"T_ea4e1_row0_col0\" class=\"data row0 col0\" >Light Gradient Boosting Machine</td>\n",
       "      <td id=\"T_ea4e1_row0_col1\" class=\"data row0 col1\" >0.00000</td>\n",
       "      <td id=\"T_ea4e1_row0_col2\" class=\"data row0 col2\" >0.00000</td>\n",
       "      <td id=\"T_ea4e1_row0_col3\" class=\"data row0 col3\" >0.00000</td>\n",
       "      <td id=\"T_ea4e1_row0_col4\" class=\"data row0 col4\" >0.76910</td>\n",
       "      <td id=\"T_ea4e1_row0_col5\" class=\"data row0 col5\" >0.00000</td>\n",
       "      <td id=\"T_ea4e1_row0_col6\" class=\"data row0 col6\" >3.96930</td>\n",
       "      <td id=\"T_ea4e1_row0_col7\" class=\"data row0 col7\" >1.57000</td>\n",
       "    </tr>\n",
       "  </tbody>\n",
       "</table>\n"
      ],
      "text/plain": [
       "<pandas.io.formats.style.Styler at 0x7f294e2386d0>"
      ]
     },
     "metadata": {},
     "output_type": "display_data"
    },
    {
     "data": {
      "text/html": [],
      "text/plain": [
       "<IPython.core.display.HTML object>"
      ]
     },
     "metadata": {},
     "output_type": "display_data"
    },
    {
     "name": "stderr",
     "output_type": "stream",
     "text": [
      "2023-12-12 15:29:15,464 - distributed.utils_perf - WARNING - full garbage collections took 22% CPU time recently (threshold: 10%)\n",
      "2023-12-12 15:29:15,987 - distributed.utils_perf - WARNING - full garbage collections took 23% CPU time recently (threshold: 10%)\n",
      "2023-12-12 15:29:16,707 - distributed.utils_perf - WARNING - full garbage collections took 26% CPU time recently (threshold: 10%)\n",
      "2023-12-12 15:29:17,696 - distributed.utils_perf - WARNING - full garbage collections took 26% CPU time recently (threshold: 10%)\n",
      "2023-12-12 15:29:18,022 - distributed.utils_perf - WARNING - full garbage collections took 26% CPU time recently (threshold: 10%)\n",
      "2023-12-12 15:29:20,130 - distributed.utils_perf - WARNING - full garbage collections took 25% CPU time recently (threshold: 10%)\n",
      "The maximum opset needed by this model is only 8.\n"
     ]
    }
   ],
   "source": [
    "\n",
    "carbon_tracker.save_model(pycs, model, output_dir)"
   ]
  },
  {
   "cell_type": "markdown",
   "metadata": {},
   "source": [
    "Create dataframe to run the model with. "
   ]
  },
  {
   "cell_type": "code",
   "execution_count": null,
   "metadata": {},
   "outputs": [
    {
     "data": {
      "text/html": [
       "<div>\n",
       "<style scoped>\n",
       "    .dataframe tbody tr th:only-of-type {\n",
       "        vertical-align: middle;\n",
       "    }\n",
       "\n",
       "    .dataframe tbody tr th {\n",
       "        vertical-align: top;\n",
       "    }\n",
       "\n",
       "    .dataframe thead th {\n",
       "        text-align: right;\n",
       "    }\n",
       "</style>\n",
       "<table border=\"1\" class=\"dataframe\">\n",
       "  <thead>\n",
       "    <tr style=\"text-align: right;\">\n",
       "      <th></th>\n",
       "      <th></th>\n",
       "      <th></th>\n",
       "      <th>d2m</th>\n",
       "      <th>mslhf</th>\n",
       "      <th>msshf</th>\n",
       "      <th>ssr</th>\n",
       "      <th>str</th>\n",
       "      <th>t2m</th>\n",
       "      <th>spei</th>\n",
       "      <th>NIRv</th>\n",
       "      <th>skt</th>\n",
       "      <th>stl1</th>\n",
       "      <th>swvl1</th>\n",
       "      <th>lccs_class</th>\n",
       "    </tr>\n",
       "    <tr>\n",
       "      <th>time</th>\n",
       "      <th>latitude</th>\n",
       "      <th>longitude</th>\n",
       "      <th></th>\n",
       "      <th></th>\n",
       "      <th></th>\n",
       "      <th></th>\n",
       "      <th></th>\n",
       "      <th></th>\n",
       "      <th></th>\n",
       "      <th></th>\n",
       "      <th></th>\n",
       "      <th></th>\n",
       "      <th></th>\n",
       "      <th></th>\n",
       "    </tr>\n",
       "  </thead>\n",
       "  <tbody>\n",
       "    <tr>\n",
       "      <th rowspan=\"5\" valign=\"top\">2000-08-01</th>\n",
       "      <th rowspan=\"3\" valign=\"top\">16.5</th>\n",
       "      <th>-97.5</th>\n",
       "      <td>291.160736</td>\n",
       "      <td>-123.552444</td>\n",
       "      <td>-29.256828</td>\n",
       "      <td>17632392.0</td>\n",
       "      <td>-4539167.0</td>\n",
       "      <td>294.455078</td>\n",
       "      <td>0.402637</td>\n",
       "      <td>0.264352</td>\n",
       "      <td>293.800140</td>\n",
       "      <td>294.488708</td>\n",
       "      <td>0.405656</td>\n",
       "      <td>90.0</td>\n",
       "    </tr>\n",
       "    <tr>\n",
       "      <th>-96.5</th>\n",
       "      <td>287.451385</td>\n",
       "      <td>-98.636139</td>\n",
       "      <td>-44.350342</td>\n",
       "      <td>17875046.0</td>\n",
       "      <td>-5688396.0</td>\n",
       "      <td>291.743347</td>\n",
       "      <td>0.859432</td>\n",
       "      <td>0.186314</td>\n",
       "      <td>291.346344</td>\n",
       "      <td>292.329987</td>\n",
       "      <td>0.441099</td>\n",
       "      <td>120.0</td>\n",
       "    </tr>\n",
       "    <tr>\n",
       "      <th>-95.5</th>\n",
       "      <td>292.602661</td>\n",
       "      <td>-88.933502</td>\n",
       "      <td>-76.770813</td>\n",
       "      <td>18379498.0</td>\n",
       "      <td>-4277693.5</td>\n",
       "      <td>298.020874</td>\n",
       "      <td>-0.002091</td>\n",
       "      <td>0.245570</td>\n",
       "      <td>298.976379</td>\n",
       "      <td>299.503906</td>\n",
       "      <td>0.340303</td>\n",
       "      <td>60.0</td>\n",
       "    </tr>\n",
       "    <tr>\n",
       "      <th rowspan=\"2\" valign=\"top\">17.5</th>\n",
       "      <th>-100.5</th>\n",
       "      <td>290.568329</td>\n",
       "      <td>-118.364532</td>\n",
       "      <td>-51.205177</td>\n",
       "      <td>17707054.0</td>\n",
       "      <td>-3109625.0</td>\n",
       "      <td>293.402252</td>\n",
       "      <td>0.364373</td>\n",
       "      <td>0.270905</td>\n",
       "      <td>293.096253</td>\n",
       "      <td>293.790924</td>\n",
       "      <td>0.412808</td>\n",
       "      <td>90.0</td>\n",
       "    </tr>\n",
       "    <tr>\n",
       "      <th>-99.5</th>\n",
       "      <td>290.078156</td>\n",
       "      <td>-119.800644</td>\n",
       "      <td>-42.374344</td>\n",
       "      <td>17862124.0</td>\n",
       "      <td>-3914028.0</td>\n",
       "      <td>293.219940</td>\n",
       "      <td>0.007593</td>\n",
       "      <td>0.249498</td>\n",
       "      <td>291.973236</td>\n",
       "      <td>292.737579</td>\n",
       "      <td>0.406332</td>\n",
       "      <td>120.0</td>\n",
       "    </tr>\n",
       "  </tbody>\n",
       "</table>\n",
       "</div>"
      ],
      "text/plain": [
       "                                      d2m       mslhf      msshf         ssr  \\\n",
       "time       latitude longitude                                                  \n",
       "2000-08-01 16.5     -97.5      291.160736 -123.552444 -29.256828  17632392.0   \n",
       "                    -96.5      287.451385  -98.636139 -44.350342  17875046.0   \n",
       "                    -95.5      292.602661  -88.933502 -76.770813  18379498.0   \n",
       "           17.5     -100.5     290.568329 -118.364532 -51.205177  17707054.0   \n",
       "                    -99.5      290.078156 -119.800644 -42.374344  17862124.0   \n",
       "\n",
       "                                     str         t2m      spei      NIRv  \\\n",
       "time       latitude longitude                                              \n",
       "2000-08-01 16.5     -97.5     -4539167.0  294.455078  0.402637  0.264352   \n",
       "                    -96.5     -5688396.0  291.743347  0.859432  0.186314   \n",
       "                    -95.5     -4277693.5  298.020874 -0.002091  0.245570   \n",
       "           17.5     -100.5    -3109625.0  293.402252  0.364373  0.270905   \n",
       "                    -99.5     -3914028.0  293.219940  0.007593  0.249498   \n",
       "\n",
       "                                      skt        stl1     swvl1  lccs_class  \n",
       "time       latitude longitude                                                \n",
       "2000-08-01 16.5     -97.5      293.800140  294.488708  0.405656        90.0  \n",
       "                    -96.5      291.346344  292.329987  0.441099       120.0  \n",
       "                    -95.5      298.976379  299.503906  0.340303        60.0  \n",
       "           17.5     -100.5     293.096253  293.790924  0.412808        90.0  \n",
       "                    -99.5      291.973236  292.737579  0.406332       120.0  "
      ]
     },
     "execution_count": 8,
     "metadata": {},
     "output_type": "execute_result"
    }
   ],
   "source": [
    "df = df_na[x_keys]\n",
    "df.head()"
   ]
  },
  {
   "cell_type": "markdown",
   "metadata": {},
   "source": [
    "Open model and run it over the dataframe to check it was saved correctly. "
   ]
  },
  {
   "cell_type": "code",
   "execution_count": null,
   "metadata": {},
   "outputs": [],
   "source": [
    "import datetime\n",
    "\n",
    "from onnxruntime import InferenceSession\n",
    "\n",
    "\n",
    "with open(output_dir / \"lightgbm.onnx\", \"rb\") as f:\n",
    "    model = f.read()\n",
    "\n",
    "sess = InferenceSession(model)\n",
    "predictions_onnx = sess.run(None, {'X': df.to_numpy()})[0]"
   ]
  },
  {
   "cell_type": "code",
   "execution_count": null,
   "metadata": {},
   "outputs": [
    {
     "data": {
      "text/plain": [
       "array([[-1.1604789e-06],\n",
       "       [-5.3657362e-07],\n",
       "       [-4.3432399e-07],\n",
       "       ...,\n",
       "       [ 4.4027504e-07],\n",
       "       [ 4.7860465e-07],\n",
       "       [ 1.3122254e-07]], dtype=float32)"
      ]
     },
     "execution_count": 10,
     "metadata": {},
     "output_type": "execute_result"
    }
   ],
   "source": [
    "predictions_onnx"
   ]
  }
 ],
 "metadata": {
  "kernelspec": {
   "display_name": "venv",
   "language": "python",
   "name": "python3"
  },
  "language_info": {
   "codemirror_mode": {
    "name": "ipython",
    "version": 3
   },
   "file_extension": ".py",
   "mimetype": "text/x-python",
   "name": "python",
   "nbconvert_exporter": "python",
   "pygments_lexer": "ipython3",
   "version": "3.11.4"
  }
 },
 "nbformat": 4,
 "nbformat_minor": 2
}
