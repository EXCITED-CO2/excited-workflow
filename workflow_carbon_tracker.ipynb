{
 "cells": [
  {
   "cell_type": "markdown",
   "metadata": {},
   "source": [
    "# Training a model on CarbonTracker's carbon flux\n",
    "This notebook outlines the entire workflow to load and preprocess the following data sets, to be able to train a ML model:\n",
    "\n",
    "- CarbonTracker\n",
    "- ERA5 (monthly)\n",
    "- ERA5-land (monthly)\n",
    "- SPEI (monthly)\n",
    "- MODIS (monthly)\n",
    "- Biomass (yearly)\n",
    "- Copernicus Landcover (yearly)\n",
    "\n",
    "First follow the data downloading and config setup instuctions.\n",
    "\n",
    "If you run this notebook on Surf Research Cloud, you shouldn't need to do this anymore."
   ]
  },
  {
   "cell_type": "markdown",
   "metadata": {},
   "source": [
    "We start by setting up a Dask client. This will ensure that Dask can run efficiently to process the data:"
   ]
  },
  {
   "cell_type": "code",
   "execution_count": 1,
   "metadata": {},
   "outputs": [
    {
     "name": "stderr",
     "output_type": "stream",
     "text": [
      "/home/cdonnelly/excited-workflow/venv/lib/python3.11/site-packages/distributed/node.py:182: UserWarning: Port 8787 is already in use.\n",
      "Perhaps you already have a cluster running?\n",
      "Hosting the HTTP server on port 42025 instead\n",
      "  warnings.warn(\n"
     ]
    }
   ],
   "source": [
    "from dask.distributed import Client\n",
    "client = Client()"
   ]
  },
  {
   "cell_type": "code",
   "execution_count": 2,
   "metadata": {},
   "outputs": [],
   "source": [
    "import excited_workflow\n",
    "from pathlib import Path\n",
    "import xarray as xr\n",
    "import xarray_regrid  # Importing this will make Dataset.regrid accessible."
   ]
  },
  {
   "cell_type": "markdown",
   "metadata": {},
   "source": [
    "We will load the CarbonTracker data into an xarray `Dataset` and convert the timestamps (middle point of each month) to a more standard format (1st day of the month), to allow merging with the other datasets."
   ]
  },
  {
   "cell_type": "code",
   "execution_count": 3,
   "metadata": {},
   "outputs": [],
   "source": [
    "ds_cb = xr.open_dataset(\"/data/volume_2/EXCITED_prepped_data/CT2022.flux1x1-monthly.nc\")\n",
    "ds_cb = excited_workflow.utils.convert_timestamps(ds_cb)"
   ]
  },
  {
   "cell_type": "markdown",
   "metadata": {},
   "source": [
    "The other datasets can be found using the excited_workflow.source_datasets module:"
   ]
  },
  {
   "cell_type": "code",
   "execution_count": 4,
   "metadata": {},
   "outputs": [
    {
     "data": {
      "text/plain": [
       "{'biomass': <excited_workflow.source_datasets.biomass.Biomass at 0x7efe6c662b50>,\n",
       " 'era5_hourly': <excited_workflow.source_datasets.era5.ERA5Hourly at 0x7efe6c6df550>,\n",
       " 'era5_monthly': <excited_workflow.source_datasets.era5.ERA5Monthly at 0x7efe6c6df110>,\n",
       " 'era5_land_monthly': <excited_workflow.source_datasets.era5.ERA5LandMonthly at 0x7efe6c6dfe90>,\n",
       " 'copernicus_landcover': <excited_workflow.source_datasets.land_cover.LandCover at 0x7efe6c6dde90>,\n",
       " 'modis': <excited_workflow.source_datasets.modis.Modis at 0x7efe6c6df090>,\n",
       " 'spei': <excited_workflow.source_datasets.spei.Spei at 0x7efe6c516390>}"
      ]
     },
     "execution_count": 4,
     "metadata": {},
     "output_type": "execute_result"
    }
   ],
   "source": [
    "from excited_workflow.source_datasets import datasets\n",
    "datasets"
   ]
  },
  {
   "cell_type": "markdown",
   "metadata": {},
   "source": [
    "We can loop over the desired datasets and merge them into a single xr.Dataset:"
   ]
  },
  {
   "cell_type": "code",
   "execution_count": 5,
   "metadata": {},
   "outputs": [
    {
     "name": "stdout",
     "output_type": "stream",
     "text": [
      "'ESACCI-LC-L4-LCCS-Map-300m-P1Y-2014-v2.0.7cds.nc' not found or not valid for target dataset. Regridding.\n",
      "'ESACCI-LC-L4-LCCS-Map-300m-P1Y-2015-v2.0.7cds.nc' not found or not valid for target dataset. Regridding.\n"
     ]
    }
   ],
   "source": [
    "desired_data = [\n",
    "    \"biomass\",\n",
    "    \"spei\",\n",
    "    \"modis\",\n",
    "    \"era5_monthly\",\n",
    "    \"era5_land_monthly\",\n",
    "    \"copernicus_landcover\"\n",
    "]\n",
    "ds_input = xr.merge(\n",
    "    [datasets[name].load(freq=\"monthly\", target_grid=ds_cb) for name in desired_data]\n",
    ")"
   ]
  },
  {
   "cell_type": "markdown",
   "metadata": {},
   "source": [
    "To limit the analyis to Transcom region 2 (North America) we require the `regions.nc` file:"
   ]
  },
  {
   "cell_type": "code",
   "execution_count": 6,
   "metadata": {},
   "outputs": [],
   "source": [
    "ds_regions = xr.open_dataset(\"/data/volume_2/EXCITED_prepped_data/regions.nc\")\n",
    "# Uncomment the next line to preview the region:\n",
    "#ds_regions[\"transcom_regions\"].where(ds_regions[\"transcom_regions\"]==2).plot()"
   ]
  },
  {
   "cell_type": "markdown",
   "metadata": {},
   "source": [
    "Now we can merge everything together. From the CarbonTracker file we only require the `bio_flux_opt` variable:"
   ]
  },
  {
   "cell_type": "code",
   "execution_count": 7,
   "metadata": {},
   "outputs": [],
   "source": [
    "ds_merged = xr.merge([\n",
    "    ds_cb[[\"bio_flux_opt\"]], \n",
    "    ds_regions[\"transcom_regions\"],\n",
    "    ds_input,\n",
    "])"
   ]
  },
  {
   "cell_type": "markdown",
   "metadata": {},
   "source": [
    "To make computations faster and less memory intensive, we can reduce the scope to only North America.\n",
    "\n",
    "This `.sel` operation reduces the size of the dataset from worldwide to only a rectangular area around North America:"
   ]
  },
  {
   "cell_type": "code",
   "execution_count": 8,
   "metadata": {},
   "outputs": [],
   "source": [
    "time_region_na = {\n",
    "    \"time\": slice(\"2010-01\", \"2019-12\"),\n",
    "    \"latitude\": slice(15, 60),\n",
    "    \"longitude\": slice(-140, -55),\n",
    "}\n",
    "ds_na = ds_merged.sel(time_region_na)"
   ]
  },
  {
   "cell_type": "code",
   "execution_count": 9,
   "metadata": {},
   "outputs": [],
   "source": [
    "ds_na = ds_na.compute()"
   ]
  },
  {
   "cell_type": "markdown",
   "metadata": {},
   "source": [
    "From this North American dataset we can mask the transcom region, and preview the 2m air temperature of ERA5:"
   ]
  },
  {
   "cell_type": "code",
   "execution_count": 10,
   "metadata": {},
   "outputs": [
    {
     "data": {
      "image/png": "[encoded data removed]",
      "text/plain": [
       "<Figure size 500x300 with 2 Axes>"
      ]
     },
     "metadata": {},
     "output_type": "display_data"
    }
   ],
   "source": [
    "ds_na = ds_na.where(ds_merged[\"transcom_regions\"]==2)\n",
    "\n",
    "import matplotlib.pyplot as plt\n",
    "plt.figure(figsize=(5,3))\n",
    "ds_na[\"lccs_class\"].isel(time=0).plot()\n",
    "plt.tight_layout()"
   ]
  },
  {
   "cell_type": "markdown",
   "metadata": {},
   "source": [
    "To prepare the data for training, we convert it to a Pandas `DataFrame`."
   ]
  },
  {
   "cell_type": "code",
   "execution_count": 11,
   "metadata": {},
   "outputs": [
    {
     "data": {
      "text/plain": [
       "Index(['bio_flux_opt', 'transcom_regions', 'biomass', 'spei', 'NDVI', 'NIRv',\n",
       "       'd2m', 'mslhf', 'msshf', 'sp', 'ssr', 'str', 't2m', 'tp', 'tvh', 'tvl',\n",
       "       'skt', 'stl1', 'stl2', 'stl3', 'stl4', 'swvl1', 'swvl2', 'swvl3',\n",
       "       'swvl4', 'lccs_class'],\n",
       "      dtype='object')"
      ]
     },
     "execution_count": 11,
     "metadata": {},
     "output_type": "execute_result"
    }
   ],
   "source": [
    "df_train = ds_na.to_dataframe().dropna()\n",
    "df_train.columns"
   ]
  },
  {
   "cell_type": "markdown",
   "metadata": {},
   "source": [
    "Now we can our ML models on the data. Here we use pycaret to try a set of models and see which type performs best."
   ]
  },
  {
   "cell_type": "code",
   "execution_count": 12,
   "metadata": {},
   "outputs": [
    {
     "data": {
      "text/html": [
       "<style type=\"text/css\">\n",
       "#T_5858f_row8_col1 {\n",
       "  background-color: lightgreen;\n",
       "}\n",
       "</style>\n",
       "<table id=\"T_5858f\">\n",
       "  <thead>\n",
       "    <tr>\n",
       "      <th class=\"blank level0\" >&nbsp;</th>\n",
       "      <th id=\"T_5858f_level0_col0\" class=\"col_heading level0 col0\" >Description</th>\n",
       "      <th id=\"T_5858f_level0_col1\" class=\"col_heading level0 col1\" >Value</th>\n",
       "    </tr>\n",
       "  </thead>\n",
       "  <tbody>\n",
       "    <tr>\n",
       "      <th id=\"T_5858f_level0_row0\" class=\"row_heading level0 row0\" >0</th>\n",
       "      <td id=\"T_5858f_row0_col0\" class=\"data row0 col0\" >Session id</td>\n",
       "      <td id=\"T_5858f_row0_col1\" class=\"data row0 col1\" >4081</td>\n",
       "    </tr>\n",
       "    <tr>\n",
       "      <th id=\"T_5858f_level0_row1\" class=\"row_heading level0 row1\" >1</th>\n",
       "      <td id=\"T_5858f_row1_col0\" class=\"data row1 col0\" >Target</td>\n",
       "      <td id=\"T_5858f_row1_col1\" class=\"data row1 col1\" >bio_flux_opt</td>\n",
       "    </tr>\n",
       "    <tr>\n",
       "      <th id=\"T_5858f_level0_row2\" class=\"row_heading level0 row2\" >2</th>\n",
       "      <td id=\"T_5858f_row2_col0\" class=\"data row2 col0\" >Target type</td>\n",
       "      <td id=\"T_5858f_row2_col1\" class=\"data row2 col1\" >Regression</td>\n",
       "    </tr>\n",
       "    <tr>\n",
       "      <th id=\"T_5858f_level0_row3\" class=\"row_heading level0 row3\" >3</th>\n",
       "      <td id=\"T_5858f_row3_col0\" class=\"data row3 col0\" >Original data shape</td>\n",
       "      <td id=\"T_5858f_row3_col1\" class=\"data row3 col1\" >(13728, 13)</td>\n",
       "    </tr>\n",
       "    <tr>\n",
       "      <th id=\"T_5858f_level0_row4\" class=\"row_heading level0 row4\" >4</th>\n",
       "      <td id=\"T_5858f_row4_col0\" class=\"data row4 col0\" >Transformed data shape</td>\n",
       "      <td id=\"T_5858f_row4_col1\" class=\"data row4 col1\" >(13728, 13)</td>\n",
       "    </tr>\n",
       "    <tr>\n",
       "      <th id=\"T_5858f_level0_row5\" class=\"row_heading level0 row5\" >5</th>\n",
       "      <td id=\"T_5858f_row5_col0\" class=\"data row5 col0\" >Transformed train set shape</td>\n",
       "      <td id=\"T_5858f_row5_col1\" class=\"data row5 col1\" >(9609, 13)</td>\n",
       "    </tr>\n",
       "    <tr>\n",
       "      <th id=\"T_5858f_level0_row6\" class=\"row_heading level0 row6\" >6</th>\n",
       "      <td id=\"T_5858f_row6_col0\" class=\"data row6 col0\" >Transformed test set shape</td>\n",
       "      <td id=\"T_5858f_row6_col1\" class=\"data row6 col1\" >(4119, 13)</td>\n",
       "    </tr>\n",
       "    <tr>\n",
       "      <th id=\"T_5858f_level0_row7\" class=\"row_heading level0 row7\" >7</th>\n",
       "      <td id=\"T_5858f_row7_col0\" class=\"data row7 col0\" >Numeric features</td>\n",
       "      <td id=\"T_5858f_row7_col1\" class=\"data row7 col1\" >12</td>\n",
       "    </tr>\n",
       "    <tr>\n",
       "      <th id=\"T_5858f_level0_row8\" class=\"row_heading level0 row8\" >8</th>\n",
       "      <td id=\"T_5858f_row8_col0\" class=\"data row8 col0\" >Preprocess</td>\n",
       "      <td id=\"T_5858f_row8_col1\" class=\"data row8 col1\" >True</td>\n",
       "    </tr>\n",
       "    <tr>\n",
       "      <th id=\"T_5858f_level0_row9\" class=\"row_heading level0 row9\" >9</th>\n",
       "      <td id=\"T_5858f_row9_col0\" class=\"data row9 col0\" >Imputation type</td>\n",
       "      <td id=\"T_5858f_row9_col1\" class=\"data row9 col1\" >simple</td>\n",
       "    </tr>\n",
       "    <tr>\n",
       "      <th id=\"T_5858f_level0_row10\" class=\"row_heading level0 row10\" >10</th>\n",
       "      <td id=\"T_5858f_row10_col0\" class=\"data row10 col0\" >Numeric imputation</td>\n",
       "      <td id=\"T_5858f_row10_col1\" class=\"data row10 col1\" >mean</td>\n",
       "    </tr>\n",
       "    <tr>\n",
       "      <th id=\"T_5858f_level0_row11\" class=\"row_heading level0 row11\" >11</th>\n",
       "      <td id=\"T_5858f_row11_col0\" class=\"data row11 col0\" >Categorical imputation</td>\n",
       "      <td id=\"T_5858f_row11_col1\" class=\"data row11 col1\" >mode</td>\n",
       "    </tr>\n",
       "    <tr>\n",
       "      <th id=\"T_5858f_level0_row12\" class=\"row_heading level0 row12\" >12</th>\n",
       "      <td id=\"T_5858f_row12_col0\" class=\"data row12 col0\" >Fold Generator</td>\n",
       "      <td id=\"T_5858f_row12_col1\" class=\"data row12 col1\" >KFold</td>\n",
       "    </tr>\n",
       "    <tr>\n",
       "      <th id=\"T_5858f_level0_row13\" class=\"row_heading level0 row13\" >13</th>\n",
       "      <td id=\"T_5858f_row13_col0\" class=\"data row13 col0\" >Fold Number</td>\n",
       "      <td id=\"T_5858f_row13_col1\" class=\"data row13 col1\" >10</td>\n",
       "    </tr>\n",
       "    <tr>\n",
       "      <th id=\"T_5858f_level0_row14\" class=\"row_heading level0 row14\" >14</th>\n",
       "      <td id=\"T_5858f_row14_col0\" class=\"data row14 col0\" >CPU Jobs</td>\n",
       "      <td id=\"T_5858f_row14_col1\" class=\"data row14 col1\" >-1</td>\n",
       "    </tr>\n",
       "    <tr>\n",
       "      <th id=\"T_5858f_level0_row15\" class=\"row_heading level0 row15\" >15</th>\n",
       "      <td id=\"T_5858f_row15_col0\" class=\"data row15 col0\" >Use GPU</td>\n",
       "      <td id=\"T_5858f_row15_col1\" class=\"data row15 col1\" >False</td>\n",
       "    </tr>\n",
       "    <tr>\n",
       "      <th id=\"T_5858f_level0_row16\" class=\"row_heading level0 row16\" >16</th>\n",
       "      <td id=\"T_5858f_row16_col0\" class=\"data row16 col0\" >Log Experiment</td>\n",
       "      <td id=\"T_5858f_row16_col1\" class=\"data row16 col1\" >False</td>\n",
       "    </tr>\n",
       "    <tr>\n",
       "      <th id=\"T_5858f_level0_row17\" class=\"row_heading level0 row17\" >17</th>\n",
       "      <td id=\"T_5858f_row17_col0\" class=\"data row17 col0\" >Experiment Name</td>\n",
       "      <td id=\"T_5858f_row17_col1\" class=\"data row17 col1\" >reg-default-name</td>\n",
       "    </tr>\n",
       "    <tr>\n",
       "      <th id=\"T_5858f_level0_row18\" class=\"row_heading level0 row18\" >18</th>\n",
       "      <td id=\"T_5858f_row18_col0\" class=\"data row18 col0\" >USI</td>\n",
       "      <td id=\"T_5858f_row18_col1\" class=\"data row18 col1\" >2f06</td>\n",
       "    </tr>\n",
       "  </tbody>\n",
       "</table>\n"
      ],
      "text/plain": [
       "<pandas.io.formats.style.Styler at 0x7efe3acf9950>"
      ]
     },
     "metadata": {},
     "output_type": "display_data"
    },
    {
     "data": {
      "text/html": [],
      "text/plain": [
       "<IPython.core.display.HTML object>"
      ]
     },
     "metadata": {},
     "output_type": "display_data"
    },
    {
     "data": {
      "text/html": [
       "<style type=\"text/css\">\n",
       "#T_158ad th {\n",
       "  text-align: left;\n",
       "}\n",
       "#T_158ad_row0_col0, #T_158ad_row0_col6, #T_158ad_row1_col0, #T_158ad_row1_col1, #T_158ad_row1_col2, #T_158ad_row1_col3, #T_158ad_row1_col4, #T_158ad_row1_col5, #T_158ad_row1_col6, #T_158ad_row2_col0, #T_158ad_row2_col1, #T_158ad_row2_col2, #T_158ad_row2_col3, #T_158ad_row2_col4, #T_158ad_row2_col6, #T_158ad_row3_col0, #T_158ad_row3_col1, #T_158ad_row3_col2, #T_158ad_row3_col3, #T_158ad_row3_col4, #T_158ad_row3_col5, #T_158ad_row3_col6, #T_158ad_row4_col0, #T_158ad_row4_col1, #T_158ad_row4_col2, #T_158ad_row4_col3, #T_158ad_row4_col4, #T_158ad_row4_col5, #T_158ad_row4_col6, #T_158ad_row5_col0, #T_158ad_row5_col1, #T_158ad_row5_col2, #T_158ad_row5_col3, #T_158ad_row5_col4, #T_158ad_row5_col5, #T_158ad_row5_col6, #T_158ad_row6_col0, #T_158ad_row6_col1, #T_158ad_row6_col2, #T_158ad_row6_col3, #T_158ad_row6_col4, #T_158ad_row6_col5, #T_158ad_row6_col6, #T_158ad_row7_col0, #T_158ad_row7_col1, #T_158ad_row7_col2, #T_158ad_row7_col3, #T_158ad_row7_col4, #T_158ad_row7_col5, #T_158ad_row7_col6, #T_158ad_row8_col0, #T_158ad_row8_col1, #T_158ad_row8_col2, #T_158ad_row8_col3, #T_158ad_row8_col4, #T_158ad_row8_col5, #T_158ad_row8_col6, #T_158ad_row9_col0, #T_158ad_row9_col1, #T_158ad_row9_col2, #T_158ad_row9_col3, #T_158ad_row9_col4, #T_158ad_row9_col5, #T_158ad_row9_col6, #T_158ad_row10_col0, #T_158ad_row10_col1, #T_158ad_row10_col2, #T_158ad_row10_col3, #T_158ad_row10_col4, #T_158ad_row10_col5, #T_158ad_row10_col6, #T_158ad_row11_col0, #T_158ad_row11_col1, #T_158ad_row11_col2, #T_158ad_row11_col3, #T_158ad_row11_col4, #T_158ad_row11_col5, #T_158ad_row11_col6, #T_158ad_row12_col0, #T_158ad_row12_col1, #T_158ad_row12_col2, #T_158ad_row12_col3, #T_158ad_row12_col4, #T_158ad_row12_col5, #T_158ad_row12_col6, #T_158ad_row13_col0, #T_158ad_row13_col1, #T_158ad_row13_col2, #T_158ad_row13_col3, #T_158ad_row13_col4, #T_158ad_row13_col5, #T_158ad_row13_col6, #T_158ad_row14_col0, #T_158ad_row14_col1, #T_158ad_row14_col2, #T_158ad_row14_col3, #T_158ad_row14_col4, #T_158ad_row14_col5, #T_158ad_row14_col6, #T_158ad_row15_col0, #T_158ad_row15_col1, #T_158ad_row15_col2, #T_158ad_row15_col3, #T_158ad_row15_col4, #T_158ad_row15_col5, #T_158ad_row15_col6, #T_158ad_row16_col0, #T_158ad_row16_col1, #T_158ad_row16_col2, #T_158ad_row16_col3, #T_158ad_row16_col4, #T_158ad_row16_col5, #T_158ad_row17_col0, #T_158ad_row17_col1, #T_158ad_row17_col2, #T_158ad_row17_col3, #T_158ad_row17_col4, #T_158ad_row17_col5, #T_158ad_row17_col6 {\n",
       "  text-align: left;\n",
       "}\n",
       "#T_158ad_row0_col1, #T_158ad_row0_col2, #T_158ad_row0_col3, #T_158ad_row0_col4, #T_158ad_row0_col5, #T_158ad_row2_col5, #T_158ad_row16_col6 {\n",
       "  text-align: left;\n",
       "  background-color: yellow;\n",
       "}\n",
       "#T_158ad_row0_col7, #T_158ad_row1_col7, #T_158ad_row2_col7, #T_158ad_row3_col7, #T_158ad_row6_col7, #T_158ad_row7_col7, #T_158ad_row8_col7, #T_158ad_row9_col7, #T_158ad_row10_col7, #T_158ad_row11_col7, #T_158ad_row13_col7, #T_158ad_row14_col7, #T_158ad_row16_col7, #T_158ad_row17_col7 {\n",
       "  text-align: left;\n",
       "  background-color: lightgrey;\n",
       "}\n",
       "#T_158ad_row4_col7, #T_158ad_row5_col7, #T_158ad_row12_col7, #T_158ad_row15_col7 {\n",
       "  text-align: left;\n",
       "  background-color: yellow;\n",
       "  background-color: lightgrey;\n",
       "}\n",
       "</style>\n",
       "<table id=\"T_158ad\">\n",
       "  <thead>\n",
       "    <tr>\n",
       "      <th class=\"blank level0\" >&nbsp;</th>\n",
       "      <th id=\"T_158ad_level0_col0\" class=\"col_heading level0 col0\" >Model</th>\n",
       "      <th id=\"T_158ad_level0_col1\" class=\"col_heading level0 col1\" >MAE</th>\n",
       "      <th id=\"T_158ad_level0_col2\" class=\"col_heading level0 col2\" >MSE</th>\n",
       "      <th id=\"T_158ad_level0_col3\" class=\"col_heading level0 col3\" >RMSE</th>\n",
       "      <th id=\"T_158ad_level0_col4\" class=\"col_heading level0 col4\" >R2</th>\n",
       "      <th id=\"T_158ad_level0_col5\" class=\"col_heading level0 col5\" >RMSLE</th>\n",
       "      <th id=\"T_158ad_level0_col6\" class=\"col_heading level0 col6\" >MAPE</th>\n",
       "      <th id=\"T_158ad_level0_col7\" class=\"col_heading level0 col7\" >TT (Sec)</th>\n",
       "    </tr>\n",
       "  </thead>\n",
       "  <tbody>\n",
       "    <tr>\n",
       "      <th id=\"T_158ad_level0_row0\" class=\"row_heading level0 row0\" >et</th>\n",
       "      <td id=\"T_158ad_row0_col0\" class=\"data row0 col0\" >Extra Trees Regressor</td>\n",
       "      <td id=\"T_158ad_row0_col1\" class=\"data row0 col1\" >0.32</td>\n",
       "      <td id=\"T_158ad_row0_col2\" class=\"data row0 col2\" >0.25</td>\n",
       "      <td id=\"T_158ad_row0_col3\" class=\"data row0 col3\" >0.50</td>\n",
       "      <td id=\"T_158ad_row0_col4\" class=\"data row0 col4\" >0.76</td>\n",
       "      <td id=\"T_158ad_row0_col5\" class=\"data row0 col5\" >0.23</td>\n",
       "      <td id=\"T_158ad_row0_col6\" class=\"data row0 col6\" >3.99</td>\n",
       "      <td id=\"T_158ad_row0_col7\" class=\"data row0 col7\" >0.89</td>\n",
       "    </tr>\n",
       "    <tr>\n",
       "      <th id=\"T_158ad_level0_row1\" class=\"row_heading level0 row1\" >rf</th>\n",
       "      <td id=\"T_158ad_row1_col0\" class=\"data row1 col0\" >Random Forest Regressor</td>\n",
       "      <td id=\"T_158ad_row1_col1\" class=\"data row1 col1\" >0.33</td>\n",
       "      <td id=\"T_158ad_row1_col2\" class=\"data row1 col2\" >0.26</td>\n",
       "      <td id=\"T_158ad_row1_col3\" class=\"data row1 col3\" >0.51</td>\n",
       "      <td id=\"T_158ad_row1_col4\" class=\"data row1 col4\" >0.75</td>\n",
       "      <td id=\"T_158ad_row1_col5\" class=\"data row1 col5\" >0.24</td>\n",
       "      <td id=\"T_158ad_row1_col6\" class=\"data row1 col6\" >4.07</td>\n",
       "      <td id=\"T_158ad_row1_col7\" class=\"data row1 col7\" >2.81</td>\n",
       "    </tr>\n",
       "    <tr>\n",
       "      <th id=\"T_158ad_level0_row2\" class=\"row_heading level0 row2\" >lightgbm</th>\n",
       "      <td id=\"T_158ad_row2_col0\" class=\"data row2 col0\" >Light Gradient Boosting Machine</td>\n",
       "      <td id=\"T_158ad_row2_col1\" class=\"data row2 col1\" >0.33</td>\n",
       "      <td id=\"T_158ad_row2_col2\" class=\"data row2 col2\" >0.26</td>\n",
       "      <td id=\"T_158ad_row2_col3\" class=\"data row2 col3\" >0.51</td>\n",
       "      <td id=\"T_158ad_row2_col4\" class=\"data row2 col4\" >0.75</td>\n",
       "      <td id=\"T_158ad_row2_col5\" class=\"data row2 col5\" >0.23</td>\n",
       "      <td id=\"T_158ad_row2_col6\" class=\"data row2 col6\" >4.13</td>\n",
       "      <td id=\"T_158ad_row2_col7\" class=\"data row2 col7\" >0.14</td>\n",
       "    </tr>\n",
       "    <tr>\n",
       "      <th id=\"T_158ad_level0_row3\" class=\"row_heading level0 row3\" >gbr</th>\n",
       "      <td id=\"T_158ad_row3_col0\" class=\"data row3 col0\" >Gradient Boosting Regressor</td>\n",
       "      <td id=\"T_158ad_row3_col1\" class=\"data row3 col1\" >0.35</td>\n",
       "      <td id=\"T_158ad_row3_col2\" class=\"data row3 col2\" >0.28</td>\n",
       "      <td id=\"T_158ad_row3_col3\" class=\"data row3 col3\" >0.53</td>\n",
       "      <td id=\"T_158ad_row3_col4\" class=\"data row3 col4\" >0.73</td>\n",
       "      <td id=\"T_158ad_row3_col5\" class=\"data row3 col5\" >0.24</td>\n",
       "      <td id=\"T_158ad_row3_col6\" class=\"data row3 col6\" >4.75</td>\n",
       "      <td id=\"T_158ad_row3_col7\" class=\"data row3 col7\" >1.27</td>\n",
       "    </tr>\n",
       "    <tr>\n",
       "      <th id=\"T_158ad_level0_row4\" class=\"row_heading level0 row4\" >ridge</th>\n",
       "      <td id=\"T_158ad_row4_col0\" class=\"data row4 col0\" >Ridge Regression</td>\n",
       "      <td id=\"T_158ad_row4_col1\" class=\"data row4 col1\" >0.46</td>\n",
       "      <td id=\"T_158ad_row4_col2\" class=\"data row4 col2\" >0.43</td>\n",
       "      <td id=\"T_158ad_row4_col3\" class=\"data row4 col3\" >0.65</td>\n",
       "      <td id=\"T_158ad_row4_col4\" class=\"data row4 col4\" >0.59</td>\n",
       "      <td id=\"T_158ad_row4_col5\" class=\"data row4 col5\" >0.30</td>\n",
       "      <td id=\"T_158ad_row4_col6\" class=\"data row4 col6\" >7.85</td>\n",
       "      <td id=\"T_158ad_row4_col7\" class=\"data row4 col7\" >0.01</td>\n",
       "    </tr>\n",
       "    <tr>\n",
       "      <th id=\"T_158ad_level0_row5\" class=\"row_heading level0 row5\" >br</th>\n",
       "      <td id=\"T_158ad_row5_col0\" class=\"data row5 col0\" >Bayesian Ridge</td>\n",
       "      <td id=\"T_158ad_row5_col1\" class=\"data row5 col1\" >0.46</td>\n",
       "      <td id=\"T_158ad_row5_col2\" class=\"data row5 col2\" >0.43</td>\n",
       "      <td id=\"T_158ad_row5_col3\" class=\"data row5 col3\" >0.66</td>\n",
       "      <td id=\"T_158ad_row5_col4\" class=\"data row5 col4\" >0.59</td>\n",
       "      <td id=\"T_158ad_row5_col5\" class=\"data row5 col5\" >0.30</td>\n",
       "      <td id=\"T_158ad_row5_col6\" class=\"data row5 col6\" >7.89</td>\n",
       "      <td id=\"T_158ad_row5_col7\" class=\"data row5 col7\" >0.01</td>\n",
       "    </tr>\n",
       "    <tr>\n",
       "      <th id=\"T_158ad_level0_row6\" class=\"row_heading level0 row6\" >lar</th>\n",
       "      <td id=\"T_158ad_row6_col0\" class=\"data row6 col0\" >Least Angle Regression</td>\n",
       "      <td id=\"T_158ad_row6_col1\" class=\"data row6 col1\" >0.47</td>\n",
       "      <td id=\"T_158ad_row6_col2\" class=\"data row6 col2\" >0.44</td>\n",
       "      <td id=\"T_158ad_row6_col3\" class=\"data row6 col3\" >0.66</td>\n",
       "      <td id=\"T_158ad_row6_col4\" class=\"data row6 col4\" >0.58</td>\n",
       "      <td id=\"T_158ad_row6_col5\" class=\"data row6 col5\" >0.30</td>\n",
       "      <td id=\"T_158ad_row6_col6\" class=\"data row6 col6\" >8.18</td>\n",
       "      <td id=\"T_158ad_row6_col7\" class=\"data row6 col7\" >0.02</td>\n",
       "    </tr>\n",
       "    <tr>\n",
       "      <th id=\"T_158ad_level0_row7\" class=\"row_heading level0 row7\" >dt</th>\n",
       "      <td id=\"T_158ad_row7_col0\" class=\"data row7 col0\" >Decision Tree Regressor</td>\n",
       "      <td id=\"T_158ad_row7_col1\" class=\"data row7 col1\" >0.47</td>\n",
       "      <td id=\"T_158ad_row7_col2\" class=\"data row7 col2\" >0.52</td>\n",
       "      <td id=\"T_158ad_row7_col3\" class=\"data row7 col3\" >0.72</td>\n",
       "      <td id=\"T_158ad_row7_col4\" class=\"data row7 col4\" >0.49</td>\n",
       "      <td id=\"T_158ad_row7_col5\" class=\"data row7 col5\" >0.32</td>\n",
       "      <td id=\"T_158ad_row7_col6\" class=\"data row7 col6\" >5.21</td>\n",
       "      <td id=\"T_158ad_row7_col7\" class=\"data row7 col7\" >0.06</td>\n",
       "    </tr>\n",
       "    <tr>\n",
       "      <th id=\"T_158ad_level0_row8\" class=\"row_heading level0 row8\" >ada</th>\n",
       "      <td id=\"T_158ad_row8_col0\" class=\"data row8 col0\" >AdaBoost Regressor</td>\n",
       "      <td id=\"T_158ad_row8_col1\" class=\"data row8 col1\" >0.53</td>\n",
       "      <td id=\"T_158ad_row8_col2\" class=\"data row8 col2\" >0.52</td>\n",
       "      <td id=\"T_158ad_row8_col3\" class=\"data row8 col3\" >0.72</td>\n",
       "      <td id=\"T_158ad_row8_col4\" class=\"data row8 col4\" >0.49</td>\n",
       "      <td id=\"T_158ad_row8_col5\" class=\"data row8 col5\" >0.34</td>\n",
       "      <td id=\"T_158ad_row8_col6\" class=\"data row8 col6\" >8.27</td>\n",
       "      <td id=\"T_158ad_row8_col7\" class=\"data row8 col7\" >0.32</td>\n",
       "    </tr>\n",
       "    <tr>\n",
       "      <th id=\"T_158ad_level0_row9\" class=\"row_heading level0 row9\" >lr</th>\n",
       "      <td id=\"T_158ad_row9_col0\" class=\"data row9 col0\" >Linear Regression</td>\n",
       "      <td id=\"T_158ad_row9_col1\" class=\"data row9 col1\" >0.50</td>\n",
       "      <td id=\"T_158ad_row9_col2\" class=\"data row9 col2\" >0.55</td>\n",
       "      <td id=\"T_158ad_row9_col3\" class=\"data row9 col3\" >0.74</td>\n",
       "      <td id=\"T_158ad_row9_col4\" class=\"data row9 col4\" >0.48</td>\n",
       "      <td id=\"T_158ad_row9_col5\" class=\"data row9 col5\" >0.32</td>\n",
       "      <td id=\"T_158ad_row9_col6\" class=\"data row9 col6\" >9.20</td>\n",
       "      <td id=\"T_158ad_row9_col7\" class=\"data row9 col7\" >0.28</td>\n",
       "    </tr>\n",
       "    <tr>\n",
       "      <th id=\"T_158ad_level0_row10\" class=\"row_heading level0 row10\" >lasso</th>\n",
       "      <td id=\"T_158ad_row10_col0\" class=\"data row10 col0\" >Lasso Regression</td>\n",
       "      <td id=\"T_158ad_row10_col1\" class=\"data row10 col1\" >0.51</td>\n",
       "      <td id=\"T_158ad_row10_col2\" class=\"data row10 col2\" >0.58</td>\n",
       "      <td id=\"T_158ad_row10_col3\" class=\"data row10 col3\" >0.76</td>\n",
       "      <td id=\"T_158ad_row10_col4\" class=\"data row10 col4\" >0.45</td>\n",
       "      <td id=\"T_158ad_row10_col5\" class=\"data row10 col5\" >0.33</td>\n",
       "      <td id=\"T_158ad_row10_col6\" class=\"data row10 col6\" >7.71</td>\n",
       "      <td id=\"T_158ad_row10_col7\" class=\"data row10 col7\" >0.02</td>\n",
       "    </tr>\n",
       "    <tr>\n",
       "      <th id=\"T_158ad_level0_row11\" class=\"row_heading level0 row11\" >en</th>\n",
       "      <td id=\"T_158ad_row11_col0\" class=\"data row11 col0\" >Elastic Net</td>\n",
       "      <td id=\"T_158ad_row11_col1\" class=\"data row11 col1\" >0.51</td>\n",
       "      <td id=\"T_158ad_row11_col2\" class=\"data row11 col2\" >0.57</td>\n",
       "      <td id=\"T_158ad_row11_col3\" class=\"data row11 col3\" >0.76</td>\n",
       "      <td id=\"T_158ad_row11_col4\" class=\"data row11 col4\" >0.45</td>\n",
       "      <td id=\"T_158ad_row11_col5\" class=\"data row11 col5\" >0.33</td>\n",
       "      <td id=\"T_158ad_row11_col6\" class=\"data row11 col6\" >8.05</td>\n",
       "      <td id=\"T_158ad_row11_col7\" class=\"data row11 col7\" >0.02</td>\n",
       "    </tr>\n",
       "    <tr>\n",
       "      <th id=\"T_158ad_level0_row12\" class=\"row_heading level0 row12\" >llar</th>\n",
       "      <td id=\"T_158ad_row12_col0\" class=\"data row12 col0\" >Lasso Least Angle Regression</td>\n",
       "      <td id=\"T_158ad_row12_col1\" class=\"data row12 col1\" >0.51</td>\n",
       "      <td id=\"T_158ad_row12_col2\" class=\"data row12 col2\" >0.58</td>\n",
       "      <td id=\"T_158ad_row12_col3\" class=\"data row12 col3\" >0.76</td>\n",
       "      <td id=\"T_158ad_row12_col4\" class=\"data row12 col4\" >0.45</td>\n",
       "      <td id=\"T_158ad_row12_col5\" class=\"data row12 col5\" >0.33</td>\n",
       "      <td id=\"T_158ad_row12_col6\" class=\"data row12 col6\" >7.69</td>\n",
       "      <td id=\"T_158ad_row12_col7\" class=\"data row12 col7\" >0.01</td>\n",
       "    </tr>\n",
       "    <tr>\n",
       "      <th id=\"T_158ad_level0_row13\" class=\"row_heading level0 row13\" >knn</th>\n",
       "      <td id=\"T_158ad_row13_col0\" class=\"data row13 col0\" >K Neighbors Regressor</td>\n",
       "      <td id=\"T_158ad_row13_col1\" class=\"data row13 col1\" >0.52</td>\n",
       "      <td id=\"T_158ad_row13_col2\" class=\"data row13 col2\" >0.65</td>\n",
       "      <td id=\"T_158ad_row13_col3\" class=\"data row13 col3\" >0.80</td>\n",
       "      <td id=\"T_158ad_row13_col4\" class=\"data row13 col4\" >0.38</td>\n",
       "      <td id=\"T_158ad_row13_col5\" class=\"data row13 col5\" >0.35</td>\n",
       "      <td id=\"T_158ad_row13_col6\" class=\"data row13 col6\" >5.82</td>\n",
       "      <td id=\"T_158ad_row13_col7\" class=\"data row13 col7\" >0.03</td>\n",
       "    </tr>\n",
       "    <tr>\n",
       "      <th id=\"T_158ad_level0_row14\" class=\"row_heading level0 row14\" >huber</th>\n",
       "      <td id=\"T_158ad_row14_col0\" class=\"data row14 col0\" >Huber Regressor</td>\n",
       "      <td id=\"T_158ad_row14_col1\" class=\"data row14 col1\" >0.57</td>\n",
       "      <td id=\"T_158ad_row14_col2\" class=\"data row14 col2\" >0.72</td>\n",
       "      <td id=\"T_158ad_row14_col3\" class=\"data row14 col3\" >0.85</td>\n",
       "      <td id=\"T_158ad_row14_col4\" class=\"data row14 col4\" >0.31</td>\n",
       "      <td id=\"T_158ad_row14_col5\" class=\"data row14 col5\" >0.36</td>\n",
       "      <td id=\"T_158ad_row14_col6\" class=\"data row14 col6\" >7.82</td>\n",
       "      <td id=\"T_158ad_row14_col7\" class=\"data row14 col7\" >0.02</td>\n",
       "    </tr>\n",
       "    <tr>\n",
       "      <th id=\"T_158ad_level0_row15\" class=\"row_heading level0 row15\" >omp</th>\n",
       "      <td id=\"T_158ad_row15_col0\" class=\"data row15 col0\" >Orthogonal Matching Pursuit</td>\n",
       "      <td id=\"T_158ad_row15_col1\" class=\"data row15 col1\" >0.57</td>\n",
       "      <td id=\"T_158ad_row15_col2\" class=\"data row15 col2\" >0.74</td>\n",
       "      <td id=\"T_158ad_row15_col3\" class=\"data row15 col3\" >0.86</td>\n",
       "      <td id=\"T_158ad_row15_col4\" class=\"data row15 col4\" >0.29</td>\n",
       "      <td id=\"T_158ad_row15_col5\" class=\"data row15 col5\" >0.38</td>\n",
       "      <td id=\"T_158ad_row15_col6\" class=\"data row15 col6\" >7.35</td>\n",
       "      <td id=\"T_158ad_row15_col7\" class=\"data row15 col7\" >0.01</td>\n",
       "    </tr>\n",
       "    <tr>\n",
       "      <th id=\"T_158ad_level0_row16\" class=\"row_heading level0 row16\" >dummy</th>\n",
       "      <td id=\"T_158ad_row16_col0\" class=\"data row16 col0\" >Dummy Regressor</td>\n",
       "      <td id=\"T_158ad_row16_col1\" class=\"data row16 col1\" >0.67</td>\n",
       "      <td id=\"T_158ad_row16_col2\" class=\"data row16 col2\" >1.05</td>\n",
       "      <td id=\"T_158ad_row16_col3\" class=\"data row16 col3\" >1.02</td>\n",
       "      <td id=\"T_158ad_row16_col4\" class=\"data row16 col4\" >-0.00</td>\n",
       "      <td id=\"T_158ad_row16_col5\" class=\"data row16 col5\" >0.49</td>\n",
       "      <td id=\"T_158ad_row16_col6\" class=\"data row16 col6\" >2.76</td>\n",
       "      <td id=\"T_158ad_row16_col7\" class=\"data row16 col7\" >0.02</td>\n",
       "    </tr>\n",
       "    <tr>\n",
       "      <th id=\"T_158ad_level0_row17\" class=\"row_heading level0 row17\" >par</th>\n",
       "      <td id=\"T_158ad_row17_col0\" class=\"data row17 col0\" >Passive Aggressive Regressor</td>\n",
       "      <td id=\"T_158ad_row17_col1\" class=\"data row17 col1\" >0.89</td>\n",
       "      <td id=\"T_158ad_row17_col2\" class=\"data row17 col2\" >1.47</td>\n",
       "      <td id=\"T_158ad_row17_col3\" class=\"data row17 col3\" >1.16</td>\n",
       "      <td id=\"T_158ad_row17_col4\" class=\"data row17 col4\" >-0.41</td>\n",
       "      <td id=\"T_158ad_row17_col5\" class=\"data row17 col5\" >0.50</td>\n",
       "      <td id=\"T_158ad_row17_col6\" class=\"data row17 col6\" >22.51</td>\n",
       "      <td id=\"T_158ad_row17_col7\" class=\"data row17 col7\" >0.02</td>\n",
       "    </tr>\n",
       "  </tbody>\n",
       "</table>\n"
      ],
      "text/plain": [
       "<pandas.io.formats.style.Styler at 0x7efe3b8dad90>"
      ]
     },
     "metadata": {},
     "output_type": "display_data"
    },
    {
     "data": {
      "text/html": [],
      "text/plain": [
       "<IPython.core.display.HTML object>"
      ]
     },
     "metadata": {},
     "output_type": "display_data"
    }
   ],
   "source": [
    "X_keys = [\"d2m\", \"mslhf\", \"msshf\", \"ssr\", \"str\", \"t2m\", \"spei\", \"NIRv\", \"skt\", \"stl1\", \"swvl1\", \"lccs_class\"]\n",
    "y_key = \"bio_flux_opt\"\n",
    "\n",
    "df_pycaret = df_train[X_keys + [y_key]]\n",
    "df_reduced = df_pycaret[::10]\n",
    "\n",
    "df_reduced[\"bio_flux_opt\"] = df_reduced[\"bio_flux_opt\"]*1e6  # So RMSE etc. are easier to interpret.\n",
    "\n",
    "import pycaret.regression\n",
    "pycs = pycaret.regression.setup(df_reduced, target=y_key)\n",
    "best = pycs.compare_models(n_select=5, round=2)"
   ]
  },
  {
   "cell_type": "markdown",
   "metadata": {},
   "source": [
    "Using pycaret, the trained models can be evaluated."
   ]
  },
  {
   "cell_type": "code",
   "execution_count": 13,
   "metadata": {},
   "outputs": [
    {
     "data": {
      "text/html": [],
      "text/plain": [
       "<IPython.core.display.HTML object>"
      ]
     },
     "metadata": {},
     "output_type": "display_data"
    },
    {
     "data": {
      "image/png": "[encoded data removed]",
      "text/plain": [
       "<Figure size 800x500 with 1 Axes>"
      ]
     },
     "metadata": {},
     "output_type": "display_data"
    }
   ],
   "source": [
    "pycs.plot_model(best[0], plot=\"feature\")"
   ]
  },
  {
   "cell_type": "markdown",
   "metadata": {},
   "source": [
    "By including biomass info, we get a slightly better model performance."
   ]
  },
  {
   "cell_type": "code",
   "execution_count": 14,
   "metadata": {},
   "outputs": [
    {
     "data": {
      "text/html": [
       "<style type=\"text/css\">\n",
       "#T_a20e0_row8_col1 {\n",
       "  background-color: lightgreen;\n",
       "}\n",
       "</style>\n",
       "<table id=\"T_a20e0\">\n",
       "  <thead>\n",
       "    <tr>\n",
       "      <th class=\"blank level0\" >&nbsp;</th>\n",
       "      <th id=\"T_a20e0_level0_col0\" class=\"col_heading level0 col0\" >Description</th>\n",
       "      <th id=\"T_a20e0_level0_col1\" class=\"col_heading level0 col1\" >Value</th>\n",
       "    </tr>\n",
       "  </thead>\n",
       "  <tbody>\n",
       "    <tr>\n",
       "      <th id=\"T_a20e0_level0_row0\" class=\"row_heading level0 row0\" >0</th>\n",
       "      <td id=\"T_a20e0_row0_col0\" class=\"data row0 col0\" >Session id</td>\n",
       "      <td id=\"T_a20e0_row0_col1\" class=\"data row0 col1\" >1028</td>\n",
       "    </tr>\n",
       "    <tr>\n",
       "      <th id=\"T_a20e0_level0_row1\" class=\"row_heading level0 row1\" >1</th>\n",
       "      <td id=\"T_a20e0_row1_col0\" class=\"data row1 col0\" >Target</td>\n",
       "      <td id=\"T_a20e0_row1_col1\" class=\"data row1 col1\" >bio_flux_opt</td>\n",
       "    </tr>\n",
       "    <tr>\n",
       "      <th id=\"T_a20e0_level0_row2\" class=\"row_heading level0 row2\" >2</th>\n",
       "      <td id=\"T_a20e0_row2_col0\" class=\"data row2 col0\" >Target type</td>\n",
       "      <td id=\"T_a20e0_row2_col1\" class=\"data row2 col1\" >Regression</td>\n",
       "    </tr>\n",
       "    <tr>\n",
       "      <th id=\"T_a20e0_level0_row3\" class=\"row_heading level0 row3\" >3</th>\n",
       "      <td id=\"T_a20e0_row3_col0\" class=\"data row3 col0\" >Original data shape</td>\n",
       "      <td id=\"T_a20e0_row3_col1\" class=\"data row3 col1\" >(13728, 14)</td>\n",
       "    </tr>\n",
       "    <tr>\n",
       "      <th id=\"T_a20e0_level0_row4\" class=\"row_heading level0 row4\" >4</th>\n",
       "      <td id=\"T_a20e0_row4_col0\" class=\"data row4 col0\" >Transformed data shape</td>\n",
       "      <td id=\"T_a20e0_row4_col1\" class=\"data row4 col1\" >(13728, 14)</td>\n",
       "    </tr>\n",
       "    <tr>\n",
       "      <th id=\"T_a20e0_level0_row5\" class=\"row_heading level0 row5\" >5</th>\n",
       "      <td id=\"T_a20e0_row5_col0\" class=\"data row5 col0\" >Transformed train set shape</td>\n",
       "      <td id=\"T_a20e0_row5_col1\" class=\"data row5 col1\" >(9609, 14)</td>\n",
       "    </tr>\n",
       "    <tr>\n",
       "      <th id=\"T_a20e0_level0_row6\" class=\"row_heading level0 row6\" >6</th>\n",
       "      <td id=\"T_a20e0_row6_col0\" class=\"data row6 col0\" >Transformed test set shape</td>\n",
       "      <td id=\"T_a20e0_row6_col1\" class=\"data row6 col1\" >(4119, 14)</td>\n",
       "    </tr>\n",
       "    <tr>\n",
       "      <th id=\"T_a20e0_level0_row7\" class=\"row_heading level0 row7\" >7</th>\n",
       "      <td id=\"T_a20e0_row7_col0\" class=\"data row7 col0\" >Numeric features</td>\n",
       "      <td id=\"T_a20e0_row7_col1\" class=\"data row7 col1\" >13</td>\n",
       "    </tr>\n",
       "    <tr>\n",
       "      <th id=\"T_a20e0_level0_row8\" class=\"row_heading level0 row8\" >8</th>\n",
       "      <td id=\"T_a20e0_row8_col0\" class=\"data row8 col0\" >Preprocess</td>\n",
       "      <td id=\"T_a20e0_row8_col1\" class=\"data row8 col1\" >True</td>\n",
       "    </tr>\n",
       "    <tr>\n",
       "      <th id=\"T_a20e0_level0_row9\" class=\"row_heading level0 row9\" >9</th>\n",
       "      <td id=\"T_a20e0_row9_col0\" class=\"data row9 col0\" >Imputation type</td>\n",
       "      <td id=\"T_a20e0_row9_col1\" class=\"data row9 col1\" >simple</td>\n",
       "    </tr>\n",
       "    <tr>\n",
       "      <th id=\"T_a20e0_level0_row10\" class=\"row_heading level0 row10\" >10</th>\n",
       "      <td id=\"T_a20e0_row10_col0\" class=\"data row10 col0\" >Numeric imputation</td>\n",
       "      <td id=\"T_a20e0_row10_col1\" class=\"data row10 col1\" >mean</td>\n",
       "    </tr>\n",
       "    <tr>\n",
       "      <th id=\"T_a20e0_level0_row11\" class=\"row_heading level0 row11\" >11</th>\n",
       "      <td id=\"T_a20e0_row11_col0\" class=\"data row11 col0\" >Categorical imputation</td>\n",
       "      <td id=\"T_a20e0_row11_col1\" class=\"data row11 col1\" >mode</td>\n",
       "    </tr>\n",
       "    <tr>\n",
       "      <th id=\"T_a20e0_level0_row12\" class=\"row_heading level0 row12\" >12</th>\n",
       "      <td id=\"T_a20e0_row12_col0\" class=\"data row12 col0\" >Fold Generator</td>\n",
       "      <td id=\"T_a20e0_row12_col1\" class=\"data row12 col1\" >KFold</td>\n",
       "    </tr>\n",
       "    <tr>\n",
       "      <th id=\"T_a20e0_level0_row13\" class=\"row_heading level0 row13\" >13</th>\n",
       "      <td id=\"T_a20e0_row13_col0\" class=\"data row13 col0\" >Fold Number</td>\n",
       "      <td id=\"T_a20e0_row13_col1\" class=\"data row13 col1\" >10</td>\n",
       "    </tr>\n",
       "    <tr>\n",
       "      <th id=\"T_a20e0_level0_row14\" class=\"row_heading level0 row14\" >14</th>\n",
       "      <td id=\"T_a20e0_row14_col0\" class=\"data row14 col0\" >CPU Jobs</td>\n",
       "      <td id=\"T_a20e0_row14_col1\" class=\"data row14 col1\" >-1</td>\n",
       "    </tr>\n",
       "    <tr>\n",
       "      <th id=\"T_a20e0_level0_row15\" class=\"row_heading level0 row15\" >15</th>\n",
       "      <td id=\"T_a20e0_row15_col0\" class=\"data row15 col0\" >Use GPU</td>\n",
       "      <td id=\"T_a20e0_row15_col1\" class=\"data row15 col1\" >False</td>\n",
       "    </tr>\n",
       "    <tr>\n",
       "      <th id=\"T_a20e0_level0_row16\" class=\"row_heading level0 row16\" >16</th>\n",
       "      <td id=\"T_a20e0_row16_col0\" class=\"data row16 col0\" >Log Experiment</td>\n",
       "      <td id=\"T_a20e0_row16_col1\" class=\"data row16 col1\" >False</td>\n",
       "    </tr>\n",
       "    <tr>\n",
       "      <th id=\"T_a20e0_level0_row17\" class=\"row_heading level0 row17\" >17</th>\n",
       "      <td id=\"T_a20e0_row17_col0\" class=\"data row17 col0\" >Experiment Name</td>\n",
       "      <td id=\"T_a20e0_row17_col1\" class=\"data row17 col1\" >reg-default-name</td>\n",
       "    </tr>\n",
       "    <tr>\n",
       "      <th id=\"T_a20e0_level0_row18\" class=\"row_heading level0 row18\" >18</th>\n",
       "      <td id=\"T_a20e0_row18_col0\" class=\"data row18 col0\" >USI</td>\n",
       "      <td id=\"T_a20e0_row18_col1\" class=\"data row18 col1\" >c2c5</td>\n",
       "    </tr>\n",
       "  </tbody>\n",
       "</table>\n"
      ],
      "text/plain": [
       "<pandas.io.formats.style.Styler at 0x7efe3ad58cd0>"
      ]
     },
     "metadata": {},
     "output_type": "display_data"
    },
    {
     "data": {
      "text/html": [],
      "text/plain": [
       "<IPython.core.display.HTML object>"
      ]
     },
     "metadata": {},
     "output_type": "display_data"
    },
    {
     "data": {
      "text/html": [
       "<style type=\"text/css\">\n",
       "#T_4d06c th {\n",
       "  text-align: left;\n",
       "}\n",
       "#T_4d06c_row0_col0, #T_4d06c_row0_col6, #T_4d06c_row1_col0, #T_4d06c_row1_col1, #T_4d06c_row1_col4, #T_4d06c_row1_col5, #T_4d06c_row1_col6, #T_4d06c_row2_col0, #T_4d06c_row2_col1, #T_4d06c_row2_col2, #T_4d06c_row2_col3, #T_4d06c_row2_col4, #T_4d06c_row2_col5, #T_4d06c_row2_col6, #T_4d06c_row3_col0, #T_4d06c_row3_col1, #T_4d06c_row3_col2, #T_4d06c_row3_col3, #T_4d06c_row3_col4, #T_4d06c_row3_col5, #T_4d06c_row3_col6, #T_4d06c_row4_col0, #T_4d06c_row4_col1, #T_4d06c_row4_col2, #T_4d06c_row4_col3, #T_4d06c_row4_col4, #T_4d06c_row4_col5, #T_4d06c_row4_col6, #T_4d06c_row5_col0, #T_4d06c_row5_col1, #T_4d06c_row5_col2, #T_4d06c_row5_col3, #T_4d06c_row5_col4, #T_4d06c_row5_col5, #T_4d06c_row5_col6, #T_4d06c_row6_col0, #T_4d06c_row6_col1, #T_4d06c_row6_col2, #T_4d06c_row6_col3, #T_4d06c_row6_col4, #T_4d06c_row6_col5, #T_4d06c_row6_col6, #T_4d06c_row7_col0, #T_4d06c_row7_col1, #T_4d06c_row7_col2, #T_4d06c_row7_col3, #T_4d06c_row7_col4, #T_4d06c_row7_col5, #T_4d06c_row7_col6, #T_4d06c_row8_col0, #T_4d06c_row8_col1, #T_4d06c_row8_col2, #T_4d06c_row8_col3, #T_4d06c_row8_col4, #T_4d06c_row8_col5, #T_4d06c_row8_col6, #T_4d06c_row9_col0, #T_4d06c_row9_col1, #T_4d06c_row9_col2, #T_4d06c_row9_col3, #T_4d06c_row9_col4, #T_4d06c_row9_col5, #T_4d06c_row9_col6, #T_4d06c_row10_col0, #T_4d06c_row10_col1, #T_4d06c_row10_col2, #T_4d06c_row10_col3, #T_4d06c_row10_col4, #T_4d06c_row10_col5, #T_4d06c_row10_col6, #T_4d06c_row11_col0, #T_4d06c_row11_col1, #T_4d06c_row11_col2, #T_4d06c_row11_col3, #T_4d06c_row11_col4, #T_4d06c_row11_col5, #T_4d06c_row11_col6, #T_4d06c_row12_col0, #T_4d06c_row12_col1, #T_4d06c_row12_col2, #T_4d06c_row12_col3, #T_4d06c_row12_col4, #T_4d06c_row12_col5, #T_4d06c_row12_col6, #T_4d06c_row13_col0, #T_4d06c_row13_col1, #T_4d06c_row13_col2, #T_4d06c_row13_col3, #T_4d06c_row13_col4, #T_4d06c_row13_col5, #T_4d06c_row13_col6, #T_4d06c_row14_col0, #T_4d06c_row14_col1, #T_4d06c_row14_col2, #T_4d06c_row14_col3, #T_4d06c_row14_col4, #T_4d06c_row14_col5, #T_4d06c_row14_col6, #T_4d06c_row15_col0, #T_4d06c_row15_col1, #T_4d06c_row15_col2, #T_4d06c_row15_col3, #T_4d06c_row15_col4, #T_4d06c_row15_col5, #T_4d06c_row15_col6, #T_4d06c_row16_col0, #T_4d06c_row16_col1, #T_4d06c_row16_col2, #T_4d06c_row16_col3, #T_4d06c_row16_col4, #T_4d06c_row16_col5, #T_4d06c_row16_col6, #T_4d06c_row17_col0, #T_4d06c_row17_col1, #T_4d06c_row17_col2, #T_4d06c_row17_col3, #T_4d06c_row17_col4, #T_4d06c_row17_col5 {\n",
       "  text-align: left;\n",
       "}\n",
       "#T_4d06c_row0_col1, #T_4d06c_row0_col2, #T_4d06c_row0_col3, #T_4d06c_row0_col4, #T_4d06c_row0_col5, #T_4d06c_row1_col2, #T_4d06c_row1_col3, #T_4d06c_row17_col6 {\n",
       "  text-align: left;\n",
       "  background-color: yellow;\n",
       "}\n",
       "#T_4d06c_row0_col7, #T_4d06c_row1_col7, #T_4d06c_row2_col7, #T_4d06c_row3_col7, #T_4d06c_row6_col7, #T_4d06c_row7_col7, #T_4d06c_row9_col7, #T_4d06c_row10_col7, #T_4d06c_row11_col7, #T_4d06c_row12_col7, #T_4d06c_row13_col7, #T_4d06c_row16_col7 {\n",
       "  text-align: left;\n",
       "  background-color: lightgrey;\n",
       "}\n",
       "#T_4d06c_row4_col7, #T_4d06c_row5_col7, #T_4d06c_row8_col7, #T_4d06c_row14_col7, #T_4d06c_row15_col7, #T_4d06c_row17_col7 {\n",
       "  text-align: left;\n",
       "  background-color: yellow;\n",
       "  background-color: lightgrey;\n",
       "}\n",
       "</style>\n",
       "<table id=\"T_4d06c\">\n",
       "  <thead>\n",
       "    <tr>\n",
       "      <th class=\"blank level0\" >&nbsp;</th>\n",
       "      <th id=\"T_4d06c_level0_col0\" class=\"col_heading level0 col0\" >Model</th>\n",
       "      <th id=\"T_4d06c_level0_col1\" class=\"col_heading level0 col1\" >MAE</th>\n",
       "      <th id=\"T_4d06c_level0_col2\" class=\"col_heading level0 col2\" >MSE</th>\n",
       "      <th id=\"T_4d06c_level0_col3\" class=\"col_heading level0 col3\" >RMSE</th>\n",
       "      <th id=\"T_4d06c_level0_col4\" class=\"col_heading level0 col4\" >R2</th>\n",
       "      <th id=\"T_4d06c_level0_col5\" class=\"col_heading level0 col5\" >RMSLE</th>\n",
       "      <th id=\"T_4d06c_level0_col6\" class=\"col_heading level0 col6\" >MAPE</th>\n",
       "      <th id=\"T_4d06c_level0_col7\" class=\"col_heading level0 col7\" >TT (Sec)</th>\n",
       "    </tr>\n",
       "  </thead>\n",
       "  <tbody>\n",
       "    <tr>\n",
       "      <th id=\"T_4d06c_level0_row0\" class=\"row_heading level0 row0\" >et</th>\n",
       "      <td id=\"T_4d06c_row0_col0\" class=\"data row0 col0\" >Extra Trees Regressor</td>\n",
       "      <td id=\"T_4d06c_row0_col1\" class=\"data row0 col1\" >0.31</td>\n",
       "      <td id=\"T_4d06c_row0_col2\" class=\"data row0 col2\" >0.24</td>\n",
       "      <td id=\"T_4d06c_row0_col3\" class=\"data row0 col3\" >0.49</td>\n",
       "      <td id=\"T_4d06c_row0_col4\" class=\"data row0 col4\" >0.78</td>\n",
       "      <td id=\"T_4d06c_row0_col5\" class=\"data row0 col5\" >0.22</td>\n",
       "      <td id=\"T_4d06c_row0_col6\" class=\"data row0 col6\" >3.87</td>\n",
       "      <td id=\"T_4d06c_row0_col7\" class=\"data row0 col7\" >0.95</td>\n",
       "    </tr>\n",
       "    <tr>\n",
       "      <th id=\"T_4d06c_level0_row1\" class=\"row_heading level0 row1\" >lightgbm</th>\n",
       "      <td id=\"T_4d06c_row1_col0\" class=\"data row1 col0\" >Light Gradient Boosting Machine</td>\n",
       "      <td id=\"T_4d06c_row1_col1\" class=\"data row1 col1\" >0.32</td>\n",
       "      <td id=\"T_4d06c_row1_col2\" class=\"data row1 col2\" >0.24</td>\n",
       "      <td id=\"T_4d06c_row1_col3\" class=\"data row1 col3\" >0.49</td>\n",
       "      <td id=\"T_4d06c_row1_col4\" class=\"data row1 col4\" >0.77</td>\n",
       "      <td id=\"T_4d06c_row1_col5\" class=\"data row1 col5\" >0.23</td>\n",
       "      <td id=\"T_4d06c_row1_col6\" class=\"data row1 col6\" >3.70</td>\n",
       "      <td id=\"T_4d06c_row1_col7\" class=\"data row1 col7\" >0.08</td>\n",
       "    </tr>\n",
       "    <tr>\n",
       "      <th id=\"T_4d06c_level0_row2\" class=\"row_heading level0 row2\" >rf</th>\n",
       "      <td id=\"T_4d06c_row2_col0\" class=\"data row2 col0\" >Random Forest Regressor</td>\n",
       "      <td id=\"T_4d06c_row2_col1\" class=\"data row2 col1\" >0.32</td>\n",
       "      <td id=\"T_4d06c_row2_col2\" class=\"data row2 col2\" >0.25</td>\n",
       "      <td id=\"T_4d06c_row2_col3\" class=\"data row2 col3\" >0.50</td>\n",
       "      <td id=\"T_4d06c_row2_col4\" class=\"data row2 col4\" >0.76</td>\n",
       "      <td id=\"T_4d06c_row2_col5\" class=\"data row2 col5\" >0.23</td>\n",
       "      <td id=\"T_4d06c_row2_col6\" class=\"data row2 col6\" >3.90</td>\n",
       "      <td id=\"T_4d06c_row2_col7\" class=\"data row2 col7\" >3.04</td>\n",
       "    </tr>\n",
       "    <tr>\n",
       "      <th id=\"T_4d06c_level0_row3\" class=\"row_heading level0 row3\" >gbr</th>\n",
       "      <td id=\"T_4d06c_row3_col0\" class=\"data row3 col0\" >Gradient Boosting Regressor</td>\n",
       "      <td id=\"T_4d06c_row3_col1\" class=\"data row3 col1\" >0.35</td>\n",
       "      <td id=\"T_4d06c_row3_col2\" class=\"data row3 col2\" >0.27</td>\n",
       "      <td id=\"T_4d06c_row3_col3\" class=\"data row3 col3\" >0.52</td>\n",
       "      <td id=\"T_4d06c_row3_col4\" class=\"data row3 col4\" >0.74</td>\n",
       "      <td id=\"T_4d06c_row3_col5\" class=\"data row3 col5\" >0.24</td>\n",
       "      <td id=\"T_4d06c_row3_col6\" class=\"data row3 col6\" >5.02</td>\n",
       "      <td id=\"T_4d06c_row3_col7\" class=\"data row3 col7\" >1.38</td>\n",
       "    </tr>\n",
       "    <tr>\n",
       "      <th id=\"T_4d06c_level0_row4\" class=\"row_heading level0 row4\" >ridge</th>\n",
       "      <td id=\"T_4d06c_row4_col0\" class=\"data row4 col0\" >Ridge Regression</td>\n",
       "      <td id=\"T_4d06c_row4_col1\" class=\"data row4 col1\" >0.45</td>\n",
       "      <td id=\"T_4d06c_row4_col2\" class=\"data row4 col2\" >0.42</td>\n",
       "      <td id=\"T_4d06c_row4_col3\" class=\"data row4 col3\" >0.65</td>\n",
       "      <td id=\"T_4d06c_row4_col4\" class=\"data row4 col4\" >0.60</td>\n",
       "      <td id=\"T_4d06c_row4_col5\" class=\"data row4 col5\" >0.29</td>\n",
       "      <td id=\"T_4d06c_row4_col6\" class=\"data row4 col6\" >7.83</td>\n",
       "      <td id=\"T_4d06c_row4_col7\" class=\"data row4 col7\" >0.01</td>\n",
       "    </tr>\n",
       "    <tr>\n",
       "      <th id=\"T_4d06c_level0_row5\" class=\"row_heading level0 row5\" >br</th>\n",
       "      <td id=\"T_4d06c_row5_col0\" class=\"data row5 col0\" >Bayesian Ridge</td>\n",
       "      <td id=\"T_4d06c_row5_col1\" class=\"data row5 col1\" >0.47</td>\n",
       "      <td id=\"T_4d06c_row5_col2\" class=\"data row5 col2\" >0.44</td>\n",
       "      <td id=\"T_4d06c_row5_col3\" class=\"data row5 col3\" >0.66</td>\n",
       "      <td id=\"T_4d06c_row5_col4\" class=\"data row5 col4\" >0.59</td>\n",
       "      <td id=\"T_4d06c_row5_col5\" class=\"data row5 col5\" >0.30</td>\n",
       "      <td id=\"T_4d06c_row5_col6\" class=\"data row5 col6\" >8.83</td>\n",
       "      <td id=\"T_4d06c_row5_col7\" class=\"data row5 col7\" >0.01</td>\n",
       "    </tr>\n",
       "    <tr>\n",
       "      <th id=\"T_4d06c_level0_row6\" class=\"row_heading level0 row6\" >ada</th>\n",
       "      <td id=\"T_4d06c_row6_col0\" class=\"data row6 col0\" >AdaBoost Regressor</td>\n",
       "      <td id=\"T_4d06c_row6_col1\" class=\"data row6 col1\" >0.50</td>\n",
       "      <td id=\"T_4d06c_row6_col2\" class=\"data row6 col2\" >0.46</td>\n",
       "      <td id=\"T_4d06c_row6_col3\" class=\"data row6 col3\" >0.67</td>\n",
       "      <td id=\"T_4d06c_row6_col4\" class=\"data row6 col4\" >0.57</td>\n",
       "      <td id=\"T_4d06c_row6_col5\" class=\"data row6 col5\" >0.32</td>\n",
       "      <td id=\"T_4d06c_row6_col6\" class=\"data row6 col6\" >7.32</td>\n",
       "      <td id=\"T_4d06c_row6_col7\" class=\"data row6 col7\" >0.35</td>\n",
       "    </tr>\n",
       "    <tr>\n",
       "      <th id=\"T_4d06c_level0_row7\" class=\"row_heading level0 row7\" >dt</th>\n",
       "      <td id=\"T_4d06c_row7_col0\" class=\"data row7 col0\" >Decision Tree Regressor</td>\n",
       "      <td id=\"T_4d06c_row7_col1\" class=\"data row7 col1\" >0.46</td>\n",
       "      <td id=\"T_4d06c_row7_col2\" class=\"data row7 col2\" >0.51</td>\n",
       "      <td id=\"T_4d06c_row7_col3\" class=\"data row7 col3\" >0.72</td>\n",
       "      <td id=\"T_4d06c_row7_col4\" class=\"data row7 col4\" >0.52</td>\n",
       "      <td id=\"T_4d06c_row7_col5\" class=\"data row7 col5\" >0.31</td>\n",
       "      <td id=\"T_4d06c_row7_col6\" class=\"data row7 col6\" >5.44</td>\n",
       "      <td id=\"T_4d06c_row7_col7\" class=\"data row7 col7\" >0.07</td>\n",
       "    </tr>\n",
       "    <tr>\n",
       "      <th id=\"T_4d06c_level0_row8\" class=\"row_heading level0 row8\" >lr</th>\n",
       "      <td id=\"T_4d06c_row8_col0\" class=\"data row8 col0\" >Linear Regression</td>\n",
       "      <td id=\"T_4d06c_row8_col1\" class=\"data row8 col1\" >0.50</td>\n",
       "      <td id=\"T_4d06c_row8_col2\" class=\"data row8 col2\" >0.55</td>\n",
       "      <td id=\"T_4d06c_row8_col3\" class=\"data row8 col3\" >0.74</td>\n",
       "      <td id=\"T_4d06c_row8_col4\" class=\"data row8 col4\" >0.49</td>\n",
       "      <td id=\"T_4d06c_row8_col5\" class=\"data row8 col5\" >0.32</td>\n",
       "      <td id=\"T_4d06c_row8_col6\" class=\"data row8 col6\" >10.12</td>\n",
       "      <td id=\"T_4d06c_row8_col7\" class=\"data row8 col7\" >0.01</td>\n",
       "    </tr>\n",
       "    <tr>\n",
       "      <th id=\"T_4d06c_level0_row9\" class=\"row_heading level0 row9\" >en</th>\n",
       "      <td id=\"T_4d06c_row9_col0\" class=\"data row9 col0\" >Elastic Net</td>\n",
       "      <td id=\"T_4d06c_row9_col1\" class=\"data row9 col1\" >0.51</td>\n",
       "      <td id=\"T_4d06c_row9_col2\" class=\"data row9 col2\" >0.58</td>\n",
       "      <td id=\"T_4d06c_row9_col3\" class=\"data row9 col3\" >0.76</td>\n",
       "      <td id=\"T_4d06c_row9_col4\" class=\"data row9 col4\" >0.46</td>\n",
       "      <td id=\"T_4d06c_row9_col5\" class=\"data row9 col5\" >0.33</td>\n",
       "      <td id=\"T_4d06c_row9_col6\" class=\"data row9 col6\" >9.15</td>\n",
       "      <td id=\"T_4d06c_row9_col7\" class=\"data row9 col7\" >0.02</td>\n",
       "    </tr>\n",
       "    <tr>\n",
       "      <th id=\"T_4d06c_level0_row10\" class=\"row_heading level0 row10\" >lasso</th>\n",
       "      <td id=\"T_4d06c_row10_col0\" class=\"data row10 col0\" >Lasso Regression</td>\n",
       "      <td id=\"T_4d06c_row10_col1\" class=\"data row10 col1\" >0.51</td>\n",
       "      <td id=\"T_4d06c_row10_col2\" class=\"data row10 col2\" >0.58</td>\n",
       "      <td id=\"T_4d06c_row10_col3\" class=\"data row10 col3\" >0.76</td>\n",
       "      <td id=\"T_4d06c_row10_col4\" class=\"data row10 col4\" >0.45</td>\n",
       "      <td id=\"T_4d06c_row10_col5\" class=\"data row10 col5\" >0.33</td>\n",
       "      <td id=\"T_4d06c_row10_col6\" class=\"data row10 col6\" >8.79</td>\n",
       "      <td id=\"T_4d06c_row10_col7\" class=\"data row10 col7\" >0.02</td>\n",
       "    </tr>\n",
       "    <tr>\n",
       "      <th id=\"T_4d06c_level0_row11\" class=\"row_heading level0 row11\" >llar</th>\n",
       "      <td id=\"T_4d06c_row11_col0\" class=\"data row11 col0\" >Lasso Least Angle Regression</td>\n",
       "      <td id=\"T_4d06c_row11_col1\" class=\"data row11 col1\" >0.51</td>\n",
       "      <td id=\"T_4d06c_row11_col2\" class=\"data row11 col2\" >0.58</td>\n",
       "      <td id=\"T_4d06c_row11_col3\" class=\"data row11 col3\" >0.76</td>\n",
       "      <td id=\"T_4d06c_row11_col4\" class=\"data row11 col4\" >0.45</td>\n",
       "      <td id=\"T_4d06c_row11_col5\" class=\"data row11 col5\" >0.33</td>\n",
       "      <td id=\"T_4d06c_row11_col6\" class=\"data row11 col6\" >8.79</td>\n",
       "      <td id=\"T_4d06c_row11_col7\" class=\"data row11 col7\" >0.02</td>\n",
       "    </tr>\n",
       "    <tr>\n",
       "      <th id=\"T_4d06c_level0_row12\" class=\"row_heading level0 row12\" >knn</th>\n",
       "      <td id=\"T_4d06c_row12_col0\" class=\"data row12 col0\" >K Neighbors Regressor</td>\n",
       "      <td id=\"T_4d06c_row12_col1\" class=\"data row12 col1\" >0.51</td>\n",
       "      <td id=\"T_4d06c_row12_col2\" class=\"data row12 col2\" >0.63</td>\n",
       "      <td id=\"T_4d06c_row12_col3\" class=\"data row12 col3\" >0.79</td>\n",
       "      <td id=\"T_4d06c_row12_col4\" class=\"data row12 col4\" >0.41</td>\n",
       "      <td id=\"T_4d06c_row12_col5\" class=\"data row12 col5\" >0.34</td>\n",
       "      <td id=\"T_4d06c_row12_col6\" class=\"data row12 col6\" >6.26</td>\n",
       "      <td id=\"T_4d06c_row12_col7\" class=\"data row12 col7\" >0.03</td>\n",
       "    </tr>\n",
       "    <tr>\n",
       "      <th id=\"T_4d06c_level0_row13\" class=\"row_heading level0 row13\" >huber</th>\n",
       "      <td id=\"T_4d06c_row13_col0\" class=\"data row13 col0\" >Huber Regressor</td>\n",
       "      <td id=\"T_4d06c_row13_col1\" class=\"data row13 col1\" >0.57</td>\n",
       "      <td id=\"T_4d06c_row13_col2\" class=\"data row13 col2\" >0.73</td>\n",
       "      <td id=\"T_4d06c_row13_col3\" class=\"data row13 col3\" >0.85</td>\n",
       "      <td id=\"T_4d06c_row13_col4\" class=\"data row13 col4\" >0.31</td>\n",
       "      <td id=\"T_4d06c_row13_col5\" class=\"data row13 col5\" >0.37</td>\n",
       "      <td id=\"T_4d06c_row13_col6\" class=\"data row13 col6\" >9.68</td>\n",
       "      <td id=\"T_4d06c_row13_col7\" class=\"data row13 col7\" >0.02</td>\n",
       "    </tr>\n",
       "    <tr>\n",
       "      <th id=\"T_4d06c_level0_row14\" class=\"row_heading level0 row14\" >omp</th>\n",
       "      <td id=\"T_4d06c_row14_col0\" class=\"data row14 col0\" >Orthogonal Matching Pursuit</td>\n",
       "      <td id=\"T_4d06c_row14_col1\" class=\"data row14 col1\" >0.57</td>\n",
       "      <td id=\"T_4d06c_row14_col2\" class=\"data row14 col2\" >0.75</td>\n",
       "      <td id=\"T_4d06c_row14_col3\" class=\"data row14 col3\" >0.87</td>\n",
       "      <td id=\"T_4d06c_row14_col4\" class=\"data row14 col4\" >0.29</td>\n",
       "      <td id=\"T_4d06c_row14_col5\" class=\"data row14 col5\" >0.38</td>\n",
       "      <td id=\"T_4d06c_row14_col6\" class=\"data row14 col6\" >8.65</td>\n",
       "      <td id=\"T_4d06c_row14_col7\" class=\"data row14 col7\" >0.01</td>\n",
       "    </tr>\n",
       "    <tr>\n",
       "      <th id=\"T_4d06c_level0_row15\" class=\"row_heading level0 row15\" >lar</th>\n",
       "      <td id=\"T_4d06c_row15_col0\" class=\"data row15 col0\" >Least Angle Regression</td>\n",
       "      <td id=\"T_4d06c_row15_col1\" class=\"data row15 col1\" >0.64</td>\n",
       "      <td id=\"T_4d06c_row15_col2\" class=\"data row15 col2\" >0.75</td>\n",
       "      <td id=\"T_4d06c_row15_col3\" class=\"data row15 col3\" >0.85</td>\n",
       "      <td id=\"T_4d06c_row15_col4\" class=\"data row15 col4\" >0.28</td>\n",
       "      <td id=\"T_4d06c_row15_col5\" class=\"data row15 col5\" >0.38</td>\n",
       "      <td id=\"T_4d06c_row15_col6\" class=\"data row15 col6\" >13.13</td>\n",
       "      <td id=\"T_4d06c_row15_col7\" class=\"data row15 col7\" >0.01</td>\n",
       "    </tr>\n",
       "    <tr>\n",
       "      <th id=\"T_4d06c_level0_row16\" class=\"row_heading level0 row16\" >par</th>\n",
       "      <td id=\"T_4d06c_row16_col0\" class=\"data row16 col0\" >Passive Aggressive Regressor</td>\n",
       "      <td id=\"T_4d06c_row16_col1\" class=\"data row16 col1\" >0.68</td>\n",
       "      <td id=\"T_4d06c_row16_col2\" class=\"data row16 col2\" >0.96</td>\n",
       "      <td id=\"T_4d06c_row16_col3\" class=\"data row16 col3\" >0.98</td>\n",
       "      <td id=\"T_4d06c_row16_col4\" class=\"data row16 col4\" >0.10</td>\n",
       "      <td id=\"T_4d06c_row16_col5\" class=\"data row16 col5\" >0.44</td>\n",
       "      <td id=\"T_4d06c_row16_col6\" class=\"data row16 col6\" >15.21</td>\n",
       "      <td id=\"T_4d06c_row16_col7\" class=\"data row16 col7\" >0.02</td>\n",
       "    </tr>\n",
       "    <tr>\n",
       "      <th id=\"T_4d06c_level0_row17\" class=\"row_heading level0 row17\" >dummy</th>\n",
       "      <td id=\"T_4d06c_row17_col0\" class=\"data row17 col0\" >Dummy Regressor</td>\n",
       "      <td id=\"T_4d06c_row17_col1\" class=\"data row17 col1\" >0.67</td>\n",
       "      <td id=\"T_4d06c_row17_col2\" class=\"data row17 col2\" >1.06</td>\n",
       "      <td id=\"T_4d06c_row17_col3\" class=\"data row17 col3\" >1.03</td>\n",
       "      <td id=\"T_4d06c_row17_col4\" class=\"data row17 col4\" >-0.00</td>\n",
       "      <td id=\"T_4d06c_row17_col5\" class=\"data row17 col5\" >0.49</td>\n",
       "      <td id=\"T_4d06c_row17_col6\" class=\"data row17 col6\" >3.14</td>\n",
       "      <td id=\"T_4d06c_row17_col7\" class=\"data row17 col7\" >0.01</td>\n",
       "    </tr>\n",
       "  </tbody>\n",
       "</table>\n"
      ],
      "text/plain": [
       "<pandas.io.formats.style.Styler at 0x7efe4bcadd10>"
      ]
     },
     "metadata": {},
     "output_type": "display_data"
    },
    {
     "data": {
      "text/html": [],
      "text/plain": [
       "<IPython.core.display.HTML object>"
      ]
     },
     "metadata": {},
     "output_type": "display_data"
    },
    {
     "name": "stderr",
     "output_type": "stream",
     "text": [
      "2023-11-24 09:38:02,247 - distributed.utils_perf - WARNING - full garbage collections took 36% CPU time recently (threshold: 10%)\n",
      "2023-11-24 09:38:02,658 - distributed.utils_perf - WARNING - full garbage collections took 37% CPU time recently (threshold: 10%)\n",
      "2023-11-24 09:38:03,065 - distributed.utils_perf - WARNING - full garbage collections took 40% CPU time recently (threshold: 10%)\n",
      "2023-11-24 09:38:03,459 - distributed.utils_perf - WARNING - full garbage collections took 46% CPU time recently (threshold: 10%)\n",
      "2023-11-24 09:38:03,890 - distributed.utils_perf - WARNING - full garbage collections took 46% CPU time recently (threshold: 10%)\n",
      "2023-11-24 09:38:04,325 - distributed.utils_perf - WARNING - full garbage collections took 46% CPU time recently (threshold: 10%)\n",
      "2023-11-24 09:38:04,835 - distributed.utils_perf - WARNING - full garbage collections took 46% CPU time recently (threshold: 10%)\n",
      "2023-11-24 09:38:05,366 - distributed.utils_perf - WARNING - full garbage collections took 46% CPU time recently (threshold: 10%)\n",
      "2023-11-24 09:38:06,302 - distributed.utils_perf - WARNING - full garbage collections took 46% CPU time recently (threshold: 10%)\n",
      "2023-11-24 09:38:36,962 - distributed.utils_perf - WARNING - full garbage collections took 46% CPU time recently (threshold: 10%)\n",
      "2023-11-24 09:38:46,833 - distributed.utils_perf - WARNING - full garbage collections took 46% CPU time recently (threshold: 10%)\n",
      "2023-11-24 09:38:50,562 - distributed.utils_perf - WARNING - full garbage collections took 46% CPU time recently (threshold: 10%)\n",
      "2023-11-24 09:39:04,682 - distributed.utils_perf - WARNING - full garbage collections took 46% CPU time recently (threshold: 10%)\n",
      "2023-11-24 09:39:05,788 - distributed.utils_perf - WARNING - full garbage collections took 45% CPU time recently (threshold: 10%)\n",
      "2023-11-24 09:39:06,220 - distributed.utils_perf - WARNING - full garbage collections took 45% CPU time recently (threshold: 10%)\n",
      "2023-11-24 09:39:07,559 - distributed.utils_perf - WARNING - full garbage collections took 46% CPU time recently (threshold: 10%)\n"
     ]
    }
   ],
   "source": [
    "X_keys = [\"biomass\", \"d2m\", \"mslhf\", \"msshf\", \"ssr\", \"str\", \"t2m\", \"spei\", \"NIRv\", \"skt\", \"stl1\", \"swvl1\", \"lccs_class\"]\n",
    "y_key = \"bio_flux_opt\"\n",
    "\n",
    "df_pycaret = df_train[X_keys + [y_key]]\n",
    "df_reduced = df_pycaret[::10]\n",
    "\n",
    "df_reduced[\"bio_flux_opt\"] = df_reduced[\"bio_flux_opt\"]*1e6  # So RMSE etc. are easier to interpret.\n",
    "\n",
    "import pycaret.regression\n",
    "pycs = pycaret.regression.setup(df_reduced, target=y_key)\n",
    "best = pycs.compare_models(round=2)"
   ]
  },
  {
   "cell_type": "markdown",
   "metadata": {},
   "source": [
    "However, in the feature importance plot you can see that the importance of NIRv is now reduced by including biomass info:"
   ]
  },
  {
   "cell_type": "code",
   "execution_count": 15,
   "metadata": {},
   "outputs": [
    {
     "data": {
      "text/html": [],
      "text/plain": [
       "<IPython.core.display.HTML object>"
      ]
     },
     "metadata": {},
     "output_type": "display_data"
    },
    {
     "data": {
      "image/png": "[encoded data removed]",
      "text/plain": [
       "<Figure size 800x500 with 1 Axes>"
      ]
     },
     "metadata": {},
     "output_type": "display_data"
    },
    {
     "name": "stderr",
     "output_type": "stream",
     "text": [
      "2023-11-24 09:39:08,266 - distributed.utils_perf - WARNING - full garbage collections took 45% CPU time recently (threshold: 10%)\n"
     ]
    }
   ],
   "source": [
    "pycs.plot_model(best[0], plot=\"feature\")"
   ]
  },
  {
   "cell_type": "markdown",
   "metadata": {},
   "source": [
    "However, this feature imporance depends on the model used. For a different well performing model, the feature imporance is the following:"
   ]
  },
  {
   "cell_type": "code",
   "execution_count": 16,
   "metadata": {},
   "outputs": [
    {
     "data": {
      "text/html": [],
      "text/plain": [
       "<IPython.core.display.HTML object>"
      ]
     },
     "metadata": {},
     "output_type": "display_data"
    },
    {
     "data": {
      "image/png": "[encoded data removed]",
      "text/plain": [
       "<Figure size 800x500 with 1 Axes>"
      ]
     },
     "metadata": {},
     "output_type": "display_data"
    },
    {
     "name": "stderr",
     "output_type": "stream",
     "text": [
      "2023-11-24 09:39:08,862 - distributed.utils_perf - WARNING - full garbage collections took 45% CPU time recently (threshold: 10%)\n"
     ]
    }
   ],
   "source": [
    "pycs.plot_model(best[3], plot=\"feature\")"
   ]
  }
 ],
 "metadata": {
  "kernelspec": {
   "display_name": "Python 3 (ipykernel)",
   "language": "python",
   "name": "python3"
  },
  "language_info": {
   "codemirror_mode": {
    "name": "ipython",
    "version": 3
   },
   "file_extension": ".py",
   "mimetype": "text/x-python",
   "name": "python",
   "nbconvert_exporter": "python",
   "pygments_lexer": "ipython3",
   "version": "3.11.4"
  }
 },
 "nbformat": 4,
 "nbformat_minor": 4
}
