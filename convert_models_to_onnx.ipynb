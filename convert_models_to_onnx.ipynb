{
 "cells": [
  {
   "cell_type": "markdown",
   "metadata": {},
   "source": [
    "### Convert models to ONNX\n",
    "This notebook shows how to convert trained `sklearn` and `lightgbm` models to `.onnx` format. <br>\n",
    "Note that we need to use different convert packages for different models, for instance:\n",
    "- `sklearn` models -> `skl2onnx` -> `onnx`\n",
    "- `lightgbm` models -> `onnxmltools` -> `onnx`"
   ]
  },
  {
   "cell_type": "markdown",
   "metadata": {},
   "source": [
    "First let's load some testing data (ERA5 monthly) and train a random forest model & a lightgbm model using `pycaret`."
   ]
  },
  {
   "cell_type": "code",
   "execution_count": 2,
   "metadata": {},
   "outputs": [],
   "source": [
    "from excited_workflow.source_datasets import datasets\n",
    "\n",
    "ds_era5 = datasets[\"era5_monthly\"].load(freq=\"monthly\")"
   ]
  },
  {
   "cell_type": "code",
   "execution_count": 3,
   "metadata": {},
   "outputs": [],
   "source": [
    "# simply for a demo purpose, just select a small subset of data\n",
    "region_na = {\n",
    "    \"time\": slice(\"2011-01\", \"2020-12\"),\n",
    "    \"latitude\": slice(35, 45),\n",
    "    \"longitude\": slice(-100, -80),\n",
    "}\n",
    "\n",
    "ds_na = ds_era5.sel(region_na)\n",
    "ds_na = ds_na.compute()"
   ]
  },
  {
   "cell_type": "code",
   "execution_count": 4,
   "metadata": {},
   "outputs": [
    {
     "data": {
      "text/html": [
       "<div>\n",
       "<style scoped>\n",
       "    .dataframe tbody tr th:only-of-type {\n",
       "        vertical-align: middle;\n",
       "    }\n",
       "\n",
       "    .dataframe tbody tr th {\n",
       "        vertical-align: top;\n",
       "    }\n",
       "\n",
       "    .dataframe thead th {\n",
       "        text-align: right;\n",
       "    }\n",
       "</style>\n",
       "<table border=\"1\" class=\"dataframe\">\n",
       "  <thead>\n",
       "    <tr style=\"text-align: right;\">\n",
       "      <th></th>\n",
       "      <th>longitude</th>\n",
       "      <th>latitude</th>\n",
       "      <th>time</th>\n",
       "      <th>d2m</th>\n",
       "      <th>mslhf</th>\n",
       "      <th>msshf</th>\n",
       "      <th>sp</th>\n",
       "      <th>ssr</th>\n",
       "      <th>str</th>\n",
       "      <th>t2m</th>\n",
       "      <th>tp</th>\n",
       "      <th>tvh</th>\n",
       "      <th>tvl</th>\n",
       "    </tr>\n",
       "  </thead>\n",
       "  <tbody>\n",
       "    <tr>\n",
       "      <th>0</th>\n",
       "      <td>-100.0</td>\n",
       "      <td>35.0</td>\n",
       "      <td>2011-01-01</td>\n",
       "      <td>265.978210</td>\n",
       "      <td>-9.946487</td>\n",
       "      <td>-23.942078</td>\n",
       "      <td>94947.640625</td>\n",
       "      <td>9983198.0</td>\n",
       "      <td>-6937689.0</td>\n",
       "      <td>275.272034</td>\n",
       "      <td>0.000137</td>\n",
       "      <td>0.0</td>\n",
       "      <td>2.000061</td>\n",
       "    </tr>\n",
       "    <tr>\n",
       "      <th>1</th>\n",
       "      <td>-100.0</td>\n",
       "      <td>35.0</td>\n",
       "      <td>2011-02-01</td>\n",
       "      <td>267.362335</td>\n",
       "      <td>-16.657578</td>\n",
       "      <td>-33.071938</td>\n",
       "      <td>94850.507812</td>\n",
       "      <td>11984707.0</td>\n",
       "      <td>-7182347.0</td>\n",
       "      <td>277.808563</td>\n",
       "      <td>0.000757</td>\n",
       "      <td>0.0</td>\n",
       "      <td>2.000061</td>\n",
       "    </tr>\n",
       "    <tr>\n",
       "      <th>2</th>\n",
       "      <td>-100.0</td>\n",
       "      <td>35.0</td>\n",
       "      <td>2011-03-01</td>\n",
       "      <td>273.300537</td>\n",
       "      <td>-31.519485</td>\n",
       "      <td>-54.177166</td>\n",
       "      <td>94689.757812</td>\n",
       "      <td>16281364.0</td>\n",
       "      <td>-8147597.5</td>\n",
       "      <td>285.099396</td>\n",
       "      <td>0.000285</td>\n",
       "      <td>0.0</td>\n",
       "      <td>2.000061</td>\n",
       "    </tr>\n",
       "  </tbody>\n",
       "</table>\n",
       "</div>"
      ],
      "text/plain": [
       "   longitude  latitude       time         d2m      mslhf      msshf  \\\n",
       "0     -100.0      35.0 2011-01-01  265.978210  -9.946487 -23.942078   \n",
       "1     -100.0      35.0 2011-02-01  267.362335 -16.657578 -33.071938   \n",
       "2     -100.0      35.0 2011-03-01  273.300537 -31.519485 -54.177166   \n",
       "\n",
       "             sp         ssr        str         t2m        tp  tvh       tvl  \n",
       "0  94947.640625   9983198.0 -6937689.0  275.272034  0.000137  0.0  2.000061  \n",
       "1  94850.507812  11984707.0 -7182347.0  277.808563  0.000757  0.0  2.000061  \n",
       "2  94689.757812  16281364.0 -8147597.5  285.099396  0.000285  0.0  2.000061  "
      ]
     },
     "execution_count": 4,
     "metadata": {},
     "output_type": "execute_result"
    }
   ],
   "source": [
    "# convert to pandas dataframe\n",
    "df_train = ds_na.to_dataframe().dropna().reset_index()\n",
    "df_train.head(3)"
   ]
  },
  {
   "cell_type": "code",
   "execution_count": 5,
   "metadata": {},
   "outputs": [
    {
     "data": {
      "text/html": [
       "<style type=\"text/css\">\n",
       "#T_2df09_row8_col1 {\n",
       "  background-color: lightgreen;\n",
       "}\n",
       "</style>\n",
       "<table id=\"T_2df09\">\n",
       "  <thead>\n",
       "    <tr>\n",
       "      <th class=\"blank level0\" >&nbsp;</th>\n",
       "      <th id=\"T_2df09_level0_col0\" class=\"col_heading level0 col0\" >Description</th>\n",
       "      <th id=\"T_2df09_level0_col1\" class=\"col_heading level0 col1\" >Value</th>\n",
       "    </tr>\n",
       "  </thead>\n",
       "  <tbody>\n",
       "    <tr>\n",
       "      <th id=\"T_2df09_level0_row0\" class=\"row_heading level0 row0\" >0</th>\n",
       "      <td id=\"T_2df09_row0_col0\" class=\"data row0 col0\" >Session id</td>\n",
       "      <td id=\"T_2df09_row0_col1\" class=\"data row0 col1\" >7581</td>\n",
       "    </tr>\n",
       "    <tr>\n",
       "      <th id=\"T_2df09_level0_row1\" class=\"row_heading level0 row1\" >1</th>\n",
       "      <td id=\"T_2df09_row1_col0\" class=\"data row1 col0\" >Target</td>\n",
       "      <td id=\"T_2df09_row1_col1\" class=\"data row1 col1\" >t2m</td>\n",
       "    </tr>\n",
       "    <tr>\n",
       "      <th id=\"T_2df09_level0_row2\" class=\"row_heading level0 row2\" >2</th>\n",
       "      <td id=\"T_2df09_row2_col0\" class=\"data row2 col0\" >Target type</td>\n",
       "      <td id=\"T_2df09_row2_col1\" class=\"data row2 col1\" >Regression</td>\n",
       "    </tr>\n",
       "    <tr>\n",
       "      <th id=\"T_2df09_level0_row3\" class=\"row_heading level0 row3\" >3</th>\n",
       "      <td id=\"T_2df09_row3_col0\" class=\"data row3 col0\" >Original data shape</td>\n",
       "      <td id=\"T_2df09_row3_col1\" class=\"data row3 col1\" >(39852, 6)</td>\n",
       "    </tr>\n",
       "    <tr>\n",
       "      <th id=\"T_2df09_level0_row4\" class=\"row_heading level0 row4\" >4</th>\n",
       "      <td id=\"T_2df09_row4_col0\" class=\"data row4 col0\" >Transformed data shape</td>\n",
       "      <td id=\"T_2df09_row4_col1\" class=\"data row4 col1\" >(39852, 6)</td>\n",
       "    </tr>\n",
       "    <tr>\n",
       "      <th id=\"T_2df09_level0_row5\" class=\"row_heading level0 row5\" >5</th>\n",
       "      <td id=\"T_2df09_row5_col0\" class=\"data row5 col0\" >Transformed train set shape</td>\n",
       "      <td id=\"T_2df09_row5_col1\" class=\"data row5 col1\" >(27896, 6)</td>\n",
       "    </tr>\n",
       "    <tr>\n",
       "      <th id=\"T_2df09_level0_row6\" class=\"row_heading level0 row6\" >6</th>\n",
       "      <td id=\"T_2df09_row6_col0\" class=\"data row6 col0\" >Transformed test set shape</td>\n",
       "      <td id=\"T_2df09_row6_col1\" class=\"data row6 col1\" >(11956, 6)</td>\n",
       "    </tr>\n",
       "    <tr>\n",
       "      <th id=\"T_2df09_level0_row7\" class=\"row_heading level0 row7\" >7</th>\n",
       "      <td id=\"T_2df09_row7_col0\" class=\"data row7 col0\" >Numeric features</td>\n",
       "      <td id=\"T_2df09_row7_col1\" class=\"data row7 col1\" >5</td>\n",
       "    </tr>\n",
       "    <tr>\n",
       "      <th id=\"T_2df09_level0_row8\" class=\"row_heading level0 row8\" >8</th>\n",
       "      <td id=\"T_2df09_row8_col0\" class=\"data row8 col0\" >Preprocess</td>\n",
       "      <td id=\"T_2df09_row8_col1\" class=\"data row8 col1\" >True</td>\n",
       "    </tr>\n",
       "    <tr>\n",
       "      <th id=\"T_2df09_level0_row9\" class=\"row_heading level0 row9\" >9</th>\n",
       "      <td id=\"T_2df09_row9_col0\" class=\"data row9 col0\" >Imputation type</td>\n",
       "      <td id=\"T_2df09_row9_col1\" class=\"data row9 col1\" >simple</td>\n",
       "    </tr>\n",
       "    <tr>\n",
       "      <th id=\"T_2df09_level0_row10\" class=\"row_heading level0 row10\" >10</th>\n",
       "      <td id=\"T_2df09_row10_col0\" class=\"data row10 col0\" >Numeric imputation</td>\n",
       "      <td id=\"T_2df09_row10_col1\" class=\"data row10 col1\" >mean</td>\n",
       "    </tr>\n",
       "    <tr>\n",
       "      <th id=\"T_2df09_level0_row11\" class=\"row_heading level0 row11\" >11</th>\n",
       "      <td id=\"T_2df09_row11_col0\" class=\"data row11 col0\" >Categorical imputation</td>\n",
       "      <td id=\"T_2df09_row11_col1\" class=\"data row11 col1\" >mode</td>\n",
       "    </tr>\n",
       "    <tr>\n",
       "      <th id=\"T_2df09_level0_row12\" class=\"row_heading level0 row12\" >12</th>\n",
       "      <td id=\"T_2df09_row12_col0\" class=\"data row12 col0\" >Fold Generator</td>\n",
       "      <td id=\"T_2df09_row12_col1\" class=\"data row12 col1\" >KFold</td>\n",
       "    </tr>\n",
       "    <tr>\n",
       "      <th id=\"T_2df09_level0_row13\" class=\"row_heading level0 row13\" >13</th>\n",
       "      <td id=\"T_2df09_row13_col0\" class=\"data row13 col0\" >Fold Number</td>\n",
       "      <td id=\"T_2df09_row13_col1\" class=\"data row13 col1\" >10</td>\n",
       "    </tr>\n",
       "    <tr>\n",
       "      <th id=\"T_2df09_level0_row14\" class=\"row_heading level0 row14\" >14</th>\n",
       "      <td id=\"T_2df09_row14_col0\" class=\"data row14 col0\" >CPU Jobs</td>\n",
       "      <td id=\"T_2df09_row14_col1\" class=\"data row14 col1\" >-1</td>\n",
       "    </tr>\n",
       "    <tr>\n",
       "      <th id=\"T_2df09_level0_row15\" class=\"row_heading level0 row15\" >15</th>\n",
       "      <td id=\"T_2df09_row15_col0\" class=\"data row15 col0\" >Use GPU</td>\n",
       "      <td id=\"T_2df09_row15_col1\" class=\"data row15 col1\" >False</td>\n",
       "    </tr>\n",
       "    <tr>\n",
       "      <th id=\"T_2df09_level0_row16\" class=\"row_heading level0 row16\" >16</th>\n",
       "      <td id=\"T_2df09_row16_col0\" class=\"data row16 col0\" >Log Experiment</td>\n",
       "      <td id=\"T_2df09_row16_col1\" class=\"data row16 col1\" >False</td>\n",
       "    </tr>\n",
       "    <tr>\n",
       "      <th id=\"T_2df09_level0_row17\" class=\"row_heading level0 row17\" >17</th>\n",
       "      <td id=\"T_2df09_row17_col0\" class=\"data row17 col0\" >Experiment Name</td>\n",
       "      <td id=\"T_2df09_row17_col1\" class=\"data row17 col1\" >reg-default-name</td>\n",
       "    </tr>\n",
       "    <tr>\n",
       "      <th id=\"T_2df09_level0_row18\" class=\"row_heading level0 row18\" >18</th>\n",
       "      <td id=\"T_2df09_row18_col0\" class=\"data row18 col0\" >USI</td>\n",
       "      <td id=\"T_2df09_row18_col1\" class=\"data row18 col1\" >d08a</td>\n",
       "    </tr>\n",
       "  </tbody>\n",
       "</table>\n"
      ],
      "text/plain": [
       "<pandas.io.formats.style.Styler at 0x7f2f3600d030>"
      ]
     },
     "metadata": {},
     "output_type": "display_data"
    },
    {
     "data": {
      "text/html": [],
      "text/plain": [
       "<IPython.core.display.HTML object>"
      ]
     },
     "metadata": {},
     "output_type": "display_data"
    },
    {
     "data": {
      "text/html": [
       "<style type=\"text/css\">\n",
       "#T_bcbbf th {\n",
       "  text-align: left;\n",
       "}\n",
       "#T_bcbbf_row0_col0, #T_bcbbf_row1_col0, #T_bcbbf_row1_col1, #T_bcbbf_row1_col2, #T_bcbbf_row1_col3 {\n",
       "  text-align: left;\n",
       "}\n",
       "#T_bcbbf_row0_col1, #T_bcbbf_row0_col2, #T_bcbbf_row0_col3, #T_bcbbf_row0_col4, #T_bcbbf_row0_col5, #T_bcbbf_row0_col6, #T_bcbbf_row1_col4, #T_bcbbf_row1_col5, #T_bcbbf_row1_col6 {\n",
       "  text-align: left;\n",
       "  background-color: yellow;\n",
       "}\n",
       "#T_bcbbf_row0_col7 {\n",
       "  text-align: left;\n",
       "  background-color: lightgrey;\n",
       "}\n",
       "#T_bcbbf_row1_col7 {\n",
       "  text-align: left;\n",
       "  background-color: yellow;\n",
       "  background-color: lightgrey;\n",
       "}\n",
       "</style>\n",
       "<table id=\"T_bcbbf\">\n",
       "  <thead>\n",
       "    <tr>\n",
       "      <th class=\"blank level0\" >&nbsp;</th>\n",
       "      <th id=\"T_bcbbf_level0_col0\" class=\"col_heading level0 col0\" >Model</th>\n",
       "      <th id=\"T_bcbbf_level0_col1\" class=\"col_heading level0 col1\" >MAE</th>\n",
       "      <th id=\"T_bcbbf_level0_col2\" class=\"col_heading level0 col2\" >MSE</th>\n",
       "      <th id=\"T_bcbbf_level0_col3\" class=\"col_heading level0 col3\" >RMSE</th>\n",
       "      <th id=\"T_bcbbf_level0_col4\" class=\"col_heading level0 col4\" >R2</th>\n",
       "      <th id=\"T_bcbbf_level0_col5\" class=\"col_heading level0 col5\" >RMSLE</th>\n",
       "      <th id=\"T_bcbbf_level0_col6\" class=\"col_heading level0 col6\" >MAPE</th>\n",
       "      <th id=\"T_bcbbf_level0_col7\" class=\"col_heading level0 col7\" >TT (Sec)</th>\n",
       "    </tr>\n",
       "  </thead>\n",
       "  <tbody>\n",
       "    <tr>\n",
       "      <th id=\"T_bcbbf_level0_row0\" class=\"row_heading level0 row0\" >rf</th>\n",
       "      <td id=\"T_bcbbf_row0_col0\" class=\"data row0 col0\" >Random Forest Regressor</td>\n",
       "      <td id=\"T_bcbbf_row0_col1\" class=\"data row0 col1\" >0.25</td>\n",
       "      <td id=\"T_bcbbf_row0_col2\" class=\"data row0 col2\" >0.14</td>\n",
       "      <td id=\"T_bcbbf_row0_col3\" class=\"data row0 col3\" >0.37</td>\n",
       "      <td id=\"T_bcbbf_row0_col4\" class=\"data row0 col4\" >1.00</td>\n",
       "      <td id=\"T_bcbbf_row0_col5\" class=\"data row0 col5\" >0.00</td>\n",
       "      <td id=\"T_bcbbf_row0_col6\" class=\"data row0 col6\" >0.00</td>\n",
       "      <td id=\"T_bcbbf_row0_col7\" class=\"data row0 col7\" >3.57</td>\n",
       "    </tr>\n",
       "    <tr>\n",
       "      <th id=\"T_bcbbf_level0_row1\" class=\"row_heading level0 row1\" >lightgbm</th>\n",
       "      <td id=\"T_bcbbf_row1_col0\" class=\"data row1 col0\" >Light Gradient Boosting Machine</td>\n",
       "      <td id=\"T_bcbbf_row1_col1\" class=\"data row1 col1\" >0.37</td>\n",
       "      <td id=\"T_bcbbf_row1_col2\" class=\"data row1 col2\" >0.25</td>\n",
       "      <td id=\"T_bcbbf_row1_col3\" class=\"data row1 col3\" >0.50</td>\n",
       "      <td id=\"T_bcbbf_row1_col4\" class=\"data row1 col4\" >1.00</td>\n",
       "      <td id=\"T_bcbbf_row1_col5\" class=\"data row1 col5\" >0.00</td>\n",
       "      <td id=\"T_bcbbf_row1_col6\" class=\"data row1 col6\" >0.00</td>\n",
       "      <td id=\"T_bcbbf_row1_col7\" class=\"data row1 col7\" >0.16</td>\n",
       "    </tr>\n",
       "  </tbody>\n",
       "</table>\n"
      ],
      "text/plain": [
       "<pandas.io.formats.style.Styler at 0x7f2f53aa6e60>"
      ]
     },
     "metadata": {},
     "output_type": "display_data"
    },
    {
     "data": {
      "text/html": [],
      "text/plain": [
       "<IPython.core.display.HTML object>"
      ]
     },
     "metadata": {},
     "output_type": "display_data"
    }
   ],
   "source": [
    "X_keys = [\"d2m\", \"mslhf\", \"msshf\", \"ssr\", \"str\", ]\n",
    "y_key = \"t2m\"\n",
    "\n",
    "df_pycaret = df_train[X_keys + [y_key]]\n",
    "df_reduced = df_pycaret[::10]\n",
    "\n",
    "import pycaret.regression\n",
    "pycs = pycaret.regression.setup(df_reduced, target=y_key)\n",
    "best = pycs.compare_models(include=[\"rf\", \"lightgbm\"], n_select=2, round=2)"
   ]
  },
  {
   "cell_type": "markdown",
   "metadata": {},
   "source": [
    "Pycaret supports ONNX and model trained with pycaret can be converted to an ONNX model easiliy following this tutorial:\n",
    "https://pycaret.gitbook.io/docs/learn-pycaret/official-blog/deploy-pycaret-models-on-edge-with-onnx-runtime\n",
    "\n",
    "With `skl2onnx` we can easily convert our random forest regressor (`sklearn` model) to onnx model.\n",
    "\n",
    "More details can be found in the API summary:\n",
    "https://onnx.ai/sklearn-onnx/api_summary.html#skl2onnx.to_onnx"
   ]
  },
  {
   "cell_type": "code",
   "execution_count": 5,
   "metadata": {},
   "outputs": [
    {
     "data": {
      "text/html": [
       "<style>#sk-container-id-1 {color: black;background-color: white;}#sk-container-id-1 pre{padding: 0;}#sk-container-id-1 div.sk-toggleable {background-color: white;}#sk-container-id-1 label.sk-toggleable__label {cursor: pointer;display: block;width: 100%;margin-bottom: 0;padding: 0.3em;box-sizing: border-box;text-align: center;}#sk-container-id-1 label.sk-toggleable__label-arrow:before {content: \"▸\";float: left;margin-right: 0.25em;color: #696969;}#sk-container-id-1 label.sk-toggleable__label-arrow:hover:before {color: black;}#sk-container-id-1 div.sk-estimator:hover label.sk-toggleable__label-arrow:before {color: black;}#sk-container-id-1 div.sk-toggleable__content {max-height: 0;max-width: 0;overflow: hidden;text-align: left;background-color: #f0f8ff;}#sk-container-id-1 div.sk-toggleable__content pre {margin: 0.2em;color: black;border-radius: 0.25em;background-color: #f0f8ff;}#sk-container-id-1 input.sk-toggleable__control:checked~div.sk-toggleable__content {max-height: 200px;max-width: 100%;overflow: auto;}#sk-container-id-1 input.sk-toggleable__control:checked~label.sk-toggleable__label-arrow:before {content: \"▾\";}#sk-container-id-1 div.sk-estimator input.sk-toggleable__control:checked~label.sk-toggleable__label {background-color: #d4ebff;}#sk-container-id-1 div.sk-label input.sk-toggleable__control:checked~label.sk-toggleable__label {background-color: #d4ebff;}#sk-container-id-1 input.sk-hidden--visually {border: 0;clip: rect(1px 1px 1px 1px);clip: rect(1px, 1px, 1px, 1px);height: 1px;margin: -1px;overflow: hidden;padding: 0;position: absolute;width: 1px;}#sk-container-id-1 div.sk-estimator {font-family: monospace;background-color: #f0f8ff;border: 1px dotted black;border-radius: 0.25em;box-sizing: border-box;margin-bottom: 0.5em;}#sk-container-id-1 div.sk-estimator:hover {background-color: #d4ebff;}#sk-container-id-1 div.sk-parallel-item::after {content: \"\";width: 100%;border-bottom: 1px solid gray;flex-grow: 1;}#sk-container-id-1 div.sk-label:hover label.sk-toggleable__label {background-color: #d4ebff;}#sk-container-id-1 div.sk-serial::before {content: \"\";position: absolute;border-left: 1px solid gray;box-sizing: border-box;top: 0;bottom: 0;left: 50%;z-index: 0;}#sk-container-id-1 div.sk-serial {display: flex;flex-direction: column;align-items: center;background-color: white;padding-right: 0.2em;padding-left: 0.2em;position: relative;}#sk-container-id-1 div.sk-item {position: relative;z-index: 1;}#sk-container-id-1 div.sk-parallel {display: flex;align-items: stretch;justify-content: center;background-color: white;position: relative;}#sk-container-id-1 div.sk-item::before, #sk-container-id-1 div.sk-parallel-item::before {content: \"\";position: absolute;border-left: 1px solid gray;box-sizing: border-box;top: 0;bottom: 0;left: 50%;z-index: -1;}#sk-container-id-1 div.sk-parallel-item {display: flex;flex-direction: column;z-index: 1;position: relative;background-color: white;}#sk-container-id-1 div.sk-parallel-item:first-child::after {align-self: flex-end;width: 50%;}#sk-container-id-1 div.sk-parallel-item:last-child::after {align-self: flex-start;width: 50%;}#sk-container-id-1 div.sk-parallel-item:only-child::after {width: 0;}#sk-container-id-1 div.sk-dashed-wrapped {border: 1px dashed gray;margin: 0 0.4em 0.5em 0.4em;box-sizing: border-box;padding-bottom: 0.4em;background-color: white;}#sk-container-id-1 div.sk-label label {font-family: monospace;font-weight: bold;display: inline-block;line-height: 1.2em;}#sk-container-id-1 div.sk-label-container {text-align: center;}#sk-container-id-1 div.sk-container {/* jupyter's `normalize.less` sets `[hidden] { display: none; }` but bootstrap.min.css set `[hidden] { display: none !important; }` so we also need the `!important` here to be able to override the default hidden behavior on the sphinx rendered scikit-learn.org. See: https://github.com/scikit-learn/scikit-learn/issues/21755 */display: inline-block !important;position: relative;}#sk-container-id-1 div.sk-text-repr-fallback {display: none;}</style><div id=\"sk-container-id-1\" class=\"sk-top-container\"><div class=\"sk-text-repr-fallback\"><pre>RandomForestRegressor(n_jobs=-1, random_state=4014)</pre><b>In a Jupyter environment, please rerun this cell to show the HTML representation or trust the notebook. <br />On GitHub, the HTML representation is unable to render, please try loading this page with nbviewer.org.</b></div><div class=\"sk-container\" hidden><div class=\"sk-item\"><div class=\"sk-estimator sk-toggleable\"><input class=\"sk-toggleable__control sk-hidden--visually\" id=\"sk-estimator-id-1\" type=\"checkbox\" checked><label for=\"sk-estimator-id-1\" class=\"sk-toggleable__label sk-toggleable__label-arrow\">RandomForestRegressor</label><div class=\"sk-toggleable__content\"><pre>RandomForestRegressor(n_jobs=-1, random_state=4014)</pre></div></div></div></div></div>"
      ],
      "text/plain": [
       "RandomForestRegressor(n_jobs=-1, random_state=4014)"
      ]
     },
     "execution_count": 5,
     "metadata": {},
     "output_type": "execute_result"
    }
   ],
   "source": [
    "rfr = best[0]\n",
    "rfr"
   ]
  },
  {
   "cell_type": "code",
   "execution_count": 6,
   "metadata": {},
   "outputs": [],
   "source": [
    "# convert model from pycaret to onnx\n",
    "from skl2onnx import to_onnx\n",
    "X_sample = pycs.get_config('X_train')[:1]\n",
    "model_onnx = to_onnx(rfr, X_sample.to_numpy())"
   ]
  },
  {
   "cell_type": "code",
   "execution_count": null,
   "metadata": {},
   "outputs": [],
   "source": [
    "# save model\n",
    "with open(\"./rfr.onnx\", \"wb\") as f:\n",
    "    f.write(model_onnx.SerializeToString())"
   ]
  },
  {
   "cell_type": "code",
   "execution_count": 7,
   "metadata": {},
   "outputs": [],
   "source": [
    "# generate inference with onnx model\n",
    "from onnxruntime import InferenceSession\n",
    "sess = InferenceSession(model_onnx.SerializeToString())\n",
    "X_test = pycs.get_config('X_test').to_numpy()\n",
    "predictions_onnx = sess.run(None, {'X': X_test})[0]"
   ]
  },
  {
   "cell_type": "markdown",
   "metadata": {},
   "source": [
    "Verify saved model."
   ]
  },
  {
   "cell_type": "code",
   "execution_count": 8,
   "metadata": {},
   "outputs": [
    {
     "data": {
      "text/plain": [
       "True"
      ]
     },
     "execution_count": 8,
     "metadata": {},
     "output_type": "execute_result"
    }
   ],
   "source": [
    "import numpy as np\n",
    "predictions_best = rfr.predict(X_test)\n",
    "np.allclose(predictions_onnx[:, 0], predictions_best, equal_nan=True)"
   ]
  },
  {
   "cell_type": "markdown",
   "metadata": {},
   "source": [
    "For `lightGBM` model, we need `onnxmltools` to convert it to onnx. <br>\n",
    "\n",
    "Note that `onnxmltools` is only compatible with `lightgbm<=3.3.5`."
   ]
  },
  {
   "cell_type": "code",
   "execution_count": 9,
   "metadata": {},
   "outputs": [
    {
     "data": {
      "text/html": [
       "<style>#sk-container-id-2 {color: black;background-color: white;}#sk-container-id-2 pre{padding: 0;}#sk-container-id-2 div.sk-toggleable {background-color: white;}#sk-container-id-2 label.sk-toggleable__label {cursor: pointer;display: block;width: 100%;margin-bottom: 0;padding: 0.3em;box-sizing: border-box;text-align: center;}#sk-container-id-2 label.sk-toggleable__label-arrow:before {content: \"▸\";float: left;margin-right: 0.25em;color: #696969;}#sk-container-id-2 label.sk-toggleable__label-arrow:hover:before {color: black;}#sk-container-id-2 div.sk-estimator:hover label.sk-toggleable__label-arrow:before {color: black;}#sk-container-id-2 div.sk-toggleable__content {max-height: 0;max-width: 0;overflow: hidden;text-align: left;background-color: #f0f8ff;}#sk-container-id-2 div.sk-toggleable__content pre {margin: 0.2em;color: black;border-radius: 0.25em;background-color: #f0f8ff;}#sk-container-id-2 input.sk-toggleable__control:checked~div.sk-toggleable__content {max-height: 200px;max-width: 100%;overflow: auto;}#sk-container-id-2 input.sk-toggleable__control:checked~label.sk-toggleable__label-arrow:before {content: \"▾\";}#sk-container-id-2 div.sk-estimator input.sk-toggleable__control:checked~label.sk-toggleable__label {background-color: #d4ebff;}#sk-container-id-2 div.sk-label input.sk-toggleable__control:checked~label.sk-toggleable__label {background-color: #d4ebff;}#sk-container-id-2 input.sk-hidden--visually {border: 0;clip: rect(1px 1px 1px 1px);clip: rect(1px, 1px, 1px, 1px);height: 1px;margin: -1px;overflow: hidden;padding: 0;position: absolute;width: 1px;}#sk-container-id-2 div.sk-estimator {font-family: monospace;background-color: #f0f8ff;border: 1px dotted black;border-radius: 0.25em;box-sizing: border-box;margin-bottom: 0.5em;}#sk-container-id-2 div.sk-estimator:hover {background-color: #d4ebff;}#sk-container-id-2 div.sk-parallel-item::after {content: \"\";width: 100%;border-bottom: 1px solid gray;flex-grow: 1;}#sk-container-id-2 div.sk-label:hover label.sk-toggleable__label {background-color: #d4ebff;}#sk-container-id-2 div.sk-serial::before {content: \"\";position: absolute;border-left: 1px solid gray;box-sizing: border-box;top: 0;bottom: 0;left: 50%;z-index: 0;}#sk-container-id-2 div.sk-serial {display: flex;flex-direction: column;align-items: center;background-color: white;padding-right: 0.2em;padding-left: 0.2em;position: relative;}#sk-container-id-2 div.sk-item {position: relative;z-index: 1;}#sk-container-id-2 div.sk-parallel {display: flex;align-items: stretch;justify-content: center;background-color: white;position: relative;}#sk-container-id-2 div.sk-item::before, #sk-container-id-2 div.sk-parallel-item::before {content: \"\";position: absolute;border-left: 1px solid gray;box-sizing: border-box;top: 0;bottom: 0;left: 50%;z-index: -1;}#sk-container-id-2 div.sk-parallel-item {display: flex;flex-direction: column;z-index: 1;position: relative;background-color: white;}#sk-container-id-2 div.sk-parallel-item:first-child::after {align-self: flex-end;width: 50%;}#sk-container-id-2 div.sk-parallel-item:last-child::after {align-self: flex-start;width: 50%;}#sk-container-id-2 div.sk-parallel-item:only-child::after {width: 0;}#sk-container-id-2 div.sk-dashed-wrapped {border: 1px dashed gray;margin: 0 0.4em 0.5em 0.4em;box-sizing: border-box;padding-bottom: 0.4em;background-color: white;}#sk-container-id-2 div.sk-label label {font-family: monospace;font-weight: bold;display: inline-block;line-height: 1.2em;}#sk-container-id-2 div.sk-label-container {text-align: center;}#sk-container-id-2 div.sk-container {/* jupyter's `normalize.less` sets `[hidden] { display: none; }` but bootstrap.min.css set `[hidden] { display: none !important; }` so we also need the `!important` here to be able to override the default hidden behavior on the sphinx rendered scikit-learn.org. See: https://github.com/scikit-learn/scikit-learn/issues/21755 */display: inline-block !important;position: relative;}#sk-container-id-2 div.sk-text-repr-fallback {display: none;}</style><div id=\"sk-container-id-2\" class=\"sk-top-container\"><div class=\"sk-text-repr-fallback\"><pre>LGBMRegressor(random_state=4014)</pre><b>In a Jupyter environment, please rerun this cell to show the HTML representation or trust the notebook. <br />On GitHub, the HTML representation is unable to render, please try loading this page with nbviewer.org.</b></div><div class=\"sk-container\" hidden><div class=\"sk-item\"><div class=\"sk-estimator sk-toggleable\"><input class=\"sk-toggleable__control sk-hidden--visually\" id=\"sk-estimator-id-2\" type=\"checkbox\" checked><label for=\"sk-estimator-id-2\" class=\"sk-toggleable__label sk-toggleable__label-arrow\">LGBMRegressor</label><div class=\"sk-toggleable__content\"><pre>LGBMRegressor(random_state=4014)</pre></div></div></div></div></div>"
      ],
      "text/plain": [
       "LGBMRegressor(random_state=4014)"
      ]
     },
     "execution_count": 9,
     "metadata": {},
     "output_type": "execute_result"
    }
   ],
   "source": [
    "lightgbm = best[1]\n",
    "lightgbm"
   ]
  },
  {
   "cell_type": "markdown",
   "metadata": {},
   "source": [
    "Note that the user needs to tell the converter the initial type of input. For instance,\n",
    "`initial_types=[('X', FloatTensorType([None, X_test.shape[1]]))])`\n",
    "indicates that input name will be `X`, input type is `FloatTensorType`, the batch size is unknown (`None`) and the number of channels are `X_test.shape[1]`."
   ]
  },
  {
   "cell_type": "code",
   "execution_count": 10,
   "metadata": {},
   "outputs": [
    {
     "name": "stderr",
     "output_type": "stream",
     "text": [
      "The maximum opset needed by this model is only 8.\n"
     ]
    }
   ],
   "source": [
    "import onnxmltools\n",
    "from skl2onnx.common.data_types import FloatTensorType\n",
    "\n",
    "# Convert the LightGBM model into ONNX\n",
    "# The initial_types argument is a python list.\n",
    "# Each element is a tuple of a variable name and a type defined\n",
    "#  in onnxconverter_common/data_types.py\n",
    "lightgbm_onnx = onnxmltools.convert_lightgbm(lightgbm,\n",
    "                                             initial_types=[('X', FloatTensorType([None, X_test.shape[1]]))])"
   ]
  },
  {
   "cell_type": "code",
   "execution_count": null,
   "metadata": {},
   "outputs": [],
   "source": [
    "# save model\n",
    "with open(\"./lightgbm.onnx\", \"wb\") as f:\n",
    "    f.write(lightgbm_onnx.SerializeToString())"
   ]
  },
  {
   "cell_type": "code",
   "execution_count": 11,
   "metadata": {},
   "outputs": [],
   "source": [
    "sess = InferenceSession(lightgbm_onnx.SerializeToString())\n",
    "predictions_onnx = sess.run(None, {'X': X_test})[0]"
   ]
  },
  {
   "cell_type": "markdown",
   "metadata": {},
   "source": [
    "Verify saved model."
   ]
  },
  {
   "cell_type": "code",
   "execution_count": 16,
   "metadata": {},
   "outputs": [
    {
     "data": {
      "text/plain": [
       "True"
      ]
     },
     "execution_count": 16,
     "metadata": {},
     "output_type": "execute_result"
    }
   ],
   "source": [
    "predictions_lightgbm = lightgbm.predict(X_test)\n",
    "np.allclose(predictions_onnx[:, 0], predictions_lightgbm, atol=1e-2, equal_nan=True)"
   ]
  }
 ],
 "metadata": {
  "kernelspec": {
   "display_name": "excited",
   "language": "python",
   "name": "python3"
  },
  "language_info": {
   "codemirror_mode": {
    "name": "ipython",
    "version": 3
   },
   "file_extension": ".py",
   "mimetype": "text/x-python",
   "name": "python",
   "nbconvert_exporter": "python",
   "pygments_lexer": "ipython3",
   "version": "3.10.12"
  },
  "orig_nbformat": 4
 },
 "nbformat": 4,
 "nbformat_minor": 2
}
