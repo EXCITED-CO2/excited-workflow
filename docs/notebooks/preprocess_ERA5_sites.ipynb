{
 "cells": [
  {
   "attachments": {},
   "cell_type": "markdown",
   "metadata": {},
   "source": [
    "# Preprocessing ERA5\n",
    "Please first download the data outlined in the README file.\n",
    "\n",
    "We begin the preprocessing by starting up dask:"
   ]
  },
  {
   "cell_type": "code",
   "execution_count": null,
   "metadata": {},
   "outputs": [],
   "source": [
    "from dask.distributed import Client\n",
    "client = Client(n_workers=4, threads_per_worker=2)\n",
    "client"
   ]
  },
  {
   "attachments": {},
   "cell_type": "markdown",
   "metadata": {},
   "source": [
    "Now we can use the site extraction function to extract the ERA5 data per site per variable.\n",
    "\n",
    "This preprocessed data is stored in the specified output folder as netCDF files.\n",
    "\n",
    "If you want to add an extra variable or site, not all the data has to be reprocessed: if files already exist they are skipped.\n",
    "This makes it more efficient to explore the workflow."
   ]
  },
  {
   "cell_type": "code",
   "execution_count": null,
   "metadata": {},
   "outputs": [],
   "source": [
    "from src import generate_training_data\n",
    "from pathlib import Path\n",
    "\n",
    "generate_training_data.extract_per_site_era5_data(\n",
    "    preprocessed_ameriflux_data=Path(\"/home/bart/Data/EXCITED/NEE_ameriflux_transcom2.nc\"),\n",
    "    era5_data_folder=Path(\"/media/bart/OS/Data/hourly_era5\"),\n",
    "    output_folder=Path(\"/home/bart/Data/EXCITED/prep_era5\"),\n",
    ")"
   ]
  },
  {
   "attachments": {},
   "cell_type": "markdown",
   "metadata": {},
   "source": [
    "After preprocessing all data, you can continue to training the model!"
   ]
  }
 ],
 "metadata": {
  "kernelspec": {
   "display_name": ".venv",
   "language": "python",
   "name": "python3"
  },
  "language_info": {
   "codemirror_mode": {
    "name": "ipython",
    "version": 3
   },
   "file_extension": ".py",
   "mimetype": "text/x-python",
   "name": "python",
   "nbconvert_exporter": "python",
   "pygments_lexer": "ipython3",
   "version": "3.10.6"
  },
  "orig_nbformat": 4
 },
 "nbformat": 4,
 "nbformat_minor": 2
}
